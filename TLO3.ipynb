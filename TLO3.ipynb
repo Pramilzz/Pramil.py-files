{
 "cells": [
  {
   "cell_type": "code",
   "execution_count": 1,
   "id": "8bca6a49",
   "metadata": {},
   "outputs": [],
   "source": [
    "#TLO 3 wise practice"
   ]
  },
  {
   "cell_type": "code",
   "execution_count": 2,
   "id": "c2962909",
   "metadata": {},
   "outputs": [
    {
     "name": "stdout",
     "output_type": "stream",
     "text": [
      "pythonprogramming\n"
     ]
    }
   ],
   "source": [
    "#1. concatenate the two string and find the lingth of the concatenate string\n",
    "# Defining strings\n",
    "var1 = \"python\"\n",
    "var2 = \"programming\"\n",
    " \n",
    "# + Operator is used to combine strings\n",
    "var3 = var1 + var2\n",
    "print(var3)"
   ]
  },
  {
   "cell_type": "code",
   "execution_count": 3,
   "id": "60801ed2",
   "metadata": {},
   "outputs": [
    {
     "data": {
      "text/plain": [
       "'pythonprogramming'"
      ]
     },
     "execution_count": 3,
     "metadata": {},
     "output_type": "execute_result"
    }
   ],
   "source": [
    "var3"
   ]
  },
  {
   "cell_type": "code",
   "execution_count": 4,
   "id": "d1cd58f9",
   "metadata": {},
   "outputs": [
    {
     "data": {
      "text/plain": [
       "17"
      ]
     },
     "execution_count": 4,
     "metadata": {},
     "output_type": "execute_result"
    }
   ],
   "source": [
    "len(var3)"
   ]
  },
  {
   "cell_type": "code",
   "execution_count": 5,
   "id": "f441e1b0",
   "metadata": {},
   "outputs": [
    {
     "name": "stdout",
     "output_type": "stream",
     "text": [
      "value associated with key'B': 2\n"
     ]
    }
   ],
   "source": [
    "#2.use a dictionary to store the following key value pairs:{\"A\":1,\"B\":2,\"c\":3}\n",
    "my_dict={\"A\":1,\"B\":2,\"c\":3}\n",
    "value=my_dict.get(\"B\")\n",
    "print(\"value associated with key'B':\",value)"
   ]
  },
  {
   "cell_type": "code",
   "execution_count": 6,
   "id": "4b7f50ad",
   "metadata": {},
   "outputs": [
    {
     "name": "stdout",
     "output_type": "stream",
     "text": [
      "length of the tuple: 5\n"
     ]
    }
   ],
   "source": [
    "#3.creat a tuple with the following elements:1,4,9,16,25.find the length of the tuple\n",
    "my_tuple=(1,4,9,16,25)\n",
    "length=len(my_tuple)\n",
    "print (\"length of the tuple:\",length)\n"
   ]
  },
  {
   "cell_type": "code",
   "execution_count": 7,
   "id": "bdff950c",
   "metadata": {},
   "outputs": [
    {
     "name": "stdout",
     "output_type": "stream",
     "text": [
      "length of the set: 4\n"
     ]
    }
   ],
   "source": [
    "#4.creat a set with the some elements and find the length of the set\n",
    "my_set={1,2,3,4}\n",
    "length=len(my_set)\n",
    "print(\"length of the set:\",length)"
   ]
  },
  {
   "cell_type": "code",
   "execution_count": 8,
   "id": "8dfa0eab",
   "metadata": {},
   "outputs": [
    {
     "name": "stdout",
     "output_type": "stream",
     "text": [
      "maximum value: 9\n",
      "minimum value: 1\n"
     ]
    }
   ],
   "source": [
    "#5.find the maximum and minimun values in a list\n",
    "my_list=[4,6,2,9,1,3]\n",
    "max_value=max(my_list)\n",
    "min_value=min(my_list)\n",
    "print(\"maximum value:\",max_value)\n",
    "print(\"minimum value:\",min_value)"
   ]
  },
  {
   "cell_type": "code",
   "execution_count": 9,
   "id": "da6e8a27",
   "metadata": {},
   "outputs": [
    {
     "name": "stdout",
     "output_type": "stream",
     "text": [
      "merged dictionary: {'A': 1, 'B': 2, 'C': 3, 'D': 4, 'E': 5, 'F': 6}\n"
     ]
    }
   ],
   "source": [
    "#6. merge two dictionaries\n",
    "dict1={\"A\":1,\"B\":2,\"C\":3}\n",
    "dict2={\"D\":4,\"E\":5,\"F\":6}\n",
    "merged_dict={**dict1,**dict2}\n",
    "print(\"merged dictionary:\",merged_dict)"
   ]
  },
  {
   "cell_type": "code",
   "execution_count": 10,
   "id": "52bca212",
   "metadata": {},
   "outputs": [
    {
     "name": "stdout",
     "output_type": "stream",
     "text": [
      "set without duplicates: {1, 2, 3, 4, 5}\n"
     ]
    }
   ],
   "source": [
    "#7.Remove duplicates from a list and creat a new set\n",
    "my_list=[1,2,3,4,5,2,3,4]\n",
    "unique_set=set(my_list)\n",
    "print(\"set without duplicates:\",unique_set)"
   ]
  },
  {
   "cell_type": "code",
   "execution_count": null,
   "id": "4fc8c053",
   "metadata": {},
   "outputs": [],
   "source": []
  }
 ],
 "metadata": {
  "kernelspec": {
   "display_name": "Python 3 (ipykernel)",
   "language": "python",
   "name": "python3"
  },
  "language_info": {
   "codemirror_mode": {
    "name": "ipython",
    "version": 3
   },
   "file_extension": ".py",
   "mimetype": "text/x-python",
   "name": "python",
   "nbconvert_exporter": "python",
   "pygments_lexer": "ipython3",
   "version": "3.10.9"
  }
 },
 "nbformat": 4,
 "nbformat_minor": 5
}
