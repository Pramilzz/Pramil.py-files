{
 "cells": [
  {
   "cell_type": "code",
   "execution_count": 3,
   "id": "a8e02484",
   "metadata": {},
   "outputs": [],
   "source": [
    "a='Pramil rai'"
   ]
  },
  {
   "cell_type": "code",
   "execution_count": 4,
   "id": "308733d7",
   "metadata": {},
   "outputs": [
    {
     "data": {
      "text/plain": [
       "'afrom Parengown'"
      ]
     },
     "execution_count": 4,
     "metadata": {},
     "output_type": "execute_result"
    }
   ],
   "source": [
    "'a'+ 'from Parengown'"
   ]
  },
  {
   "cell_type": "code",
   "execution_count": 5,
   "id": "2f51c60e",
   "metadata": {},
   "outputs": [
    {
     "data": {
      "text/plain": [
       "'Pramil rai'"
      ]
     },
     "execution_count": 5,
     "metadata": {},
     "output_type": "execute_result"
    }
   ],
   "source": [
    "a"
   ]
  },
  {
   "cell_type": "code",
   "execution_count": 6,
   "id": "c6c11c1b",
   "metadata": {},
   "outputs": [
    {
     "data": {
      "text/plain": [
       "'afrom Prarengown'"
      ]
     },
     "execution_count": 6,
     "metadata": {},
     "output_type": "execute_result"
    }
   ],
   "source": [
    "'a'+'from Prarengown'"
   ]
  },
  {
   "cell_type": "code",
   "execution_count": 9,
   "id": "addee8df",
   "metadata": {},
   "outputs": [
    {
     "name": "stdout",
     "output_type": "stream",
     "text": [
      "hellow my name is Pramil rai\n"
     ]
    }
   ],
   "source": [
    "my_name = 'Pramil rai'\n",
    "print('hellow my name is '+ my_name)"
   ]
  },
  {
   "cell_type": "code",
   "execution_count": null,
   "id": "5fb6c26d",
   "metadata": {},
   "outputs": [],
   "source": [
    "#.format method"
   ]
  },
  {
   "cell_type": "code",
   "execution_count": 10,
   "id": "cbfc15d9",
   "metadata": {},
   "outputs": [],
   "source": [
    "# 'string here {} {} {}' . format(something1, something2, something3)"
   ]
  },
  {
   "cell_type": "code",
   "execution_count": 11,
   "id": "fdce18fb",
   "metadata": {},
   "outputs": [
    {
     "name": "stdout",
     "output_type": "stream",
     "text": [
      "i am a student of medhavi skills university\n"
     ]
    }
   ],
   "source": [
    "print('i am a student of {}' .format('medhavi skills university'))"
   ]
  },
  {
   "cell_type": "code",
   "execution_count": 16,
   "id": "348c077f",
   "metadata": {},
   "outputs": [
    {
     "name": "stdout",
     "output_type": "stream",
     "text": [
      "my name is pramil rai  from parengown west sikkim.\n"
     ]
    }
   ],
   "source": [
    "print('my name is pramil rai {f}{p}{w}{s}.' .format(w=' west', s=' sikkim', p=' parengown',f=' from'))"
   ]
  },
  {
   "cell_type": "code",
   "execution_count": null,
   "id": "dae6f8bc",
   "metadata": {},
   "outputs": [],
   "source": []
  },
  {
   "cell_type": "code",
   "execution_count": null,
   "id": "9696d977",
   "metadata": {},
   "outputs": [],
   "source": []
  }
 ],
 "metadata": {
  "kernelspec": {
   "display_name": "Python 3 (ipykernel)",
   "language": "python",
   "name": "python3"
  },
  "language_info": {
   "codemirror_mode": {
    "name": "ipython",
    "version": 3
   },
   "file_extension": ".py",
   "mimetype": "text/x-python",
   "name": "python",
   "nbconvert_exporter": "python",
   "pygments_lexer": "ipython3",
   "version": "3.10.9"
  }
 },
 "nbformat": 4,
 "nbformat_minor": 5
}
