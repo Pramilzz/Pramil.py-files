{
 "cells": [
  {
   "cell_type": "code",
   "execution_count": 3,
   "id": "d366fb71",
   "metadata": {},
   "outputs": [],
   "source": [
    "#nested statement and scope"
   ]
  },
  {
   "cell_type": "code",
   "execution_count": 7,
   "id": "b0a881dd",
   "metadata": {},
   "outputs": [],
   "source": [
    "x=25\n",
    "def printer():\n",
    "    x=50\n",
    "    return x"
   ]
  },
  {
   "cell_type": "code",
   "execution_count": 8,
   "id": "323e6973",
   "metadata": {},
   "outputs": [
    {
     "name": "stdout",
     "output_type": "stream",
     "text": [
      "25\n"
     ]
    }
   ],
   "source": [
    "print(x)"
   ]
  },
  {
   "cell_type": "code",
   "execution_count": 9,
   "id": "69594d52",
   "metadata": {},
   "outputs": [
    {
     "name": "stdout",
     "output_type": "stream",
     "text": [
      "50\n"
     ]
    }
   ],
   "source": [
    "print(printer())"
   ]
  },
  {
   "cell_type": "code",
   "execution_count": 10,
   "id": "8bfc2375",
   "metadata": {},
   "outputs": [],
   "source": [
    "#L-local\n",
    "#E-enclosing function locals\n",
    "#G-global\n",
    "#B-built-in"
   ]
  },
  {
   "cell_type": "code",
   "execution_count": 11,
   "id": "09c8a933",
   "metadata": {},
   "outputs": [
    {
     "data": {
      "text/plain": [
       "<function __main__.<lambda>(num)>"
      ]
     },
     "execution_count": 11,
     "metadata": {},
     "output_type": "execute_result"
    }
   ],
   "source": [
    "#lambda num:num**2"
   ]
  },
  {
   "cell_type": "code",
   "execution_count": 14,
   "id": "e518e02d",
   "metadata": {},
   "outputs": [],
   "source": [
    "def greet():\n",
    "    name='Pramil'\n",
    "    def hello():\n",
    "        print('hello'+name)\n",
    "    hello()"
   ]
  },
  {
   "cell_type": "code",
   "execution_count": 15,
   "id": "bb9f9f85",
   "metadata": {},
   "outputs": [
    {
     "name": "stdout",
     "output_type": "stream",
     "text": [
      "helloPramil\n"
     ]
    }
   ],
   "source": [
    "greet()"
   ]
  },
  {
   "cell_type": "code",
   "execution_count": 17,
   "id": "86031bb9",
   "metadata": {},
   "outputs": [],
   "source": [
    "name='in a global'\n",
    "def greer():\n",
    "    name='Pramil'\n",
    "    def hello():\n",
    "        name\n",
    "        print('hello'+name)\n",
    "    hello()"
   ]
  },
  {
   "cell_type": "raw",
   "id": "836857e7",
   "metadata": {},
   "source": [
    "greet()"
   ]
  },
  {
   "cell_type": "code",
   "execution_count": 19,
   "id": "02225707",
   "metadata": {},
   "outputs": [],
   "source": [
    "x=200\n",
    "def printer():\n",
    "    x=50\n",
    "    return x"
   ]
  },
  {
   "cell_type": "code",
   "execution_count": 20,
   "id": "728ba820",
   "metadata": {},
   "outputs": [
    {
     "name": "stdout",
     "output_type": "stream",
     "text": [
      "200\n"
     ]
    }
   ],
   "source": [
    "print(x)"
   ]
  },
  {
   "cell_type": "code",
   "execution_count": 21,
   "id": "673e93f6",
   "metadata": {},
   "outputs": [
    {
     "name": "stdout",
     "output_type": "stream",
     "text": [
      "50\n"
     ]
    }
   ],
   "source": [
    "print(printer())"
   ]
  },
  {
   "cell_type": "code",
   "execution_count": 24,
   "id": "be98541f",
   "metadata": {},
   "outputs": [],
   "source": [
    "#global refreshment\n",
    "x=200\n",
    "def printer():\n",
    "    #local refreshment\n",
    "    x=50\n",
    "    print(f'I just changed local{x} to {x}')\n",
    "    "
   ]
  },
  {
   "cell_type": "code",
   "execution_count": 25,
   "id": "c8ce0fbd",
   "metadata": {},
   "outputs": [
    {
     "name": "stdout",
     "output_type": "stream",
     "text": [
      "I just changed local50 to 50\n",
      "None\n"
     ]
    }
   ],
   "source": [
    "print(printer())"
   ]
  },
  {
   "cell_type": "code",
   "execution_count": 27,
   "id": "db08c6be",
   "metadata": {},
   "outputs": [
    {
     "name": "stdout",
     "output_type": "stream",
     "text": [
      "200\n"
     ]
    }
   ],
   "source": [
    "print(x)"
   ]
  },
  {
   "cell_type": "code",
   "execution_count": null,
   "id": "9d6b4a84",
   "metadata": {},
   "outputs": [],
   "source": [
    "x=40 \n",
    "def func(x):\n",
    "    print(f'x is{x}')\n",
    "    x='new value'\n",
    "    print(f'we just changed global x to {x}')\n",
    "    \n",
    "    "
   ]
  }
 ],
 "metadata": {
  "kernelspec": {
   "display_name": "Python 3 (ipykernel)",
   "language": "python",
   "name": "python3"
  },
  "language_info": {
   "codemirror_mode": {
    "name": "ipython",
    "version": 3
   },
   "file_extension": ".py",
   "mimetype": "text/x-python",
   "name": "python",
   "nbconvert_exporter": "python",
   "pygments_lexer": "ipython3",
   "version": "3.10.9"
  }
 },
 "nbformat": 4,
 "nbformat_minor": 5
}
