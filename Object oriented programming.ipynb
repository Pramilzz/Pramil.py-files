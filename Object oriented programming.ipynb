{
 "cells": [
  {
   "cell_type": "code",
   "execution_count": 23,
   "id": "19d8ee0a",
   "metadata": {},
   "outputs": [],
   "source": [
    "mylist=[1,2,3]"
   ]
  },
  {
   "cell_type": "code",
   "execution_count": 24,
   "id": "cfb00db2",
   "metadata": {},
   "outputs": [
    {
     "data": {
      "text/plain": [
       "[1, 2, 3]"
      ]
     },
     "execution_count": 24,
     "metadata": {},
     "output_type": "execute_result"
    }
   ],
   "source": [
    "mylist"
   ]
  },
  {
   "cell_type": "code",
   "execution_count": 25,
   "id": "500e4bad",
   "metadata": {},
   "outputs": [],
   "source": [
    "mylist = [1,2,3,4,4,5,5]"
   ]
  },
  {
   "cell_type": "code",
   "execution_count": 26,
   "id": "b805b716",
   "metadata": {},
   "outputs": [],
   "source": [
    "myset = set()"
   ]
  },
  {
   "cell_type": "code",
   "execution_count": 27,
   "id": "fa2f9de3",
   "metadata": {},
   "outputs": [
    {
     "ename": "SyntaxError",
     "evalue": "invalid syntax (1540679646.py, line 1)",
     "output_type": "error",
     "traceback": [
      "\u001b[1;36m  Cell \u001b[1;32mIn[27], line 1\u001b[1;36m\u001b[0m\n\u001b[1;33m    myset.\u001b[0m\n\u001b[1;37m          ^\u001b[0m\n\u001b[1;31mSyntaxError\u001b[0m\u001b[1;31m:\u001b[0m invalid syntax\n"
     ]
    }
   ],
   "source": [
    "myset."
   ]
  },
  {
   "cell_type": "code",
   "execution_count": 28,
   "id": "818f1b71",
   "metadata": {},
   "outputs": [],
   "source": [
    "class Sample():\n",
    "    pass"
   ]
  },
  {
   "cell_type": "code",
   "execution_count": 29,
   "id": "2855857c",
   "metadata": {},
   "outputs": [],
   "source": [
    "my_sample = Sample()"
   ]
  },
  {
   "cell_type": "code",
   "execution_count": 30,
   "id": "58507560",
   "metadata": {},
   "outputs": [
    {
     "data": {
      "text/plain": [
       "__main__.Sample"
      ]
     },
     "execution_count": 30,
     "metadata": {},
     "output_type": "execute_result"
    }
   ],
   "source": [
    "type(my_sample)"
   ]
  },
  {
   "cell_type": "code",
   "execution_count": 31,
   "id": "86c6e51c",
   "metadata": {},
   "outputs": [],
   "source": [
    "class Dog():\n",
    "    def __init__(self,breed):\n",
    "        self.breed = breed\n",
    "        "
   ]
  },
  {
   "cell_type": "code",
   "execution_count": 32,
   "id": "2c2f8833",
   "metadata": {},
   "outputs": [],
   "source": [
    "my_dog = Dog ('Lab')"
   ]
  },
  {
   "cell_type": "code",
   "execution_count": 33,
   "id": "15a623df",
   "metadata": {},
   "outputs": [
    {
     "data": {
      "text/plain": [
       "__main__.Dog"
      ]
     },
     "execution_count": 33,
     "metadata": {},
     "output_type": "execute_result"
    }
   ],
   "source": [
    "type(my_dog)"
   ]
  },
  {
   "cell_type": "code",
   "execution_count": 34,
   "id": "47ffc26a",
   "metadata": {},
   "outputs": [
    {
     "data": {
      "text/plain": [
       "'Lab'"
      ]
     },
     "execution_count": 34,
     "metadata": {},
     "output_type": "execute_result"
    }
   ],
   "source": [
    "my_dog.breed#click tab"
   ]
  },
  {
   "cell_type": "code",
   "execution_count": 35,
   "id": "45cc2ff2",
   "metadata": {},
   "outputs": [],
   "source": [
    "class Dog():\n",
    "    #Attributed\n",
    "    #we take in the arguemnt\n",
    "    #assign it to self .attribute\n",
    "    def __init__(self,mybreed):\n",
    "        self.breed = mybreed\n",
    "        "
   ]
  },
  {
   "cell_type": "code",
   "execution_count": 36,
   "id": "4af5041b",
   "metadata": {},
   "outputs": [],
   "source": [
    "my_dog = Dog('Anish')"
   ]
  },
  {
   "cell_type": "code",
   "execution_count": 37,
   "id": "550b5ada",
   "metadata": {},
   "outputs": [
    {
     "data": {
      "text/plain": [
       "'Anish'"
      ]
     },
     "execution_count": 37,
     "metadata": {},
     "output_type": "execute_result"
    }
   ],
   "source": [
    "my_dog.breed"
   ]
  },
  {
   "cell_type": "code",
   "execution_count": 38,
   "id": "8ac72c0e",
   "metadata": {},
   "outputs": [],
   "source": [
    "class Dog():\n",
    "    #Attributed\n",
    "    #we take in the arguemnt\n",
    "    #assign it to self .attribute\n",
    "    def __init__(self,mybreed):\n",
    "        self.my_attribute = mybreed\n",
    "        "
   ]
  },
  {
   "cell_type": "code",
   "execution_count": 39,
   "id": "518c28c4",
   "metadata": {},
   "outputs": [],
   "source": [
    "my_dog = Dog('Lab')"
   ]
  },
  {
   "cell_type": "code",
   "execution_count": 40,
   "id": "c82a96ba",
   "metadata": {},
   "outputs": [
    {
     "data": {
      "text/plain": [
       "'Lab'"
      ]
     },
     "execution_count": 40,
     "metadata": {},
     "output_type": "execute_result"
    }
   ],
   "source": [
    "my_dog.my_attribute"
   ]
  },
  {
   "cell_type": "code",
   "execution_count": 41,
   "id": "8efb3435",
   "metadata": {},
   "outputs": [],
   "source": [
    "class Dog():\n",
    "    def __init__(self,breed,name,spots):\n",
    "        self.breed = breed\n",
    "        self.name = name\n",
    "        #expecting a boolen\n",
    "        self.spots = spots"
   ]
  },
  {
   "cell_type": "code",
   "execution_count": 42,
   "id": "a7ac1edf",
   "metadata": {},
   "outputs": [],
   "source": [
    "my_dog = Dog(breed= 'Anish',name = 'gurung',spots = False)\n"
   ]
  },
  {
   "cell_type": "code",
   "execution_count": 43,
   "id": "a55fe283",
   "metadata": {},
   "outputs": [
    {
     "data": {
      "text/plain": [
       "__main__.Dog"
      ]
     },
     "execution_count": 43,
     "metadata": {},
     "output_type": "execute_result"
    }
   ],
   "source": [
    "type(my_dog)"
   ]
  },
  {
   "cell_type": "code",
   "execution_count": 44,
   "id": "ac55c728",
   "metadata": {},
   "outputs": [
    {
     "data": {
      "text/plain": [
       "'Anish'"
      ]
     },
     "execution_count": 44,
     "metadata": {},
     "output_type": "execute_result"
    }
   ],
   "source": [
    "my_dog.breed"
   ]
  },
  {
   "cell_type": "code",
   "execution_count": 45,
   "id": "44dbea89",
   "metadata": {},
   "outputs": [
    {
     "data": {
      "text/plain": [
       "'gurung'"
      ]
     },
     "execution_count": 45,
     "metadata": {},
     "output_type": "execute_result"
    }
   ],
   "source": [
    "my_dog.name"
   ]
  },
  {
   "cell_type": "code",
   "execution_count": 46,
   "id": "84303239",
   "metadata": {},
   "outputs": [
    {
     "data": {
      "text/plain": [
       "'gurung'"
      ]
     },
     "execution_count": 46,
     "metadata": {},
     "output_type": "execute_result"
    }
   ],
   "source": [
    "my_dog.name"
   ]
  },
  {
   "cell_type": "code",
   "execution_count": 50,
   "id": "2bab0bc3",
   "metadata": {},
   "outputs": [
    {
     "data": {
      "text/plain": [
       "False"
      ]
     },
     "execution_count": 50,
     "metadata": {},
     "output_type": "execute_result"
    }
   ],
   "source": [
    "my_dog.spots"
   ]
  },
  {
   "cell_type": "code",
   "execution_count": 52,
   "id": "763c3642",
   "metadata": {},
   "outputs": [],
   "source": [
    "my_dog = Dog(breed= 'Anish', name = 'gurung',spots = 'NO SPOTS')"
   ]
  },
  {
   "cell_type": "code",
   "execution_count": 53,
   "id": "94c9dd48",
   "metadata": {},
   "outputs": [
    {
     "data": {
      "text/plain": [
       "'NO SPOTS'"
      ]
     },
     "execution_count": 53,
     "metadata": {},
     "output_type": "execute_result"
    }
   ],
   "source": [
    "my_dog.spots"
   ]
  },
  {
   "cell_type": "code",
   "execution_count": 56,
   "id": "1333841e",
   "metadata": {},
   "outputs": [],
   "source": [
    " class Dog():\n",
    "        #class abject attributes\n",
    "        #same for any instance of a class\n",
    "        species = 'mammal'\n",
    "        def __init__(self,breed,name,spots):\n",
    "            #Attributes\n",
    "            #we take in the argument\n",
    "            #assign it to the self.attribute_name\n",
    "            self.breed = breed\n",
    "            self.name = name\n",
    "            #expecting bollens true/false\n",
    "            self.spots = spots\n",
    "            "
   ]
  },
  {
   "cell_type": "code",
   "execution_count": 57,
   "id": "bab4bb29",
   "metadata": {},
   "outputs": [],
   "source": [
    "my_dog = Dog(breed = 'Lab',name = 'Sam',spots = False)"
   ]
  },
  {
   "cell_type": "code",
   "execution_count": 58,
   "id": "a8b0f837",
   "metadata": {},
   "outputs": [
    {
     "data": {
      "text/plain": [
       "__main__.Dog"
      ]
     },
     "execution_count": 58,
     "metadata": {},
     "output_type": "execute_result"
    }
   ],
   "source": [
    " type(my_dog)"
   ]
  },
  {
   "cell_type": "code",
   "execution_count": 59,
   "id": "64c5b309",
   "metadata": {},
   "outputs": [
    {
     "data": {
      "text/plain": [
       "'Lab'"
      ]
     },
     "execution_count": 59,
     "metadata": {},
     "output_type": "execute_result"
    }
   ],
   "source": [
    "my_dog.breed"
   ]
  },
  {
   "cell_type": "code",
   "execution_count": 60,
   "id": "effc8d79",
   "metadata": {},
   "outputs": [
    {
     "data": {
      "text/plain": [
       "'Sam'"
      ]
     },
     "execution_count": 60,
     "metadata": {},
     "output_type": "execute_result"
    }
   ],
   "source": [
    "my_dog.name"
   ]
  },
  {
   "cell_type": "code",
   "execution_count": 61,
   "id": "afd11764",
   "metadata": {},
   "outputs": [
    {
     "data": {
      "text/plain": [
       "'mammal'"
      ]
     },
     "execution_count": 61,
     "metadata": {},
     "output_type": "execute_result"
    }
   ],
   "source": [
    "my_dog.species"
   ]
  },
  {
   "cell_type": "code",
   "execution_count": 62,
   "id": "9ea20256",
   "metadata": {},
   "outputs": [
    {
     "data": {
      "text/plain": [
       "False"
      ]
     },
     "execution_count": 62,
     "metadata": {},
     "output_type": "execute_result"
    }
   ],
   "source": [
    "my_dog.spots"
   ]
  },
  {
   "cell_type": "code",
   "execution_count": 64,
   "id": "11d238c9",
   "metadata": {},
   "outputs": [],
   "source": [
    " class Dog():\n",
    "        #class abject attributes\n",
    "        #same for any instance of a class\n",
    "        species = 'mammal'\n",
    "        def __init__(self,breed,name,spots):\n",
    "            #Attributes\n",
    "            #we take in the argument\n",
    "            #assign it to the self.attribute_name\n",
    "            self.breed = breed\n",
    "            self.name = name\n",
    "            #expecting bollens true/false\n",
    "            self.spots = spots\n",
    "            #operation--> Action\n",
    "        def bark(self,number):\n",
    "            print('Woof! my name is {} and number is{}'.format(self.name,number))\n",
    "            "
   ]
  },
  {
   "cell_type": "code",
   "execution_count": 65,
   "id": "1a71d76f",
   "metadata": {},
   "outputs": [],
   "source": [
    "my_dog =Dog('Lab','Huskey',False)"
   ]
  },
  {
   "cell_type": "code",
   "execution_count": 66,
   "id": "4d2f046d",
   "metadata": {},
   "outputs": [
    {
     "data": {
      "text/plain": [
       "__main__.Dog"
      ]
     },
     "execution_count": 66,
     "metadata": {},
     "output_type": "execute_result"
    }
   ],
   "source": [
    "type(my_dog)"
   ]
  },
  {
   "cell_type": "code",
   "execution_count": 67,
   "id": "8a4be9d4",
   "metadata": {},
   "outputs": [
    {
     "name": "stdout",
     "output_type": "stream",
     "text": [
      "Woof! my name is Huskey and number is10\n"
     ]
    }
   ],
   "source": [
    "my_dog.bark(10)"
   ]
  },
  {
   "cell_type": "code",
   "execution_count": 105,
   "id": "7ea7ead2",
   "metadata": {},
   "outputs": [],
   "source": [
    "class Circle():\n",
    "    #class object attribute\n",
    "    pi = 3.14\n",
    "    def __init__(self,radius=1):\n",
    "        self.radius = radius\n",
    "    #method\n",
    "    def get_circumference(self):\n",
    "        return 2*self.pi*self.radius"
   ]
  },
  {
   "cell_type": "code",
   "execution_count": 106,
   "id": "dc04f4bb",
   "metadata": {},
   "outputs": [],
   "source": [
    "my_circle =Circle()"
   ]
  },
  {
   "cell_type": "code",
   "execution_count": 107,
   "id": "accedac4",
   "metadata": {},
   "outputs": [
    {
     "data": {
      "text/plain": [
       "3.14"
      ]
     },
     "execution_count": 107,
     "metadata": {},
     "output_type": "execute_result"
    }
   ],
   "source": [
    "my_circle.pi"
   ]
  },
  {
   "cell_type": "code",
   "execution_count": 108,
   "id": "80fa4edb",
   "metadata": {},
   "outputs": [
    {
     "data": {
      "text/plain": [
       "1"
      ]
     },
     "execution_count": 108,
     "metadata": {},
     "output_type": "execute_result"
    }
   ],
   "source": [
    "my_circle.radius"
   ]
  },
  {
   "cell_type": "code",
   "execution_count": 109,
   "id": "34c92762",
   "metadata": {},
   "outputs": [
    {
     "data": {
      "text/plain": [
       "6.28"
      ]
     },
     "execution_count": 109,
     "metadata": {},
     "output_type": "execute_result"
    }
   ],
   "source": [
    "my_circle.get_circumference()"
   ]
  },
  {
   "cell_type": "code",
   "execution_count": 133,
   "id": "38bdf6db",
   "metadata": {},
   "outputs": [],
   "source": [
    "class Circle():\n",
    "    pi = 3.14\n",
    "    def __init__(self,radius=1):\n",
    "        self.radius = radius\n",
    "        area = Circle.pi *radius *radius\n",
    "    def get_circumference(self):\n",
    "        return 2*Circle.pi*self.radius"
   ]
  },
  {
   "cell_type": "code",
   "execution_count": 134,
   "id": "b08e6be6",
   "metadata": {},
   "outputs": [],
   "source": [
    "my_circle = Circle()"
   ]
  },
  {
   "cell_type": "code",
   "execution_count": 135,
   "id": "a115d655",
   "metadata": {},
   "outputs": [
    {
     "ename": "AttributeError",
     "evalue": "'Circle' object has no attribute 'area'",
     "output_type": "error",
     "traceback": [
      "\u001b[1;31m---------------------------------------------------------------------------\u001b[0m",
      "\u001b[1;31mAttributeError\u001b[0m                            Traceback (most recent call last)",
      "Cell \u001b[1;32mIn[135], line 1\u001b[0m\n\u001b[1;32m----> 1\u001b[0m \u001b[43mmy_circle\u001b[49m\u001b[38;5;241;43m.\u001b[39;49m\u001b[43marea\u001b[49m\n",
      "\u001b[1;31mAttributeError\u001b[0m: 'Circle' object has no attribute 'area'"
     ]
    }
   ],
   "source": [
    "my_circle.area"
   ]
  },
  {
   "cell_type": "code",
   "execution_count": 119,
   "id": "d71480e6",
   "metadata": {},
   "outputs": [
    {
     "data": {
      "text/plain": [
       "6.28"
      ]
     },
     "execution_count": 119,
     "metadata": {},
     "output_type": "execute_result"
    }
   ],
   "source": [
    "my_circle.get_circumference()"
   ]
  },
  {
   "cell_type": "code",
   "execution_count": null,
   "id": "a1ee077f",
   "metadata": {},
   "outputs": [],
   "source": []
  }
 ],
 "metadata": {
  "kernelspec": {
   "display_name": "Python 3 (ipykernel)",
   "language": "python",
   "name": "python3"
  },
  "language_info": {
   "codemirror_mode": {
    "name": "ipython",
    "version": 3
   },
   "file_extension": ".py",
   "mimetype": "text/x-python",
   "name": "python",
   "nbconvert_exporter": "python",
   "pygments_lexer": "ipython3",
   "version": "3.10.9"
  }
 },
 "nbformat": 4,
 "nbformat_minor": 5
}
