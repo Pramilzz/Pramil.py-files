{
 "cells": [
  {
   "cell_type": "code",
   "execution_count": 81,
   "id": "044567e5",
   "metadata": {},
   "outputs": [],
   "source": [
    "# three cup monte"
   ]
  },
  {
   "cell_type": "code",
   "execution_count": 82,
   "id": "f4fea3ba",
   "metadata": {},
   "outputs": [],
   "source": [
    "mylist=[1,2,3,4,5,6,7]"
   ]
  },
  {
   "cell_type": "code",
   "execution_count": 83,
   "id": "c38f4618",
   "metadata": {},
   "outputs": [
    {
     "data": {
      "text/plain": [
       "[1, 2, 3, 4, 5, 6, 7]"
      ]
     },
     "execution_count": 83,
     "metadata": {},
     "output_type": "execute_result"
    }
   ],
   "source": [
    "mylist"
   ]
  },
  {
   "cell_type": "code",
   "execution_count": 84,
   "id": "26fcc280",
   "metadata": {},
   "outputs": [],
   "source": [
    "from random import shuffle"
   ]
  },
  {
   "cell_type": "code",
   "execution_count": 85,
   "id": "c55d4a9f",
   "metadata": {},
   "outputs": [],
   "source": [
    "result = shuffle(mylist)"
   ]
  },
  {
   "cell_type": "code",
   "execution_count": 86,
   "id": "f85809a8",
   "metadata": {},
   "outputs": [],
   "source": [
    "result"
   ]
  },
  {
   "cell_type": "code",
   "execution_count": 87,
   "id": "ecdb09cd",
   "metadata": {},
   "outputs": [],
   "source": [
    "from random import shuffle\n",
    "def shuffle_list(mylist):\n",
    "    shuffle(mylist)\n",
    "    return mylist"
   ]
  },
  {
   "cell_type": "code",
   "execution_count": 88,
   "id": "18652866",
   "metadata": {},
   "outputs": [],
   "source": [
    "#result=shuffle_list(mylist)"
   ]
  },
  {
   "cell_type": "code",
   "execution_count": 89,
   "id": "cf7c14fd",
   "metadata": {},
   "outputs": [],
   "source": [
    "result"
   ]
  },
  {
   "cell_type": "code",
   "execution_count": 90,
   "id": "89215f36",
   "metadata": {},
   "outputs": [],
   "source": [
    "def player_guess():\n",
    "    guess=''\n",
    "    while guess not in ['0','1','2']:\n",
    "        guess=input('enter your choice 0,1 or 2')\n",
    "    return int(guess)"
   ]
  },
  {
   "cell_type": "code",
   "execution_count": 91,
   "id": "76c637d2",
   "metadata": {},
   "outputs": [
    {
     "name": "stdout",
     "output_type": "stream",
     "text": [
      "enter your choice 0,1 or 22\n"
     ]
    }
   ],
   "source": [
    "myindex=player_guess()"
   ]
  },
  {
   "cell_type": "code",
   "execution_count": 92,
   "id": "c9123c91",
   "metadata": {},
   "outputs": [
    {
     "data": {
      "text/plain": [
       "2"
      ]
     },
     "execution_count": 92,
     "metadata": {},
     "output_type": "execute_result"
    }
   ],
   "source": [
    "myindex"
   ]
  },
  {
   "cell_type": "code",
   "execution_count": 93,
   "id": "7ae0ddda",
   "metadata": {},
   "outputs": [],
   "source": [
    "def check_guess(mylist,guess):\n",
    "    if mylist[guess]=='0':\n",
    "        print('corret')\n",
    "    else:\n",
    "        print('wrong guess')\n",
    "        print(mylist)\n",
    "    "
   ]
  },
  {
   "cell_type": "code",
   "execution_count": 94,
   "id": "71aa8730",
   "metadata": {},
   "outputs": [
    {
     "name": "stdout",
     "output_type": "stream",
     "text": [
      "enter your choice 0,1 or 22\n",
      "corret\n"
     ]
    }
   ],
   "source": [
    "#initial list\n",
    "mylist=['','0','']\n",
    "#shuffle function\n",
    "mixedup_list=shuffle_list(mylist)\n",
    "#user guess\n",
    "guess=player_guess()\n",
    "\n",
    "#check guess\n",
    "check_guess(mixedup_list,guess)"
   ]
  },
  {
   "cell_type": "code",
   "execution_count": 97,
   "id": "545f3b0a",
   "metadata": {},
   "outputs": [
    {
     "name": "stdout",
     "output_type": "stream",
     "text": [
      "pick a number 0,1and 21\n"
     ]
    },
    {
     "ename": "TypeError",
     "evalue": "'list' object is not callable",
     "output_type": "error",
     "traceback": [
      "\u001b[1;31m---------------------------------------------------------------------------\u001b[0m",
      "\u001b[1;31mTypeError\u001b[0m                                 Traceback (most recent call last)",
      "Cell \u001b[1;32mIn[97], line 23\u001b[0m\n\u001b[0;32m     21\u001b[0m guessed\u001b[38;5;241m=\u001b[39muser_guess()\n\u001b[0;32m     22\u001b[0m \u001b[38;5;66;03m#CHECK USER GUESS\u001b[39;00m\n\u001b[1;32m---> 23\u001b[0m \u001b[43mchecking_user_guess\u001b[49m\u001b[43m(\u001b[49m\u001b[43mmixed_list\u001b[49m\u001b[43m,\u001b[49m\u001b[43mguessed\u001b[49m\u001b[43m)\u001b[49m\n",
      "Cell \u001b[1;32mIn[97], line 11\u001b[0m, in \u001b[0;36mchecking_user_guess\u001b[1;34m(myfirstlist, guessed)\u001b[0m\n\u001b[0;32m     10\u001b[0m \u001b[38;5;28;01mdef\u001b[39;00m \u001b[38;5;21mchecking_user_guess\u001b[39m(myfirstlist,guessed):\n\u001b[1;32m---> 11\u001b[0m     \u001b[38;5;28;01mif\u001b[39;00m \u001b[43mmyfirstlist\u001b[49m\u001b[43m(\u001b[49m\u001b[43mguessed\u001b[49m\u001b[43m)\u001b[49m\u001b[38;5;241m==\u001b[39m\u001b[38;5;124m'\u001b[39m\u001b[38;5;124mo\u001b[39m\u001b[38;5;124m'\u001b[39m:\n\u001b[0;32m     12\u001b[0m         \u001b[38;5;28mprint\u001b[39m(\u001b[38;5;124m'\u001b[39m\u001b[38;5;124mcorret\u001b[39m\u001b[38;5;124m'\u001b[39m)\n\u001b[0;32m     13\u001b[0m     \u001b[38;5;28;01melse\u001b[39;00m:\n",
      "\u001b[1;31mTypeError\u001b[0m: 'list' object is not callable"
     ]
    }
   ],
   "source": [
    "from random import shuffle\n",
    "def my_random_list(myfirstlist):\n",
    "    shuffle(myfirstlist)\n",
    "    return myfirstlist\n",
    "def user_guess():\n",
    "    guessed=''\n",
    "    while guessed not in ['0','1','2']:\n",
    "        guessed = input('pick a number 0,1and 2')\n",
    "    return int(guessed)\n",
    "def checking_user_guess(myfirstlist,guessed):\n",
    "    if myfirstlist(guessed)=='o':\n",
    "        print('corret')\n",
    "    else:\n",
    "        print('wrong choice')\n",
    "        print(myfirstlist)\n",
    "#INITIAL LIST\n",
    "myfirstlist=['','0','']\n",
    "#SHUFFLE LIST\n",
    "mixed_list=my_random_list(myfirstlist)\n",
    "#USER GUESS\n",
    "guessed=user_guess()\n",
    "#CHECK USER GUESS\n",
    "checking_user_guess(mixed_list,guessed)\n",
    "    \n"
   ]
  },
  {
   "cell_type": "code",
   "execution_count": null,
   "id": "73142c53",
   "metadata": {},
   "outputs": [],
   "source": []
  },
  {
   "cell_type": "code",
   "execution_count": null,
   "id": "6acfd867",
   "metadata": {},
   "outputs": [],
   "source": []
  }
 ],
 "metadata": {
  "kernelspec": {
   "display_name": "Python 3 (ipykernel)",
   "language": "python",
   "name": "python3"
  },
  "language_info": {
   "codemirror_mode": {
    "name": "ipython",
    "version": 3
   },
   "file_extension": ".py",
   "mimetype": "text/x-python",
   "name": "python",
   "nbconvert_exporter": "python",
   "pygments_lexer": "ipython3",
   "version": "3.10.9"
  }
 },
 "nbformat": 4,
 "nbformat_minor": 5
}
