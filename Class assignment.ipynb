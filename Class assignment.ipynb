{
 "cells": [
  {
   "cell_type": "code",
   "execution_count": 1,
   "id": "34d24226",
   "metadata": {},
   "outputs": [],
   "source": [
    "# python programe to check the prime number and all the prime number in an interval.\n"
   ]
  },
  {
   "cell_type": "code",
   "execution_count": 1,
   "id": "3a64e92a",
   "metadata": {},
   "outputs": [
    {
     "name": "stdout",
     "output_type": "stream",
     "text": [
      "prime numbers between (0, 20)\n",
      "2\n",
      "3\n",
      "5\n",
      "7\n",
      "11\n",
      "13\n",
      "17\n",
      "19\n"
     ]
    }
   ],
   "source": [
    "range(0,20)\n",
    "print(\"prime numbers between\",(0,20))\n",
    "for num in range(0,20):\n",
    "    if(num>1):\n",
    "        for i in range(2,num):\n",
    "            if((num%i)==0):\n",
    "                break;\n",
    "        else:\n",
    "            print(num)"
   ]
  },
  {
   "cell_type": "code",
   "execution_count": 9,
   "id": "70401db2",
   "metadata": {},
   "outputs": [
    {
     "name": "stdout",
     "output_type": "stream",
     "text": [
      "enter the year2023\n",
      "this is not a leap year\n"
     ]
    }
   ],
   "source": [
    "def check_leap(year):\n",
    "    if((year %400==0)or\n",
    "    (year %4==0) and\n",
    "    (year %100!=0)):\n",
    "        print(\"this is a leap year\");\n",
    "    else:\n",
    "        print(\"this is not a leap year\")\n",
    "year=int(input(\"enter the year\"))\n",
    "check_leap(year)\n",
    "    \n"
   ]
  },
  {
   "cell_type": "code",
   "execution_count": null,
   "id": "f1bad376",
   "metadata": {},
   "outputs": [],
   "source": []
  }
 ],
 "metadata": {
  "kernelspec": {
   "display_name": "Python 3 (ipykernel)",
   "language": "python",
   "name": "python3"
  },
  "language_info": {
   "codemirror_mode": {
    "name": "ipython",
    "version": 3
   },
   "file_extension": ".py",
   "mimetype": "text/x-python",
   "name": "python",
   "nbconvert_exporter": "python",
   "pygments_lexer": "ipython3",
   "version": "3.10.9"
  }
 },
 "nbformat": 4,
 "nbformat_minor": 5
}
