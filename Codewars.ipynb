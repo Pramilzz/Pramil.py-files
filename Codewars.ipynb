{
 "cells": [
  {
   "cell_type": "code",
   "execution_count": 27,
   "id": "a8e85d45",
   "metadata": {},
   "outputs": [],
   "source": [
    "def friend(x):\n",
    "    #Code x = [\"Ryan\", \"Kieran\", \"Jason\", \"Yous\"]\n",
    "    new_friends = []\n",
    "    for str in x:\n",
    "        if len(str) == 4:\n",
    "            new_friends.append(str)\n",
    "    return new_friends\n",
    "    \n"
   ]
  },
  {
   "cell_type": "code",
   "execution_count": 28,
   "id": "7fcf5e6c",
   "metadata": {},
   "outputs": [
    {
     "data": {
      "text/plain": [
       "['Ryan', 'Yous']"
      ]
     },
     "execution_count": 28,
     "metadata": {},
     "output_type": "execute_result"
    }
   ],
   "source": [
    "friend([\"Ryan\", \"Kieran\", \"Jason\", \"Yous\"])"
   ]
  },
  {
   "cell_type": "code",
   "execution_count": 14,
   "id": "53d6bb90",
   "metadata": {},
   "outputs": [],
   "source": [
    "def digital_root(n):\n",
    "    n==65\n",
    "    x = str(n)\n",
    "    while len(x)!=0 and len(x)!=1:\n",
    "        r = 0\n",
    "        for i in range(len(x)):\n",
    "            r= r + int(x[i])\n",
    "        x = str(r)\n",
    "    return r"
   ]
  },
  {
   "cell_type": "code",
   "execution_count": 15,
   "id": "f7bfec3d",
   "metadata": {},
   "outputs": [
    {
     "data": {
      "text/plain": [
       "2"
      ]
     },
     "execution_count": 15,
     "metadata": {},
     "output_type": "execute_result"
    }
   ],
   "source": [
    "digital_root(65)"
   ]
  },
  {
   "cell_type": "code",
   "execution_count": 31,
   "id": "5ba6e122",
   "metadata": {},
   "outputs": [
    {
     "ename": "SyntaxError",
     "evalue": "invalid syntax (2707434055.py, line 2)",
     "output_type": "error",
     "traceback": [
      "\u001b[1;36m  Cell \u001b[1;32mIn[31], line 2\u001b[1;36m\u001b[0m\n\u001b[1;33m    const num=[...numbers.split(' ')]\u001b[0m\n\u001b[1;37m          ^\u001b[0m\n\u001b[1;31mSyntaxError\u001b[0m\u001b[1;31m:\u001b[0m invalid syntax\n"
     ]
    }
   ],
   "source": [
    "def high_And_Low(numbers):\n",
    "    const num=[...numbers.split(' ')]\n",
    "    return `${Math.max(...arr)} ${Math.min(...arr)"
   ]
  },
  {
   "cell_type": "code",
   "execution_count": 26,
   "id": "cda9013e",
   "metadata": {},
   "outputs": [
    {
     "ename": "NameError",
     "evalue": "name 'nums' is not defined",
     "output_type": "error",
     "traceback": [
      "\u001b[1;31m---------------------------------------------------------------------------\u001b[0m",
      "\u001b[1;31mNameError\u001b[0m                                 Traceback (most recent call last)",
      "Cell \u001b[1;32mIn[26], line 1\u001b[0m\n\u001b[1;32m----> 1\u001b[0m high_and_low(\u001b[43mnums\u001b[49m)\n",
      "\u001b[1;31mNameError\u001b[0m: name 'nums' is not defined"
     ]
    }
   ],
   "source": [
    "high_and_low(nums)"
   ]
  },
  {
   "cell_type": "code",
   "execution_count": 1,
   "id": "7a16dc8b",
   "metadata": {},
   "outputs": [
    {
     "name": "stdout",
     "output_type": "stream",
     "text": [
      "abigailtheta\n"
     ]
    }
   ],
   "source": [
    "strarr = []\n",
    "\n",
    "def longest_consec(strarr, k):\n",
    "    strarr.append('')\n",
    "    length = len(strarr)\n",
    "    largest = max(strarr, key=len, default='')\n",
    "    pos = int(strarr.index(largest))\n",
    "    if k == 1:\n",
    "        return largest\n",
    "    elif 1 < k < length:\n",
    "        prev_string = ''.join(strarr[pos+1-k:pos+1])\n",
    "        next_string = ''.join(strarr[pos:pos+k])\n",
    "        if len(prev_string) >= len(next_string):\n",
    "            res = prev_string\n",
    "        else: \n",
    "            res = next_string\n",
    "        return res\n",
    "    else:\n",
    "        return \"\"\n",
    "\n",
    "print(longest_consec([\"zone\", \"abigail\", \"theta\", \"form\", \"libe\"], 2))"
   ]
  },
  {
   "cell_type": "code",
   "execution_count": null,
   "id": "0f41c0f0",
   "metadata": {},
   "outputs": [],
   "source": []
  }
 ],
 "metadata": {
  "kernelspec": {
   "display_name": "Python 3 (ipykernel)",
   "language": "python",
   "name": "python3"
  },
  "language_info": {
   "codemirror_mode": {
    "name": "ipython",
    "version": 3
   },
   "file_extension": ".py",
   "mimetype": "text/x-python",
   "name": "python",
   "nbconvert_exporter": "python",
   "pygments_lexer": "ipython3",
   "version": "3.10.9"
  }
 },
 "nbformat": 4,
 "nbformat_minor": 5
}
