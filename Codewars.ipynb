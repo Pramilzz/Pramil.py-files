{
 "cells": [
  {
   "cell_type": "code",
   "execution_count": 27,
   "id": "a8e85d45",
   "metadata": {},
   "outputs": [],
   "source": [
    "def friend(x):\n",
    "    #Code x = [\"Ryan\", \"Kieran\", \"Jason\", \"Yous\"]\n",
    "    new_friends = []\n",
    "    for str in x:\n",
    "        if len(str) == 4:\n",
    "            new_friends.append(str)\n",
    "    return new_friends\n",
    "    \n"
   ]
  },
  {
   "cell_type": "code",
   "execution_count": 28,
   "id": "7fcf5e6c",
   "metadata": {},
   "outputs": [
    {
     "data": {
      "text/plain": [
       "['Ryan', 'Yous']"
      ]
     },
     "execution_count": 28,
     "metadata": {},
     "output_type": "execute_result"
    }
   ],
   "source": [
    "friend([\"Ryan\", \"Kieran\", \"Jason\", \"Yous\"])"
   ]
  },
  {
   "cell_type": "code",
   "execution_count": 10,
   "id": "53d6bb90",
   "metadata": {},
   "outputs": [],
   "source": [
    "def digital_root(n):\n",
    "    n==65\n",
    "    x = str(n)\n",
    "    while len(x)!=0 and len(x)!=1:\n",
    "        r = 0\n",
    "        for i in range(len(x)):\n",
    "            r= r + int(x[i])\n",
    "        x = str(r)\n",
    "    return r"
   ]
  },
  {
   "cell_type": "code",
   "execution_count": 11,
   "id": "f7bfec3d",
   "metadata": {},
   "outputs": [
    {
     "data": {
      "text/plain": [
       "2"
      ]
     },
     "execution_count": 11,
     "metadata": {},
     "output_type": "execute_result"
    }
   ],
   "source": [
    "digital_root(65)"
   ]
  },
  {
   "cell_type": "code",
   "execution_count": null,
   "id": "5ba6e122",
   "metadata": {},
   "outputs": [],
   "source": []
  },
  {
   "cell_type": "code",
   "execution_count": null,
   "id": "1afce4b8",
   "metadata": {},
   "outputs": [],
   "source": []
  }
 ],
 "metadata": {
  "kernelspec": {
   "display_name": "Python 3 (ipykernel)",
   "language": "python",
   "name": "python3"
  },
  "language_info": {
   "codemirror_mode": {
    "name": "ipython",
    "version": 3
   },
   "file_extension": ".py",
   "mimetype": "text/x-python",
   "name": "python",
   "nbconvert_exporter": "python",
   "pygments_lexer": "ipython3",
   "version": "3.10.9"
  }
 },
 "nbformat": 4,
 "nbformat_minor": 5
}
