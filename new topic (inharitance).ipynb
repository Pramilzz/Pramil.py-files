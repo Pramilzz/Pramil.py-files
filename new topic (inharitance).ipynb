{
 "cells": [
  {
   "cell_type": "code",
   "execution_count": 6,
   "id": "122f0a7f",
   "metadata": {},
   "outputs": [],
   "source": [
    "class Animal():\n",
    "    def __init__(self,name):\n",
    "        self.name=name\n",
    "    def speak(self):\n",
    "        raise NioImplementError('Subclass must implement this abstract method')"
   ]
  },
  {
   "cell_type": "code",
   "execution_count": 7,
   "id": "62945a8b",
   "metadata": {},
   "outputs": [],
   "source": [
    "myanimal = Animal('fred')"
   ]
  },
  {
   "cell_type": "code",
   "execution_count": 8,
   "id": "5b848373",
   "metadata": {},
   "outputs": [
    {
     "ename": "NameError",
     "evalue": "name 'NioImplementError' is not defined",
     "output_type": "error",
     "traceback": [
      "\u001b[1;31m---------------------------------------------------------------------------\u001b[0m",
      "\u001b[1;31mNameError\u001b[0m                                 Traceback (most recent call last)",
      "Cell \u001b[1;32mIn[8], line 1\u001b[0m\n\u001b[1;32m----> 1\u001b[0m \u001b[43mmyanimal\u001b[49m\u001b[38;5;241;43m.\u001b[39;49m\u001b[43mspeak\u001b[49m\u001b[43m(\u001b[49m\u001b[43m)\u001b[49m\n",
      "Cell \u001b[1;32mIn[6], line 5\u001b[0m, in \u001b[0;36mAnimal.speak\u001b[1;34m(self)\u001b[0m\n\u001b[0;32m      4\u001b[0m \u001b[38;5;28;01mdef\u001b[39;00m \u001b[38;5;21mspeak\u001b[39m(\u001b[38;5;28mself\u001b[39m):\n\u001b[1;32m----> 5\u001b[0m     \u001b[38;5;28;01mraise\u001b[39;00m \u001b[43mNioImplementError\u001b[49m (\u001b[38;5;124m'\u001b[39m\u001b[38;5;124mSubclass must implement this abstract method\u001b[39m\u001b[38;5;124m'\u001b[39m)\n",
      "\u001b[1;31mNameError\u001b[0m: name 'NioImplementError' is not defined"
     ]
    }
   ],
   "source": [
    "myanimal.speak()"
   ]
  },
  {
   "cell_type": "code",
   "execution_count": 35,
   "id": "2b3256cf",
   "metadata": {},
   "outputs": [],
   "source": [
    "class Dog (Animal):\n",
    "    def speak (self):\n",
    "        return self.name + ' says woof!'"
   ]
  },
  {
   "cell_type": "code",
   "execution_count": 40,
   "id": "c8039157",
   "metadata": {},
   "outputs": [],
   "source": [
    "class Cow (Animal):\n",
    "    def __init__(self):\n",
    "        return self.name+'says homaaa'"
   ]
  },
  {
   "cell_type": "code",
   "execution_count": 41,
   "id": "e7a840af",
   "metadata": {},
   "outputs": [],
   "source": [
    "class Cat (Animal):\n",
    "    def speak(self):\n",
    "        return self.name+' saya meow!'"
   ]
  },
  {
   "cell_type": "code",
   "execution_count": 42,
   "id": "34ca964e",
   "metadata": {},
   "outputs": [],
   "source": [
    "fido=Dog('fido')"
   ]
  },
  {
   "cell_type": "code",
   "execution_count": 43,
   "id": "dc540cc8",
   "metadata": {},
   "outputs": [],
   "source": [
    "isis = Cat('isis')"
   ]
  },
  {
   "cell_type": "code",
   "execution_count": 44,
   "id": "6c2b1352",
   "metadata": {},
   "outputs": [
    {
     "name": "stdout",
     "output_type": "stream",
     "text": [
      "fido says woof!\n"
     ]
    }
   ],
   "source": [
    "print(fido.speak())"
   ]
  },
  {
   "cell_type": "code",
   "execution_count": 45,
   "id": "32563e2c",
   "metadata": {},
   "outputs": [
    {
     "name": "stdout",
     "output_type": "stream",
     "text": [
      "isis saya meow!\n"
     ]
    }
   ],
   "source": [
    "print(isis.speak())"
   ]
  },
  {
   "cell_type": "code",
   "execution_count": 46,
   "id": "d0425ebd",
   "metadata": {},
   "outputs": [],
   "source": [
    "#special methocds magic and dunder"
   ]
  },
  {
   "cell_type": "code",
   "execution_count": 47,
   "id": "ac5f23e3",
   "metadata": {},
   "outputs": [],
   "source": [
    "mylist=[1,2,3,4]"
   ]
  },
  {
   "cell_type": "code",
   "execution_count": 48,
   "id": "8037ba48",
   "metadata": {},
   "outputs": [
    {
     "data": {
      "text/plain": [
       "4"
      ]
     },
     "execution_count": 48,
     "metadata": {},
     "output_type": "execute_result"
    }
   ],
   "source": [
    "len(mylist)"
   ]
  },
  {
   "cell_type": "code",
   "execution_count": 49,
   "id": "e8b79405",
   "metadata": {},
   "outputs": [],
   "source": [
    "class Sample():\n",
    "    pass"
   ]
  },
  {
   "cell_type": "code",
   "execution_count": 50,
   "id": "92d25238",
   "metadata": {},
   "outputs": [],
   "source": [
    "mysample=Sample()"
   ]
  },
  {
   "cell_type": "code",
   "execution_count": 51,
   "id": "584c3286",
   "metadata": {},
   "outputs": [
    {
     "ename": "TypeError",
     "evalue": "object of type 'Sample' has no len()",
     "output_type": "error",
     "traceback": [
      "\u001b[1;31m---------------------------------------------------------------------------\u001b[0m",
      "\u001b[1;31mTypeError\u001b[0m                                 Traceback (most recent call last)",
      "Cell \u001b[1;32mIn[51], line 1\u001b[0m\n\u001b[1;32m----> 1\u001b[0m \u001b[38;5;28;43mlen\u001b[39;49m\u001b[43m(\u001b[49m\u001b[43mmysample\u001b[49m\u001b[43m)\u001b[49m\n",
      "\u001b[1;31mTypeError\u001b[0m: object of type 'Sample' has no len()"
     ]
    }
   ],
   "source": [
    "len(mysample)"
   ]
  },
  {
   "cell_type": "code",
   "execution_count": 52,
   "id": "0e257cd2",
   "metadata": {},
   "outputs": [
    {
     "name": "stdout",
     "output_type": "stream",
     "text": [
      "<__main__.Sample object at 0x000001FC21CDF4F0>\n"
     ]
    }
   ],
   "source": [
    "print(mysample)"
   ]
  },
  {
   "cell_type": "code",
   "execution_count": 54,
   "id": "c4788bf7",
   "metadata": {},
   "outputs": [],
   "source": [
    "class Book():\n",
    "    def __init__(self,title,author,pages):\n",
    "        #the attributes = equal to instance\n",
    "        self.title= title\n",
    "        self.author=author\n",
    "        self.pages=pages"
   ]
  },
  {
   "cell_type": "code",
   "execution_count": 56,
   "id": "9db48c64",
   "metadata": {},
   "outputs": [],
   "source": [
    "b=Book('Python','Pramil',370)"
   ]
  },
  {
   "cell_type": "code",
   "execution_count": 57,
   "id": "17c2c328",
   "metadata": {},
   "outputs": [
    {
     "name": "stdout",
     "output_type": "stream",
     "text": [
      "<__main__.Book object at 0x000001FC2219B1F0>\n"
     ]
    }
   ],
   "source": [
    "print(b)"
   ]
  },
  {
   "cell_type": "code",
   "execution_count": 58,
   "id": "e82142a9",
   "metadata": {},
   "outputs": [
    {
     "data": {
      "text/plain": [
       "'<__main__.Book object at 0x000001FC2219B1F0>'"
      ]
     },
     "execution_count": 58,
     "metadata": {},
     "output_type": "execute_result"
    }
   ],
   "source": [
    "str(b)"
   ]
  },
  {
   "cell_type": "code",
   "execution_count": 63,
   "id": "5f4ed1b7",
   "metadata": {},
   "outputs": [],
   "source": [
    "class Book():\n",
    "    def __init__(self,title,author,pages):\n",
    "        #the attributes = equal to instance\n",
    "        self.title= title\n",
    "        self.author=author\n",
    "        self.pages=pages\n",
    "    def __str__(self):\n",
    "        return f'{self.title} by {self.author}'\n",
    "    def __len__(self):\n",
    "        return self.pages\n",
    "    def __del__(self):\n",
    "        print('A book object has been deleted')"
   ]
  },
  {
   "cell_type": "code",
   "execution_count": 64,
   "id": "be08628e",
   "metadata": {},
   "outputs": [
    {
     "name": "stdout",
     "output_type": "stream",
     "text": [
      "A book object has been deleted\n"
     ]
    }
   ],
   "source": [
    "b=Book('Java','Pramil',370)"
   ]
  },
  {
   "cell_type": "code",
   "execution_count": 65,
   "id": "3d0681d7",
   "metadata": {},
   "outputs": [
    {
     "name": "stdout",
     "output_type": "stream",
     "text": [
      "Java by Pramil\n"
     ]
    }
   ],
   "source": [
    "print(b)"
   ]
  },
  {
   "cell_type": "code",
   "execution_count": 66,
   "id": "f4264cf8",
   "metadata": {},
   "outputs": [
    {
     "data": {
      "text/plain": [
       "370"
      ]
     },
     "execution_count": 66,
     "metadata": {},
     "output_type": "execute_result"
    }
   ],
   "source": [
    "len(b)"
   ]
  },
  {
   "cell_type": "code",
   "execution_count": 67,
   "id": "411a4797",
   "metadata": {},
   "outputs": [
    {
     "name": "stdout",
     "output_type": "stream",
     "text": [
      "Java by Pramil\n"
     ]
    }
   ],
   "source": [
    "print(b)"
   ]
  },
  {
   "cell_type": "code",
   "execution_count": 68,
   "id": "6e90de0f",
   "metadata": {},
   "outputs": [
    {
     "name": "stdout",
     "output_type": "stream",
     "text": [
      "A book object has been deleted\n"
     ]
    }
   ],
   "source": [
    "del b"
   ]
  },
  {
   "cell_type": "code",
   "execution_count": 70,
   "id": "3f008f56",
   "metadata": {},
   "outputs": [],
   "source": [
    "class Simple():\n",
    "    def __init__(self,value):\n",
    "        self.value=value\n",
    "    def add_to_value(self,amount):\n",
    "        self.value=self.value+amount"
   ]
  },
  {
   "cell_type": "code",
   "execution_count": 71,
   "id": "f3016cc3",
   "metadata": {},
   "outputs": [],
   "source": [
    "my_obj=Simple(500)"
   ]
  },
  {
   "cell_type": "code",
   "execution_count": 72,
   "id": "a326df29",
   "metadata": {},
   "outputs": [
    {
     "data": {
      "text/plain": [
       "500"
      ]
     },
     "execution_count": 72,
     "metadata": {},
     "output_type": "execute_result"
    }
   ],
   "source": [
    "my_obj.value"
   ]
  },
  {
   "cell_type": "code",
   "execution_count": 73,
   "id": "73a27d76",
   "metadata": {},
   "outputs": [],
   "source": [
    "#calling methods that affect attributes"
   ]
  },
  {
   "cell_type": "code",
   "execution_count": 74,
   "id": "6c8e5bff",
   "metadata": {},
   "outputs": [],
   "source": [
    "class Simple():\n",
    "    def __init__(self,value):\n",
    "        self.value=value\n",
    "    def add_to_value(self,amount):\n",
    "        #takes in the current value of self plus the amount\n",
    "        self.value=self.value+amount\n",
    "        print('we just added {} to your value'.format(amount))"
   ]
  },
  {
   "cell_type": "code",
   "execution_count": 75,
   "id": "a6b56e7c",
   "metadata": {},
   "outputs": [],
   "source": [
    "myobj =Simple(500)"
   ]
  },
  {
   "cell_type": "code",
   "execution_count": 76,
   "id": "40baf7b0",
   "metadata": {},
   "outputs": [
    {
     "data": {
      "text/plain": [
       "500"
      ]
     },
     "execution_count": 76,
     "metadata": {},
     "output_type": "execute_result"
    }
   ],
   "source": [
    "myobj.value"
   ]
  },
  {
   "cell_type": "code",
   "execution_count": 77,
   "id": "666cab66",
   "metadata": {},
   "outputs": [
    {
     "name": "stdout",
     "output_type": "stream",
     "text": [
      "we just added 500 to your value\n"
     ]
    }
   ],
   "source": [
    "myobj.add_to_value(500)"
   ]
  },
  {
   "cell_type": "code",
   "execution_count": 78,
   "id": "8c0047c0",
   "metadata": {},
   "outputs": [
    {
     "data": {
      "text/plain": [
       "1000"
      ]
     },
     "execution_count": 78,
     "metadata": {},
     "output_type": "execute_result"
    }
   ],
   "source": [
    "myobj.value"
   ]
  },
  {
   "cell_type": "code",
   "execution_count": null,
   "id": "15bbd422",
   "metadata": {},
   "outputs": [],
   "source": []
  }
 ],
 "metadata": {
  "kernelspec": {
   "display_name": "Python 3 (ipykernel)",
   "language": "python",
   "name": "python3"
  },
  "language_info": {
   "codemirror_mode": {
    "name": "ipython",
    "version": 3
   },
   "file_extension": ".py",
   "mimetype": "text/x-python",
   "name": "python",
   "nbconvert_exporter": "python",
   "pygments_lexer": "ipython3",
   "version": "3.10.9"
  }
 },
 "nbformat": 4,
 "nbformat_minor": 5
}
