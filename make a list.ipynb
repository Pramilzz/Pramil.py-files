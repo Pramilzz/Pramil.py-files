{
 "cells": [
  {
   "cell_type": "code",
   "execution_count": 6,
   "id": "64bade97",
   "metadata": {},
   "outputs": [],
   "source": [
    "#list"
   ]
  },
  {
   "cell_type": "code",
   "execution_count": 7,
   "id": "27944e8c",
   "metadata": {},
   "outputs": [],
   "source": [
    "my_list=[1,2,3,4,5,6,]\n"
   ]
  },
  {
   "cell_type": "code",
   "execution_count": 8,
   "id": "a743d8a2",
   "metadata": {},
   "outputs": [
    {
     "data": {
      "text/plain": [
       "[1, 2, 3, 4, 5, 6]"
      ]
     },
     "execution_count": 8,
     "metadata": {},
     "output_type": "execute_result"
    }
   ],
   "source": [
    "my_list"
   ]
  },
  {
   "cell_type": "code",
   "execution_count": 9,
   "id": "2c69736b",
   "metadata": {},
   "outputs": [],
   "source": [
    "my_string=\"hello world\""
   ]
  },
  {
   "cell_type": "code",
   "execution_count": 10,
   "id": "d7e96984",
   "metadata": {},
   "outputs": [
    {
     "data": {
      "text/plain": [
       "'hello world'"
      ]
     },
     "execution_count": 10,
     "metadata": {},
     "output_type": "execute_result"
    }
   ],
   "source": [
    "my_string"
   ]
  },
  {
   "cell_type": "code",
   "execution_count": 13,
   "id": "58bce85f",
   "metadata": {},
   "outputs": [
    {
     "data": {
      "text/plain": [
       "['hello ', '']"
      ]
     },
     "execution_count": 13,
     "metadata": {},
     "output_type": "execute_result"
    }
   ],
   "source": [
    "my_string.split('world')"
   ]
  },
  {
   "cell_type": "code",
   "execution_count": 14,
   "id": "0de6d646",
   "metadata": {},
   "outputs": [
    {
     "data": {
      "text/plain": [
       "[1, 2, 3, 4, 5, 6]"
      ]
     },
     "execution_count": 14,
     "metadata": {},
     "output_type": "execute_result"
    }
   ],
   "source": [
    "my_list"
   ]
  },
  {
   "cell_type": "code",
   "execution_count": 16,
   "id": "b314c9f5",
   "metadata": {},
   "outputs": [],
   "source": [
    "my_list=[1, 'string',23.2]"
   ]
  },
  {
   "cell_type": "code",
   "execution_count": 17,
   "id": "7607f5e1",
   "metadata": {},
   "outputs": [
    {
     "data": {
      "text/plain": [
       "[1, 'string', 23.2]"
      ]
     },
     "execution_count": 17,
     "metadata": {},
     "output_type": "execute_result"
    }
   ],
   "source": [
    "my_list"
   ]
  },
  {
   "cell_type": "code",
   "execution_count": 18,
   "id": "da5f7ff9",
   "metadata": {},
   "outputs": [
    {
     "data": {
      "text/plain": [
       "3"
      ]
     },
     "execution_count": 18,
     "metadata": {},
     "output_type": "execute_result"
    }
   ],
   "source": [
    "len(my_list)"
   ]
  },
  {
   "cell_type": "code",
   "execution_count": 19,
   "id": "038be881",
   "metadata": {},
   "outputs": [],
   "source": [
    "#indexing"
   ]
  },
  {
   "cell_type": "code",
   "execution_count": 23,
   "id": "eff12c8d",
   "metadata": {},
   "outputs": [
    {
     "data": {
      "text/plain": [
       "'string'"
      ]
     },
     "execution_count": 23,
     "metadata": {},
     "output_type": "execute_result"
    }
   ],
   "source": [
    "my_list[1]"
   ]
  },
  {
   "cell_type": "code",
   "execution_count": 24,
   "id": "c2329c5b",
   "metadata": {},
   "outputs": [
    {
     "data": {
      "text/plain": [
       "[1, 'string', 23.2]"
      ]
     },
     "execution_count": 24,
     "metadata": {},
     "output_type": "execute_result"
    }
   ],
   "source": [
    "my_list"
   ]
  },
  {
   "cell_type": "code",
   "execution_count": 26,
   "id": "e459f85b",
   "metadata": {},
   "outputs": [
    {
     "data": {
      "text/plain": [
       "['string', 23.2]"
      ]
     },
     "execution_count": 26,
     "metadata": {},
     "output_type": "execute_result"
    }
   ],
   "source": [
    "my_list[1:]"
   ]
  },
  {
   "cell_type": "code",
   "execution_count": 27,
   "id": "2edaca0a",
   "metadata": {},
   "outputs": [
    {
     "data": {
      "text/plain": [
       "[1, 'string', 23.2]"
      ]
     },
     "execution_count": 27,
     "metadata": {},
     "output_type": "execute_result"
    }
   ],
   "source": [
    "my_list"
   ]
  },
  {
   "cell_type": "code",
   "execution_count": 28,
   "id": "2e0e21e0",
   "metadata": {},
   "outputs": [],
   "source": [
    "second_list=[4,5,6]"
   ]
  },
  {
   "cell_type": "code",
   "execution_count": 30,
   "id": "3e76aa4d",
   "metadata": {},
   "outputs": [],
   "source": [
    "new_list=my_list+second_list"
   ]
  },
  {
   "cell_type": "code",
   "execution_count": 31,
   "id": "fe33a6e2",
   "metadata": {},
   "outputs": [
    {
     "data": {
      "text/plain": [
       "[1, 'string', 23.2, 4, 5, 6]"
      ]
     },
     "execution_count": 31,
     "metadata": {},
     "output_type": "execute_result"
    }
   ],
   "source": [
    "new_list"
   ]
  },
  {
   "cell_type": "code",
   "execution_count": 32,
   "id": "27aa3abd",
   "metadata": {},
   "outputs": [
    {
     "data": {
      "text/plain": [
       "[4, 5, 6]"
      ]
     },
     "execution_count": 32,
     "metadata": {},
     "output_type": "execute_result"
    }
   ],
   "source": [
    "second_list"
   ]
  },
  {
   "cell_type": "code",
   "execution_count": 33,
   "id": "f6ed9c78",
   "metadata": {},
   "outputs": [],
   "source": [
    "second_list[0]='changed'"
   ]
  },
  {
   "cell_type": "code",
   "execution_count": 35,
   "id": "21e96c5c",
   "metadata": {},
   "outputs": [
    {
     "data": {
      "text/plain": [
       "['changed', 5, 6]"
      ]
     },
     "execution_count": 35,
     "metadata": {},
     "output_type": "execute_result"
    }
   ],
   "source": [
    "second_list"
   ]
  },
  {
   "cell_type": "code",
   "execution_count": 37,
   "id": "e39aa9ca",
   "metadata": {},
   "outputs": [],
   "source": [
    "mstring=\"Pramil\""
   ]
  },
  {
   "cell_type": "code",
   "execution_count": 38,
   "id": "18b99b4d",
   "metadata": {},
   "outputs": [
    {
     "data": {
      "text/plain": [
       "'P'"
      ]
     },
     "execution_count": 38,
     "metadata": {},
     "output_type": "execute_result"
    }
   ],
   "source": [
    "mstring[0]"
   ]
  },
  {
   "cell_type": "code",
   "execution_count": 39,
   "id": "f66eb9b2",
   "metadata": {},
   "outputs": [],
   "source": [
    "new_string=mstring[1:]"
   ]
  },
  {
   "cell_type": "code",
   "execution_count": 40,
   "id": "a4f23eeb",
   "metadata": {},
   "outputs": [
    {
     "data": {
      "text/plain": [
       "'ramil'"
      ]
     },
     "execution_count": 40,
     "metadata": {},
     "output_type": "execute_result"
    }
   ],
   "source": [
    "new_string"
   ]
  },
  {
   "cell_type": "code",
   "execution_count": 41,
   "id": "903a3b79",
   "metadata": {},
   "outputs": [],
   "source": [
    "new_word='d'+new_string"
   ]
  },
  {
   "cell_type": "code",
   "execution_count": 42,
   "id": "edf23ea6",
   "metadata": {},
   "outputs": [
    {
     "data": {
      "text/plain": [
       "'dramil'"
      ]
     },
     "execution_count": 42,
     "metadata": {},
     "output_type": "execute_result"
    }
   ],
   "source": [
    "new_word"
   ]
  },
  {
   "cell_type": "code",
   "execution_count": 43,
   "id": "6566ae1c",
   "metadata": {},
   "outputs": [
    {
     "data": {
      "text/plain": [
       "['changed', 5, 6]"
      ]
     },
     "execution_count": 43,
     "metadata": {},
     "output_type": "execute_result"
    }
   ],
   "source": [
    "second_list"
   ]
  },
  {
   "cell_type": "code",
   "execution_count": 44,
   "id": "72a426a6",
   "metadata": {},
   "outputs": [],
   "source": [
    "second_list.append('seven')"
   ]
  },
  {
   "cell_type": "code",
   "execution_count": 45,
   "id": "3ccd8b5e",
   "metadata": {},
   "outputs": [
    {
     "data": {
      "text/plain": [
       "['changed', 5, 6, 'seven']"
      ]
     },
     "execution_count": 45,
     "metadata": {},
     "output_type": "execute_result"
    }
   ],
   "source": [
    "second_list"
   ]
  },
  {
   "cell_type": "code",
   "execution_count": 46,
   "id": "6dfafd2d",
   "metadata": {},
   "outputs": [
    {
     "data": {
      "text/plain": [
       "6"
      ]
     },
     "execution_count": 46,
     "metadata": {},
     "output_type": "execute_result"
    }
   ],
   "source": [
    "second_list.pop(2)"
   ]
  },
  {
   "cell_type": "code",
   "execution_count": 47,
   "id": "906f2fde",
   "metadata": {},
   "outputs": [
    {
     "data": {
      "text/plain": [
       "['changed', 5, 'seven']"
      ]
     },
     "execution_count": 47,
     "metadata": {},
     "output_type": "execute_result"
    }
   ],
   "source": [
    "second_list"
   ]
  },
  {
   "cell_type": "code",
   "execution_count": 48,
   "id": "5c9ad9bf",
   "metadata": {},
   "outputs": [],
   "source": [
    "new_list=[3,2,'Pramil',5,6]"
   ]
  },
  {
   "cell_type": "code",
   "execution_count": 49,
   "id": "34ce5473",
   "metadata": {},
   "outputs": [
    {
     "data": {
      "text/plain": [
       "6"
      ]
     },
     "execution_count": 49,
     "metadata": {},
     "output_type": "execute_result"
    }
   ],
   "source": [
    "new_list[-1]"
   ]
  },
  {
   "cell_type": "code",
   "execution_count": 50,
   "id": "bec29115",
   "metadata": {},
   "outputs": [],
   "source": [
    "new_list=['a','b','j','y','z']\n",
    "num_list=[3,5,1,2,6,7,4]"
   ]
  },
  {
   "cell_type": "code",
   "execution_count": 51,
   "id": "c14dbbfd",
   "metadata": {},
   "outputs": [],
   "source": [
    "new_list.sort()"
   ]
  },
  {
   "cell_type": "code",
   "execution_count": 52,
   "id": "7de585ef",
   "metadata": {},
   "outputs": [],
   "source": [
    "sorted_list=new_list"
   ]
  },
  {
   "cell_type": "code",
   "execution_count": 53,
   "id": "bc8b2630",
   "metadata": {},
   "outputs": [
    {
     "data": {
      "text/plain": [
       "['a', 'b', 'j', 'y', 'z']"
      ]
     },
     "execution_count": 53,
     "metadata": {},
     "output_type": "execute_result"
    }
   ],
   "source": [
    "sorted_list"
   ]
  },
  {
   "cell_type": "code",
   "execution_count": 54,
   "id": "d67a0e44",
   "metadata": {},
   "outputs": [
    {
     "data": {
      "text/plain": [
       "[3, 5, 1, 2, 6, 7, 4]"
      ]
     },
     "execution_count": 54,
     "metadata": {},
     "output_type": "execute_result"
    }
   ],
   "source": [
    "num_list"
   ]
  },
  {
   "cell_type": "code",
   "execution_count": 55,
   "id": "48483556",
   "metadata": {},
   "outputs": [],
   "source": [
    "num_list.sort()"
   ]
  },
  {
   "cell_type": "code",
   "execution_count": 56,
   "id": "f18f9c14",
   "metadata": {},
   "outputs": [],
   "source": [
    "sorted_list=num_list"
   ]
  },
  {
   "cell_type": "code",
   "execution_count": 57,
   "id": "27a145df",
   "metadata": {},
   "outputs": [
    {
     "data": {
      "text/plain": [
       "[1, 2, 3, 4, 5, 6, 7]"
      ]
     },
     "execution_count": 57,
     "metadata": {},
     "output_type": "execute_result"
    }
   ],
   "source": [
    "sorted_list"
   ]
  },
  {
   "cell_type": "code",
   "execution_count": 61,
   "id": "0d6e125f",
   "metadata": {},
   "outputs": [
    {
     "data": {
      "text/plain": [
       "[1, 2, 3, 4, 5, 6, 7]"
      ]
     },
     "execution_count": 61,
     "metadata": {},
     "output_type": "execute_result"
    }
   ],
   "source": [
    "num_list"
   ]
  },
  {
   "cell_type": "code",
   "execution_count": 64,
   "id": "aca48bf2",
   "metadata": {},
   "outputs": [],
   "source": [
    "num_list.reverse()"
   ]
  },
  {
   "cell_type": "code",
   "execution_count": 65,
   "id": "b6f662af",
   "metadata": {},
   "outputs": [],
   "source": [
    "reversed_list=num_list"
   ]
  },
  {
   "cell_type": "code",
   "execution_count": 66,
   "id": "ecf7457d",
   "metadata": {},
   "outputs": [
    {
     "data": {
      "text/plain": [
       "[7, 6, 5, 4, 3, 2, 1]"
      ]
     },
     "execution_count": 66,
     "metadata": {},
     "output_type": "execute_result"
    }
   ],
   "source": [
    "reversed_list"
   ]
  },
  {
   "cell_type": "code",
   "execution_count": 70,
   "id": "5a4ff917",
   "metadata": {},
   "outputs": [],
   "source": [
    "my_list = [1,2,[3,4]]"
   ]
  },
  {
   "cell_type": "code",
   "execution_count": 71,
   "id": "cf0aae44",
   "metadata": {},
   "outputs": [
    {
     "data": {
      "text/plain": [
       "[1, 2, [3, 4]]"
      ]
     },
     "execution_count": 71,
     "metadata": {},
     "output_type": "execute_result"
    }
   ],
   "source": [
    "my_list"
   ]
  },
  {
   "cell_type": "code",
   "execution_count": 72,
   "id": "97301aae",
   "metadata": {},
   "outputs": [
    {
     "data": {
      "text/plain": [
       "2"
      ]
     },
     "execution_count": 72,
     "metadata": {},
     "output_type": "execute_result"
    }
   ],
   "source": [
    "my_list[1]"
   ]
  },
  {
   "cell_type": "code",
   "execution_count": 73,
   "id": "0422803e",
   "metadata": {},
   "outputs": [],
   "source": [
    "#dictionaries"
   ]
  },
  {
   "cell_type": "code",
   "execution_count": 75,
   "id": "94277646",
   "metadata": {},
   "outputs": [],
   "source": [
    "my_dict={'key1':'value1','key2':'value','key':'value'}"
   ]
  },
  {
   "cell_type": "code",
   "execution_count": 76,
   "id": "aa9b10f5",
   "metadata": {},
   "outputs": [
    {
     "data": {
      "text/plain": [
       "{'key1': 'value1', 'key2': 'value', 'key': 'value'}"
      ]
     },
     "execution_count": 76,
     "metadata": {},
     "output_type": "execute_result"
    }
   ],
   "source": [
    "my_dict"
   ]
  },
  {
   "cell_type": "code",
   "execution_count": 77,
   "id": "8bbcb8f6",
   "metadata": {},
   "outputs": [
    {
     "data": {
      "text/plain": [
       "'value1'"
      ]
     },
     "execution_count": 77,
     "metadata": {},
     "output_type": "execute_result"
    }
   ],
   "source": [
    "my_dict['key1']"
   ]
  },
  {
   "cell_type": "code",
   "execution_count": 79,
   "id": "1ba6bdd3",
   "metadata": {},
   "outputs": [],
   "source": [
    "prices_lookup={'apple':200,'banana':100,'mango':150}"
   ]
  },
  {
   "cell_type": "code",
   "execution_count": 91,
   "id": "75ffd932",
   "metadata": {},
   "outputs": [
    {
     "data": {
      "text/plain": [
       "{'apple': 200, 'banana': 100, 'mango': 150}"
      ]
     },
     "execution_count": 91,
     "metadata": {},
     "output_type": "execute_result"
    }
   ],
   "source": [
    "prices_lookup"
   ]
  },
  {
   "cell_type": "code",
   "execution_count": 92,
   "id": "45df2f18",
   "metadata": {},
   "outputs": [
    {
     "data": {
      "text/plain": [
       "2"
      ]
     },
     "execution_count": 92,
     "metadata": {},
     "output_type": "execute_result"
    }
   ],
   "source": [
    "d['k2'][1]"
   ]
  },
  {
   "cell_type": "code",
   "execution_count": 93,
   "id": "d210296a",
   "metadata": {},
   "outputs": [
    {
     "data": {
      "text/plain": [
       "100"
      ]
     },
     "execution_count": 93,
     "metadata": {},
     "output_type": "execute_result"
    }
   ],
   "source": [
    "d['k3']['inside_key']"
   ]
  },
  {
   "cell_type": "code",
   "execution_count": 94,
   "id": "3f61d50a",
   "metadata": {},
   "outputs": [],
   "source": [
    "newdict={'apple':200,'price_range':[100,200,300],'green_apple':{'price_range':120}}"
   ]
  },
  {
   "cell_type": "code",
   "execution_count": 95,
   "id": "2bc7081c",
   "metadata": {},
   "outputs": [
    {
     "data": {
      "text/plain": [
       "{'apple': 200,\n",
       " 'price_range': [100, 200, 300],\n",
       " 'green_apple': {'price_range': 120}}"
      ]
     },
     "execution_count": 95,
     "metadata": {},
     "output_type": "execute_result"
    }
   ],
   "source": [
    "newdict"
   ]
  },
  {
   "cell_type": "code",
   "execution_count": 96,
   "id": "2f7d2c6b",
   "metadata": {},
   "outputs": [
    {
     "data": {
      "text/plain": [
       "200"
      ]
     },
     "execution_count": 96,
     "metadata": {},
     "output_type": "execute_result"
    }
   ],
   "source": [
    "newdict['apple']"
   ]
  },
  {
   "cell_type": "code",
   "execution_count": 97,
   "id": "4299e3d0",
   "metadata": {},
   "outputs": [
    {
     "data": {
      "text/plain": [
       "300"
      ]
     },
     "execution_count": 97,
     "metadata": {},
     "output_type": "execute_result"
    }
   ],
   "source": [
    "newdict['price_range'][2]"
   ]
  },
  {
   "cell_type": "code",
   "execution_count": 98,
   "id": "0f117796",
   "metadata": {},
   "outputs": [
    {
     "data": {
      "text/plain": [
       "120"
      ]
     },
     "execution_count": 98,
     "metadata": {},
     "output_type": "execute_result"
    }
   ],
   "source": [
    "newdict['green_apple']['price_range']"
   ]
  },
  {
   "cell_type": "code",
   "execution_count": 99,
   "id": "d8e60ee6",
   "metadata": {},
   "outputs": [],
   "source": [
    "d={'k1':['a','b','c']}"
   ]
  },
  {
   "cell_type": "code",
   "execution_count": 100,
   "id": "dc8e5d75",
   "metadata": {},
   "outputs": [],
   "source": [
    "letter=d['k1']"
   ]
  },
  {
   "cell_type": "code",
   "execution_count": 101,
   "id": "4bdb5ffb",
   "metadata": {},
   "outputs": [
    {
     "data": {
      "text/plain": [
       "['a', 'b', 'c']"
      ]
     },
     "execution_count": 101,
     "metadata": {},
     "output_type": "execute_result"
    }
   ],
   "source": [
    "letter"
   ]
  },
  {
   "cell_type": "code",
   "execution_count": 102,
   "id": "c93dc70f",
   "metadata": {},
   "outputs": [],
   "source": [
    "myletter=letter[2]"
   ]
  },
  {
   "cell_type": "code",
   "execution_count": null,
   "id": "56f66ac6",
   "metadata": {},
   "outputs": [],
   "source": []
  },
  {
   "cell_type": "code",
   "execution_count": 106,
   "id": "62f855bf",
   "metadata": {},
   "outputs": [],
   "source": [
    "d={'k1':['a','b','c']}"
   ]
  },
  {
   "cell_type": "code",
   "execution_count": 107,
   "id": "aca6a381",
   "metadata": {},
   "outputs": [
    {
     "data": {
      "text/plain": [
       "'c'"
      ]
     },
     "execution_count": 107,
     "metadata": {},
     "output_type": "execute_result"
    }
   ],
   "source": [
    "d['k1'][2]"
   ]
  },
  {
   "cell_type": "code",
   "execution_count": null,
   "id": "40ec9680",
   "metadata": {},
   "outputs": [],
   "source": []
  }
 ],
 "metadata": {
  "kernelspec": {
   "display_name": "Python 3 (ipykernel)",
   "language": "python",
   "name": "python3"
  },
  "language_info": {
   "codemirror_mode": {
    "name": "ipython",
    "version": 3
   },
   "file_extension": ".py",
   "mimetype": "text/x-python",
   "name": "python",
   "nbconvert_exporter": "python",
   "pygments_lexer": "ipython3",
   "version": "3.10.9"
  }
 },
 "nbformat": 4,
 "nbformat_minor": 5
}
