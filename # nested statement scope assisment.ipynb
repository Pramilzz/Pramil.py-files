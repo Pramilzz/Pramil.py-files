{
 "cells": [
  {
   "cell_type": "code",
   "execution_count": 1,
   "id": "df37bf8b",
   "metadata": {},
   "outputs": [],
   "source": [
    "# nested statement scope assisment"
   ]
  },
  {
   "cell_type": "code",
   "execution_count": 5,
   "id": "1ff1233d",
   "metadata": {},
   "outputs": [],
   "source": [
    "#1.\n",
    "x = 45\n",
    "def printer():\n",
    "    x = 90\n",
    "    return x\n",
    "# print(x)\n",
    "# print(printer())\n"
   ]
  },
  {
   "cell_type": "code",
   "execution_count": 6,
   "id": "39c12ba5",
   "metadata": {},
   "outputs": [
    {
     "name": "stdout",
     "output_type": "stream",
     "text": [
      "45\n"
     ]
    }
   ],
   "source": [
    "print(x)"
   ]
  },
  {
   "cell_type": "code",
   "execution_count": 7,
   "id": "90a2ec1b",
   "metadata": {},
   "outputs": [
    {
     "name": "stdout",
     "output_type": "stream",
     "text": [
      "90\n"
     ]
    }
   ],
   "source": [
    "print(printer())"
   ]
  },
  {
   "cell_type": "code",
   "execution_count": 8,
   "id": "92a0f138",
   "metadata": {},
   "outputs": [],
   "source": [
    "#L- LOCAL \n",
    "#E-ENCLOSING FUNCTION LOGICAL\n",
    "#G- GLOBAL\n",
    "#B-BUILD-IN"
   ]
  },
  {
   "cell_type": "code",
   "execution_count": 9,
   "id": "4bfbf264",
   "metadata": {},
   "outputs": [],
   "source": [
    "#LIMBDA NUM:NUM**2"
   ]
  },
  {
   "cell_type": "code",
   "execution_count": 14,
   "id": "c76fac9b",
   "metadata": {},
   "outputs": [],
   "source": [
    "name='ina a global'\n",
    "def greet():\n",
    "    name='Pramil'\n",
    "    def hello():\n",
    "        print('Hello '+name)\n",
    "    hello()"
   ]
  },
  {
   "cell_type": "code",
   "execution_count": 15,
   "id": "46d78894",
   "metadata": {},
   "outputs": [
    {
     "name": "stdout",
     "output_type": "stream",
     "text": [
      "Hello Pramil\n"
     ]
    }
   ],
   "source": [
    "greet()"
   ]
  },
  {
   "cell_type": "code",
   "execution_count": 16,
   "id": "1fe80702",
   "metadata": {},
   "outputs": [],
   "source": [
    "x=500\n",
    "def printer():\n",
    "    x=100\n",
    "    return x"
   ]
  },
  {
   "cell_type": "code",
   "execution_count": 17,
   "id": "91fe3d2c",
   "metadata": {},
   "outputs": [
    {
     "name": "stdout",
     "output_type": "stream",
     "text": [
      "500\n"
     ]
    }
   ],
   "source": [
    "print(x)"
   ]
  },
  {
   "cell_type": "code",
   "execution_count": 18,
   "id": "310eefa2",
   "metadata": {},
   "outputs": [
    {
     "name": "stdout",
     "output_type": "stream",
     "text": [
      "100\n"
     ]
    }
   ],
   "source": [
    "print(printer())"
   ]
  },
  {
   "cell_type": "code",
   "execution_count": 21,
   "id": "fe251324",
   "metadata": {},
   "outputs": [],
   "source": [
    "#GLOBAL REASSIGNMENT\n",
    "X= 50\n",
    "def func(x):\n",
    "    print(F'x is {x}')\n",
    "    x = 'new value'\n",
    "    print(f'we just changed global x to {x}')\n",
    "    return x\n"
   ]
  },
  {
   "cell_type": "code",
   "execution_count": 22,
   "id": "c8bab47d",
   "metadata": {},
   "outputs": [
    {
     "name": "stdout",
     "output_type": "stream",
     "text": [
      "500\n"
     ]
    }
   ],
   "source": [
    "print(x)"
   ]
  },
  {
   "cell_type": "code",
   "execution_count": 23,
   "id": "2c1b56fe",
   "metadata": {},
   "outputs": [
    {
     "name": "stdout",
     "output_type": "stream",
     "text": [
      "x is 500\n",
      "we just changed global x to new value\n"
     ]
    }
   ],
   "source": [
    "x=func(x)"
   ]
  },
  {
   "cell_type": "code",
   "execution_count": 24,
   "id": "cf716139",
   "metadata": {},
   "outputs": [
    {
     "name": "stdout",
     "output_type": "stream",
     "text": [
      "new value\n"
     ]
    }
   ],
   "source": [
    "print(x)"
   ]
  },
  {
   "cell_type": "code",
   "execution_count": 25,
   "id": "cec96164",
   "metadata": {},
   "outputs": [
    {
     "name": "stdout",
     "output_type": "stream",
     "text": [
      "Help on built-in function len in module builtins:\n",
      "\n",
      "len(obj, /)\n",
      "    Return the number of items in a container.\n",
      "\n"
     ]
    }
   ],
   "source": [
    "help(len)"
   ]
  },
  {
   "cell_type": "code",
   "execution_count": 26,
   "id": "d78f2366",
   "metadata": {},
   "outputs": [],
   "source": [
    "######ASSISGNMENT#####"
   ]
  },
  {
   "cell_type": "code",
   "execution_count": 27,
   "id": "414e2ce5",
   "metadata": {},
   "outputs": [],
   "source": [
    "def vol(rad):\n",
    "    pi = 3.142\n",
    "    vol = ((4.0/3))*(pi)*(rad**3)\n",
    "    return vol"
   ]
  },
  {
   "cell_type": "code",
   "execution_count": 32,
   "id": "877f8872",
   "metadata": {},
   "outputs": [
    {
     "data": {
      "text/plain": [
       "0.11311199999999998"
      ]
     },
     "execution_count": 32,
     "metadata": {},
     "output_type": "execute_result"
    }
   ],
   "source": [
    "vol(.30)"
   ]
  },
  {
   "cell_type": "code",
   "execution_count": null,
   "id": "eefd5483",
   "metadata": {},
   "outputs": [],
   "source": []
  }
 ],
 "metadata": {
  "kernelspec": {
   "display_name": "Python 3 (ipykernel)",
   "language": "python",
   "name": "python3"
  },
  "language_info": {
   "codemirror_mode": {
    "name": "ipython",
    "version": 3
   },
   "file_extension": ".py",
   "mimetype": "text/x-python",
   "name": "python",
   "nbconvert_exporter": "python",
   "pygments_lexer": "ipython3",
   "version": "3.10.9"
  }
 },
 "nbformat": 4,
 "nbformat_minor": 5
}
