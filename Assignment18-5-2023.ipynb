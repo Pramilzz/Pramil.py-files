{
 "cells": [
  {
   "cell_type": "code",
   "execution_count": 1,
   "id": "7eb8b330",
   "metadata": {},
   "outputs": [],
   "source": [
    "#1\n",
    "def myfunct():\n",
    "    print('hello world')"
   ]
  },
  {
   "cell_type": "code",
   "execution_count": 3,
   "id": "056c9d33",
   "metadata": {},
   "outputs": [
    {
     "name": "stdout",
     "output_type": "stream",
     "text": [
      "hello world\n"
     ]
    }
   ],
   "source": [
    "myfunct()"
   ]
  },
  {
   "cell_type": "code",
   "execution_count": 1,
   "id": "aa266ebb",
   "metadata": {},
   "outputs": [],
   "source": [
    "#2\n",
    "def myfunct(name):\n",
    "    print('my name is{}'.format(name))"
   ]
  },
  {
   "cell_type": "code",
   "execution_count": 3,
   "id": "d9d67699",
   "metadata": {},
   "outputs": [
    {
     "name": "stdout",
     "output_type": "stream",
     "text": [
      "my name isABC\n"
     ]
    }
   ],
   "source": [
    "myfunct('Pramil rai')"
   ]
  },
  {
   "cell_type": "code",
   "execution_count": 8,
   "id": "037366f9",
   "metadata": {},
   "outputs": [],
   "source": [
    "#3.\n",
    "a=True\n",
    "def myfunc():\n",
    "    if a == True:\n",
    "        return 'Hello'\n",
    "    else:\n",
    "        return 'Goodbye'\n",
    "    "
   ]
  },
  {
   "cell_type": "code",
   "execution_count": 11,
   "id": "cbd22e9f",
   "metadata": {},
   "outputs": [
    {
     "data": {
      "text/plain": [
       "'Hello'"
      ]
     },
     "execution_count": 11,
     "metadata": {},
     "output_type": "execute_result"
    }
   ],
   "source": [
    " myfunc()"
   ]
  },
  {
   "cell_type": "code",
   "execution_count": 10,
   "id": "8c668969",
   "metadata": {},
   "outputs": [],
   "source": [
    "#4.\n",
    "def myfunc(x='hello',y='goodbye',z='false'):\n",
    "    if z==True:\n",
    "        # print(x)\n",
    "        return x \n",
    "    else:\n",
    "        # print(y)\n",
    "        return y"
   ]
  },
  {
   "cell_type": "code",
   "execution_count": 11,
   "id": "c5dd6b88",
   "metadata": {},
   "outputs": [
    {
     "data": {
      "text/plain": [
       "'goodbye'"
      ]
     },
     "execution_count": 11,
     "metadata": {},
     "output_type": "execute_result"
    }
   ],
   "source": [
    "myfunc()"
   ]
  },
  {
   "cell_type": "code",
   "execution_count": 12,
   "id": "dad528ea",
   "metadata": {},
   "outputs": [],
   "source": [
    "#5\n",
    "def myfunc(a,b):\n",
    "    return (a*b)"
   ]
  },
  {
   "cell_type": "code",
   "execution_count": 14,
   "id": "e13182b2",
   "metadata": {},
   "outputs": [
    {
     "data": {
      "text/plain": [
       "200"
      ]
     },
     "execution_count": 14,
     "metadata": {},
     "output_type": "execute_result"
    }
   ],
   "source": [
    "myfunc (10,20)"
   ]
  },
  {
   "cell_type": "code",
   "execution_count": 35,
   "id": "ffacc7d9",
   "metadata": {},
   "outputs": [],
   "source": [
    "#6\n",
    "def is_evenly_divisible_by_3(n):\n",
    "    if n%3==0:\n",
    "        return True\n",
    "    else:\n",
    "        return False"
   ]
  },
  {
   "cell_type": "code",
   "execution_count": 37,
   "id": "e38d1a34",
   "metadata": {},
   "outputs": [
    {
     "data": {
      "text/plain": [
       "True"
      ]
     },
     "execution_count": 37,
     "metadata": {},
     "output_type": "execute_result"
    }
   ],
   "source": [
    "is_evenly_divisible_by_3(15)"
   ]
  },
  {
   "cell_type": "code",
   "execution_count": 38,
   "id": "ef0e5370",
   "metadata": {},
   "outputs": [],
   "source": [
    "#7.\n",
    "def is_less(c,d):\n",
    "    if c<d:\n",
    "        return True\n",
    "    else:\n",
    "        return False"
   ]
  },
  {
   "cell_type": "code",
   "execution_count": 40,
   "id": "adc1168e",
   "metadata": {},
   "outputs": [
    {
     "data": {
      "text/plain": [
       "True"
      ]
     },
     "execution_count": 40,
     "metadata": {},
     "output_type": "execute_result"
    }
   ],
   "source": [
    "is_less(5,9)"
   ]
  },
  {
   "cell_type": "code",
   "execution_count": null,
   "id": "acb1e6b5",
   "metadata": {},
   "outputs": [],
   "source": []
  }
 ],
 "metadata": {
  "kernelspec": {
   "display_name": "Python 3 (ipykernel)",
   "language": "python",
   "name": "python3"
  },
  "language_info": {
   "codemirror_mode": {
    "name": "ipython",
    "version": 3
   },
   "file_extension": ".py",
   "mimetype": "text/x-python",
   "name": "python",
   "nbconvert_exporter": "python",
   "pygments_lexer": "ipython3",
   "version": "3.10.9"
  }
 },
 "nbformat": 4,
 "nbformat_minor": 5
}
