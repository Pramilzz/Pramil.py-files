{
 "cells": [
  {
   "cell_type": "code",
   "execution_count": 1,
   "id": "3215fe02",
   "metadata": {},
   "outputs": [],
   "source": [
    "# if, else and elfe"
   ]
  },
  {
   "cell_type": "code",
   "execution_count": 2,
   "id": "a9a0d248",
   "metadata": {},
   "outputs": [
    {
     "ename": "SyntaxError",
     "evalue": "incomplete input (2144750582.py, line 4)",
     "output_type": "error",
     "traceback": [
      "\u001b[1;36m  Cell \u001b[1;32mIn[2], line 4\u001b[1;36m\u001b[0m\n\u001b[1;33m    #do_something  else\u001b[0m\n\u001b[1;37m                       ^\u001b[0m\n\u001b[1;31mSyntaxError\u001b[0m\u001b[1;31m:\u001b[0m incomplete input\n"
     ]
    }
   ],
   "source": [
    "if some_condition:\n",
    "    #do_something\n",
    "#else: \n",
    "    #do_something  else"
   ]
  },
  {
   "cell_type": "code",
   "execution_count": 3,
   "id": "29f813e8",
   "metadata": {},
   "outputs": [
    {
     "name": "stdout",
     "output_type": "stream",
     "text": [
      "it's True\n"
     ]
    }
   ],
   "source": [
    "if True:\n",
    "    print(\"it's True\")"
   ]
  },
  {
   "cell_type": "code",
   "execution_count": 4,
   "id": "2093f10f",
   "metadata": {},
   "outputs": [],
   "source": [
    "if 3<2:\n",
    "    print(\"it's true\")"
   ]
  },
  {
   "cell_type": "code",
   "execution_count": 7,
   "id": "6cbb1c3d",
   "metadata": {},
   "outputs": [
    {
     "name": "stdout",
     "output_type": "stream",
     "text": [
      "FEED ME!\n"
     ]
    }
   ],
   "source": [
    "hungry=True\n",
    "if hungry:\n",
    "    print('FEED ME!')\n",
    "else:\n",
    "    print (\"i'm not hungry\")"
   ]
  },
  {
   "cell_type": "code",
   "execution_count": 8,
   "id": "33926629",
   "metadata": {},
   "outputs": [
    {
     "name": "stdout",
     "output_type": "stream",
     "text": [
      "i do not know much\n"
     ]
    }
   ],
   "source": [
    "loc='bank'\n",
    "if loc=='Auto shop':\n",
    "    print ('cars are coll')\n",
    "else:\n",
    "    print ('i do not know much1')"
   ]
  },
  {
   "cell_type": "code",
   "execution_count": 12,
   "id": "c51e9255",
   "metadata": {},
   "outputs": [
    {
     "name": "stdout",
     "output_type": "stream",
     "text": [
      "money is coll\n"
     ]
    }
   ],
   "source": [
    "loc='bank'\n",
    "if loc=='Auto shop':\n",
    "    print ('cars are coll')\n",
    "elif loc=='bank':\n",
    "    print('money is coll')\n",
    "elif loc=='store':\n",
    "    print('welcome to the store')\n",
    "else:\n",
    "    print ('i do not know much1')"
   ]
  },
  {
   "cell_type": "code",
   "execution_count": 16,
   "id": "a3004956",
   "metadata": {},
   "outputs": [
    {
     "name": "stdout",
     "output_type": "stream",
     "text": [
      "i am not sure\n"
     ]
    }
   ],
   "source": [
    "name='Pramil'\n",
    "if name=='limarp':\n",
    "    print('practice prog everyday')\n",
    "elif name=='Anil':\n",
    "    print('concerntrate more')\n",
    "elif name=='kumar':\n",
    "    print('this is kumar')\n",
    "else:\n",
    "        print('i am not sure')\n",
    "    "
   ]
  },
  {
   "cell_type": "code",
   "execution_count": 18,
   "id": "c98c120c",
   "metadata": {},
   "outputs": [
    {
     "name": "stdout",
     "output_type": "stream",
     "text": [
      "i am good\n",
      "i am good\n",
      "i am good\n",
      "i am good\n",
      "i am good\n",
      "i am good\n",
      "i am good\n",
      "i am good\n",
      "i am good\n",
      "i am good\n"
     ]
    }
   ],
   "source": [
    "mylist=[1,2,3,4,5,6,7,8,9,10]\n",
    "for num in mylist:\n",
    "    print('i am good')"
   ]
  },
  {
   "cell_type": "code",
   "execution_count": 19,
   "id": "e2889f05",
   "metadata": {},
   "outputs": [],
   "source": [
    "#combine the element with the help of for loop"
   ]
  },
  {
   "cell_type": "code",
   "execution_count": 29,
   "id": "52c9c599",
   "metadata": {},
   "outputs": [
    {
     "name": "stdout",
     "output_type": "stream",
     "text": [
      "2\n",
      "4\n",
      "6\n",
      "8\n",
      "10\n"
     ]
    }
   ],
   "source": [
    "mylist=[1,2,3,4,5,6,7,8,9,10]\n",
    "for num in mylist:\n",
    "    if num%2==0:\n",
    "        print(num)"
   ]
  },
  {
   "cell_type": "markdown",
   "id": "1c88125b",
   "metadata": {},
   "source": [
    "## "
   ]
  },
  {
   "cell_type": "code",
   "execution_count": 30,
   "id": "b67b0d78",
   "metadata": {},
   "outputs": [],
   "source": [
    "# add else statement with it in"
   ]
  },
  {
   "cell_type": "code",
   "execution_count": 32,
   "id": "dd815c91",
   "metadata": {},
   "outputs": [
    {
     "name": "stdout",
     "output_type": "stream",
     "text": [
      "2\n",
      "4\n",
      "6\n",
      "8\n",
      "10\n",
      "odd number:10\n"
     ]
    }
   ],
   "source": [
    "mylist=[1,2,3,4,5,6,7,8,9,10]\n",
    "for num in mylist:\n",
    "    if num%2==0:\n",
    "        print(num)\n",
    "else:\n",
    "     print(f'odd number:{num}')"
   ]
  },
  {
   "cell_type": "code",
   "execution_count": 46,
   "id": "9b8c30d6",
   "metadata": {},
   "outputs": [],
   "source": [
    "# we do print outside the list so the num will print after the all calculation"
   ]
  },
  {
   "cell_type": "code",
   "execution_count": 47,
   "id": "ba76746f",
   "metadata": {},
   "outputs": [
    {
     "name": "stdout",
     "output_type": "stream",
     "text": [
      "55\n"
     ]
    }
   ],
   "source": [
    "mylist=[1,2,3,4,5,6,7,8,9,10]\n",
    "list_sum=0\n",
    "for num in mylist:\n",
    "    list_sum=list_sum+num\n",
    "print(list_sum)"
   ]
  },
  {
   "cell_type": "code",
   "execution_count": 48,
   "id": "e7050efb",
   "metadata": {},
   "outputs": [
    {
     "name": "stdout",
     "output_type": "stream",
     "text": [
      "h\n",
      "e\n",
      "l\n",
      "l\n",
      "o\n",
      " \n",
      "w\n",
      "o\n",
      "r\n",
      "l\n",
      "d\n"
     ]
    }
   ],
   "source": [
    "mystring='hello world'\n",
    "for letter in mystring:\n",
    "    print(letter)"
   ]
  },
  {
   "cell_type": "code",
   "execution_count": 49,
   "id": "8a55e1ad",
   "metadata": {},
   "outputs": [],
   "source": [
    "#happy word will come in every letter of medhavi"
   ]
  },
  {
   "cell_type": "code",
   "execution_count": 50,
   "id": "5fa8c046",
   "metadata": {},
   "outputs": [
    {
     "name": "stdout",
     "output_type": "stream",
     "text": [
      "happy\n",
      "happy\n",
      "happy\n",
      "happy\n",
      "happy\n",
      "happy\n",
      "happy\n"
     ]
    }
   ],
   "source": [
    "for _ in 'medhavi':\n",
    "    print('happy')\n",
    "    "
   ]
  },
  {
   "cell_type": "code",
   "execution_count": 57,
   "id": "703c3969",
   "metadata": {},
   "outputs": [],
   "source": [
    "#tupples n packing"
   ]
  },
  {
   "cell_type": "code",
   "execution_count": 58,
   "id": "48c9bacd",
   "metadata": {},
   "outputs": [
    {
     "name": "stdout",
     "output_type": "stream",
     "text": [
      "1\n",
      "2\n",
      "3\n"
     ]
    }
   ],
   "source": [
    "tup=(1,2,3)\n",
    "for item in tup:\n",
    "    print(item)"
   ]
  },
  {
   "cell_type": "code",
   "execution_count": 59,
   "id": "38237c17",
   "metadata": {},
   "outputs": [
    {
     "name": "stdout",
     "output_type": "stream",
     "text": [
      "1\n",
      "2\n",
      "3\n",
      "4\n",
      "5\n",
      "6\n",
      "7\n",
      "8\n",
      "9\n",
      "10\n"
     ]
    }
   ],
   "source": [
    "mylist=[(1,2),(3,4),(5,6),(7,8),(9,10)]\n",
    "for a,b in mylist:\n",
    "    print (a)\n",
    "    print(b)"
   ]
  },
  {
   "cell_type": "code",
   "execution_count": 60,
   "id": "a0eae001",
   "metadata": {},
   "outputs": [
    {
     "name": "stdout",
     "output_type": "stream",
     "text": [
      "2\n",
      "4\n",
      "6\n",
      "8\n",
      "10\n"
     ]
    }
   ],
   "source": [
    "mylist=[(1,2),(3,4),(5,6),(7,8),(9,10)]\n",
    "for b,a in mylist:\n",
    "    print (a)\n",
    "    #print(b)"
   ]
  },
  {
   "cell_type": "code",
   "execution_count": 73,
   "id": "58ba98ae",
   "metadata": {
    "scrolled": true
   },
   "outputs": [
    {
     "name": "stdout",
     "output_type": "stream",
     "text": [
      "1\n",
      "2\n",
      "3\n",
      "4\n",
      "5\n",
      "6\n",
      "7\n",
      "8\n",
      "9\n",
      "10\n",
      "11\n",
      "12\n"
     ]
    }
   ],
   "source": [
    "mylist=[(1,2,3),(4,5,6),(7,8,9),(10,11,12)]\n",
    "for fv1,fv2,fv3 in mylist:\n",
    "    print(fv1)\n",
    "    print(fv2)\n",
    "    print(fv3)\n",
    "    "
   ]
  },
  {
   "cell_type": "code",
   "execution_count": null,
   "id": "1394bd54",
   "metadata": {},
   "outputs": [],
   "source": [
    "#dictionary"
   ]
  },
  {
   "cell_type": "code",
   "execution_count": 70,
   "id": "f162018a",
   "metadata": {},
   "outputs": [
    {
     "name": "stdout",
     "output_type": "stream",
     "text": [
      "1\n",
      "2\n",
      "3\n"
     ]
    }
   ],
   "source": [
    "d={'k1':1,'k2':2,'k3':3}\n",
    "for key,value in d:\n",
    "    print(value)"
   ]
  },
  {
   "cell_type": "code",
   "execution_count": null,
   "id": "2988a806",
   "metadata": {},
   "outputs": [],
   "source": []
  }
 ],
 "metadata": {
  "kernelspec": {
   "display_name": "Python 3 (ipykernel)",
   "language": "python",
   "name": "python3"
  },
  "language_info": {
   "codemirror_mode": {
    "name": "ipython",
    "version": 3
   },
   "file_extension": ".py",
   "mimetype": "text/x-python",
   "name": "python",
   "nbconvert_exporter": "python",
   "pygments_lexer": "ipython3",
   "version": "3.10.9"
  }
 },
 "nbformat": 4,
 "nbformat_minor": 5
}
