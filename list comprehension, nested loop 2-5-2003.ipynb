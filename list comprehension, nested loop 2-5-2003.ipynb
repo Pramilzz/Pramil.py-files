{
 "cells": [
  {
   "cell_type": "code",
   "execution_count": 1,
   "id": "5f508f4f",
   "metadata": {},
   "outputs": [],
   "source": [
    "#list comprehension in python"
   ]
  },
  {
   "cell_type": "code",
   "execution_count": 2,
   "id": "7fca9d0c",
   "metadata": {},
   "outputs": [],
   "source": [
    "mystring='hello'\n",
    "mylist=[]\n",
    "for letter in mystring:\n",
    "    mylist.append(letter)"
   ]
  },
  {
   "cell_type": "code",
   "execution_count": 3,
   "id": "a724f7e5",
   "metadata": {},
   "outputs": [
    {
     "data": {
      "text/plain": [
       "['h', 'e', 'l', 'l', 'o']"
      ]
     },
     "execution_count": 3,
     "metadata": {},
     "output_type": "execute_result"
    }
   ],
   "source": [
    "mylist"
   ]
  },
  {
   "cell_type": "code",
   "execution_count": 7,
   "id": "842c2c4c",
   "metadata": {},
   "outputs": [],
   "source": [
    "mystring='hello'\n",
    "mylist=[letter for letter in mystring]\n",
    "#easy to append"
   ]
  },
  {
   "cell_type": "code",
   "execution_count": 8,
   "id": "4a353dab",
   "metadata": {},
   "outputs": [
    {
     "data": {
      "text/plain": [
       "['h', 'e', 'l', 'l', 'o']"
      ]
     },
     "execution_count": 8,
     "metadata": {},
     "output_type": "execute_result"
    }
   ],
   "source": [
    "mylist"
   ]
  },
  {
   "cell_type": "code",
   "execution_count": 12,
   "id": "760a8d84",
   "metadata": {},
   "outputs": [],
   "source": [
    "\n",
    "mylists=[x for x in 'Pramil']\n"
   ]
  },
  {
   "cell_type": "code",
   "execution_count": 13,
   "id": "4b37044b",
   "metadata": {},
   "outputs": [
    {
     "data": {
      "text/plain": [
       "['M',\n",
       " 'y',\n",
       " ' ',\n",
       " 'n',\n",
       " 'a',\n",
       " 'm',\n",
       " 'e',\n",
       " ' ',\n",
       " 'i',\n",
       " 's',\n",
       " ' ',\n",
       " 'P',\n",
       " 'r',\n",
       " 'a',\n",
       " 'm',\n",
       " 'i',\n",
       " 'l',\n",
       " ' ',\n",
       " 'r',\n",
       " 'a',\n",
       " 'i']"
      ]
     },
     "execution_count": 13,
     "metadata": {},
     "output_type": "execute_result"
    }
   ],
   "source": [
    "mylist"
   ]
  },
  {
   "cell_type": "code",
   "execution_count": 14,
   "id": "faf8b052",
   "metadata": {},
   "outputs": [],
   "source": [
    "mynum=[num**2 for num in range(0,10)]"
   ]
  },
  {
   "cell_type": "code",
   "execution_count": 15,
   "id": "7c210e6a",
   "metadata": {},
   "outputs": [
    {
     "data": {
      "text/plain": [
       "[0, 1, 4, 9, 16, 25, 36, 49, 64, 81]"
      ]
     },
     "execution_count": 15,
     "metadata": {},
     "output_type": "execute_result"
    }
   ],
   "source": [
    "mynum"
   ]
  },
  {
   "cell_type": "code",
   "execution_count": 18,
   "id": "7b1f368d",
   "metadata": {},
   "outputs": [],
   "source": [
    "myeven_num=[x for x in range(0,11) if x%2==0]"
   ]
  },
  {
   "cell_type": "code",
   "execution_count": 21,
   "id": "3912ea37",
   "metadata": {},
   "outputs": [
    {
     "data": {
      "text/plain": [
       "[0, 2, 4, 6, 8, 10]"
      ]
     },
     "execution_count": 21,
     "metadata": {},
     "output_type": "execute_result"
    }
   ],
   "source": [
    "mylist"
   ]
  },
  {
   "cell_type": "code",
   "execution_count": 24,
   "id": "1e46567f",
   "metadata": {},
   "outputs": [],
   "source": [
    "celcius =[0,10,20,30,40,50,60,70,80]\n",
    "fahrenheit=[((9/5)*temp+32)for temp in celcius]"
   ]
  },
  {
   "cell_type": "code",
   "execution_count": 25,
   "id": "f98f95ba",
   "metadata": {},
   "outputs": [
    {
     "data": {
      "text/plain": [
       "[32.0, 50.0, 68.0, 86.0, 104.0, 122.0, 140.0, 158.0, 176.0]"
      ]
     },
     "execution_count": 25,
     "metadata": {},
     "output_type": "execute_result"
    }
   ],
   "source": [
    "fahrenheit"
   ]
  },
  {
   "cell_type": "code",
   "execution_count": 28,
   "id": "7c126c93",
   "metadata": {},
   "outputs": [
    {
     "name": "stdout",
     "output_type": "stream",
     "text": [
      "[32.0, 50.0, 68.0, 86.0, 104.0, 122.0, 140.0, 158.0, 176.0]\n"
     ]
    }
   ],
   "source": [
    "celcius =[0,10,20,30,40,50,60,70,80]\n",
    "fahrenheit=[]\n",
    "for temp in celcius:\n",
    "    fahrenheit.append((9/5)*temp+32)\n",
    "print(fahrenheit)"
   ]
  },
  {
   "cell_type": "code",
   "execution_count": 30,
   "id": "c81f6a5c",
   "metadata": {},
   "outputs": [
    {
     "data": {
      "text/plain": [
       "[0, 'COD', 2, 'COD', 4, 'COD', 6, 'COD', 8, 'COD']"
      ]
     },
     "execution_count": 30,
     "metadata": {},
     "output_type": "execute_result"
    }
   ],
   "source": [
    "\n",
    "[x if x%2==0 else 'COD' for x in range(0,10)]"
   ]
  },
  {
   "cell_type": "code",
   "execution_count": 31,
   "id": "692793a5",
   "metadata": {},
   "outputs": [],
   "source": [
    "#nested loop"
   ]
  },
  {
   "cell_type": "code",
   "execution_count": 37,
   "id": "8ba2cbbc",
   "metadata": {},
   "outputs": [],
   "source": [
    "mylist=[]\n",
    "for x in [2,4,6]:\n",
    "    for y in [6,7,8]:\n",
    "        mylist.append(x*y)\n",
    "    "
   ]
  },
  {
   "cell_type": "code",
   "execution_count": 38,
   "id": "b46c568d",
   "metadata": {},
   "outputs": [
    {
     "data": {
      "text/plain": [
       "[12, 14, 16, 24, 28, 32, 36, 42, 48]"
      ]
     },
     "execution_count": 38,
     "metadata": {},
     "output_type": "execute_result"
    }
   ],
   "source": [
    "mylist"
   ]
  },
  {
   "cell_type": "code",
   "execution_count": 39,
   "id": "04240d59",
   "metadata": {},
   "outputs": [],
   "source": [
    "mylist=[x*y for x in [2,3,4] for y in [2,3,4]]"
   ]
  },
  {
   "cell_type": "code",
   "execution_count": 40,
   "id": "690c2e0a",
   "metadata": {},
   "outputs": [
    {
     "data": {
      "text/plain": [
       "[4, 6, 8, 6, 9, 12, 8, 12, 16]"
      ]
     },
     "execution_count": 40,
     "metadata": {},
     "output_type": "execute_result"
    }
   ],
   "source": [
    "mylist"
   ]
  },
  {
   "cell_type": "code",
   "execution_count": null,
   "id": "3ceba01e",
   "metadata": {},
   "outputs": [],
   "source": []
  }
 ],
 "metadata": {
  "kernelspec": {
   "display_name": "Python 3 (ipykernel)",
   "language": "python",
   "name": "python3"
  },
  "language_info": {
   "codemirror_mode": {
    "name": "ipython",
    "version": 3
   },
   "file_extension": ".py",
   "mimetype": "text/x-python",
   "name": "python",
   "nbconvert_exporter": "python",
   "pygments_lexer": "ipython3",
   "version": "3.10.9"
  }
 },
 "nbformat": 4,
 "nbformat_minor": 5
}
