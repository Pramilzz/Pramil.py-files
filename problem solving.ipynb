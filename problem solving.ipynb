{
 "cells": [
  {
   "cell_type": "code",
   "execution_count": 4,
   "id": "c917d120",
   "metadata": {},
   "outputs": [],
   "source": [
    "def animal_cracker(text):\n",
    "    wordlist=text.split()\n",
    "    first=wordlist[0]\n",
    "    second=wordlist[1]\n",
    "    return first[0]==second[0]\n"
   ]
  },
  {
   "cell_type": "code",
   "execution_count": 5,
   "id": "04d67e21",
   "metadata": {},
   "outputs": [
    {
     "data": {
      "text/plain": [
       "True"
      ]
     },
     "execution_count": 5,
     "metadata": {},
     "output_type": "execute_result"
    }
   ],
   "source": [
    "animal_cracker('levelhead llama')"
   ]
  },
  {
   "cell_type": "code",
   "execution_count": 6,
   "id": "85c047b0",
   "metadata": {},
   "outputs": [],
   "source": [
    "def animal(text):\n",
    "    wordlist=text.lower().split()\n",
    "    return wordlist[0][0]==wordlist[1][0]"
   ]
  },
  {
   "cell_type": "code",
   "execution_count": 7,
   "id": "f7db0ada",
   "metadata": {},
   "outputs": [
    {
     "data": {
      "text/plain": [
       "True"
      ]
     },
     "execution_count": 7,
     "metadata": {},
     "output_type": "execute_result"
    }
   ],
   "source": [
    "animal('levelheaded llama')"
   ]
  },
  {
   "cell_type": "code",
   "execution_count": 9,
   "id": "276d9d0e",
   "metadata": {},
   "outputs": [],
   "source": [
    "def makes(n1,n2):\n",
    "    if n1+n2==20:\n",
    "        return True\n",
    "    elif n1==20:\n",
    "        return True\n",
    "    else:\n",
    "        return False"
   ]
  },
  {
   "cell_type": "code",
   "execution_count": 10,
   "id": "1c0de595",
   "metadata": {},
   "outputs": [
    {
     "data": {
      "text/plain": [
       "False"
      ]
     },
     "execution_count": 10,
     "metadata": {},
     "output_type": "execute_result"
    }
   ],
   "source": [
    "makes(2,4)"
   ]
  },
  {
   "cell_type": "code",
   "execution_count": 11,
   "id": "6f560b81",
   "metadata": {},
   "outputs": [],
   "source": [
    "def makes(n1,n2):\n",
    "    return n1+n2==0 or n1==2 or n2==20"
   ]
  },
  {
   "cell_type": "code",
   "execution_count": 13,
   "id": "970b5d2a",
   "metadata": {},
   "outputs": [
    {
     "data": {
      "text/plain": [
       "False"
      ]
     },
     "execution_count": 13,
     "metadata": {},
     "output_type": "execute_result"
    }
   ],
   "source": [
    "makes(20,40)"
   ]
  },
  {
   "cell_type": "code",
   "execution_count": 16,
   "id": "2e0c2d7f",
   "metadata": {},
   "outputs": [],
   "source": [
    "def old(name):\n",
    "    first=name[0]\n",
    "    in_between=name[1:3]\n",
    "    fourth=name[3]\n",
    "    rest=name[4:]\n",
    "    return first + in_between + fourth +rest"
   ]
  },
  {
   "cell_type": "code",
   "execution_count": 17,
   "id": "e11d0ee7",
   "metadata": {},
   "outputs": [
    {
     "data": {
      "text/plain": [
       "'Pramil'"
      ]
     },
     "execution_count": 17,
     "metadata": {},
     "output_type": "execute_result"
    }
   ],
   "source": [
    "old('Pramil')"
   ]
  },
  {
   "cell_type": "code",
   "execution_count": 58,
   "id": "a57946c6",
   "metadata": {},
   "outputs": [],
   "source": [
    "def old(name):\n",
    "    first=name[0]\n",
    "    in_between=name[1:7]\n",
    "    sixth=name[6]\n",
    "    eight=name[7]\n",
    "    rest=name[8:10]\n",
    "    return first.upper() + in_between + sixth.upper() + eight.upper() +rest"
   ]
  },
  {
   "cell_type": "code",
   "execution_count": 59,
   "id": "1b34df80",
   "metadata": {},
   "outputs": [
    {
     "data": {
      "text/plain": [
       "'Pramil  Rai'"
      ]
     },
     "execution_count": 59,
     "metadata": {},
     "output_type": "execute_result"
    }
   ],
   "source": [
    "old('Pramil rai')"
   ]
  },
  {
   "cell_type": "code",
   "execution_count": null,
   "id": "0efcffd9",
   "metadata": {},
   "outputs": [],
   "source": []
  },
  {
   "cell_type": "code",
   "execution_count": null,
   "id": "d9d74dd5",
   "metadata": {},
   "outputs": [],
   "source": []
  }
 ],
 "metadata": {
  "kernelspec": {
   "display_name": "Python 3 (ipykernel)",
   "language": "python",
   "name": "python3"
  },
  "language_info": {
   "codemirror_mode": {
    "name": "ipython",
    "version": 3
   },
   "file_extension": ".py",
   "mimetype": "text/x-python",
   "name": "python",
   "nbconvert_exporter": "python",
   "pygments_lexer": "ipython3",
   "version": "3.10.9"
  }
 },
 "nbformat": 4,
 "nbformat_minor": 5
}
