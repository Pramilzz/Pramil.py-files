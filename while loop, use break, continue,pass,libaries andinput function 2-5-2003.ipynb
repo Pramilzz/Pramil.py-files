{
 "cells": [
  {
   "cell_type": "code",
   "execution_count": 1,
   "id": "a919be01",
   "metadata": {},
   "outputs": [],
   "source": [
    "# while loop in python"
   ]
  },
  {
   "cell_type": "code",
   "execution_count": 2,
   "id": "83f6c29d",
   "metadata": {},
   "outputs": [],
   "source": [
    "#while bollen_condition:\n",
    "    #do something\n",
    "#else:\n",
    "    #do something else\n",
    "    "
   ]
  },
  {
   "cell_type": "code",
   "execution_count": 3,
   "id": "674c6128",
   "metadata": {},
   "outputs": [
    {
     "name": "stdout",
     "output_type": "stream",
     "text": [
      " the current value of x is 0\n",
      " the current value of x is 1\n",
      " the current value of x is 2\n",
      " the current value of x is 3\n",
      " the current value of x is 4\n"
     ]
    }
   ],
   "source": [
    "x=0\n",
    "while x<5:\n",
    "    print (f' the current value of x is {x}')\n",
    "    x = x+1"
   ]
  },
  {
   "cell_type": "code",
   "execution_count": 4,
   "id": "f9898b0e",
   "metadata": {},
   "outputs": [
    {
     "name": "stdout",
     "output_type": "stream",
     "text": [
      "x is not less then 5\n"
     ]
    }
   ],
   "source": [
    "x=50\n",
    "while x<5:\n",
    "    print (f'the current value of x is {x}')\n",
    "    #x= x+1\n",
    "    x+=1\n",
    "else:\n",
    "    print ('x is not less then 5')"
   ]
  },
  {
   "cell_type": "code",
   "execution_count": 5,
   "id": "2b71c646",
   "metadata": {},
   "outputs": [],
   "source": [
    "#break, continue pass"
   ]
  },
  {
   "cell_type": "code",
   "execution_count": 6,
   "id": "19e81b7e",
   "metadata": {},
   "outputs": [],
   "source": [
    "#break:break out of the closest enclossing loop\n",
    "#continue:goes to the top of the closest enclosing loop \n",
    "#pass:does nothing at all"
   ]
  },
  {
   "cell_type": "code",
   "execution_count": 7,
   "id": "9acdc9ee",
   "metadata": {},
   "outputs": [
    {
     "name": "stdout",
     "output_type": "stream",
     "text": [
      "the end of my script\n"
     ]
    }
   ],
   "source": [
    "x=[1,2,3]\n",
    "for item in x:\n",
    "     #gsdgsd\n",
    "        pass \n",
    "print ('the end of my script')\n"
   ]
  },
  {
   "cell_type": "code",
   "execution_count": 8,
   "id": "f635d2c8",
   "metadata": {},
   "outputs": [
    {
     "name": "stdout",
     "output_type": "stream",
     "text": [
      "P\n",
      "r\n",
      "a\n",
      "i\n",
      "l\n"
     ]
    }
   ],
   "source": [
    "mystring='Pramil'\n",
    "for letter in mystring:\n",
    "    if letter=='m':\n",
    "        continue\n",
    "    print(letter)"
   ]
  },
  {
   "cell_type": "code",
   "execution_count": 9,
   "id": "eb05710a",
   "metadata": {},
   "outputs": [
    {
     "name": "stdout",
     "output_type": "stream",
     "text": [
      "L\n",
      "i\n",
      "m\n"
     ]
    }
   ],
   "source": [
    "mystring =\"Limarp\"\n",
    "for letter in mystring:\n",
    "    if letter==\"a\":\n",
    "        break\n",
    "    print(letter)"
   ]
  },
  {
   "cell_type": "code",
   "execution_count": 10,
   "id": "eccefc70",
   "metadata": {},
   "outputs": [],
   "source": [
    "#input ()function"
   ]
  },
  {
   "cell_type": "code",
   "execution_count": 11,
   "id": "03f2eceb",
   "metadata": {},
   "outputs": [
    {
     "ename": "SyntaxError",
     "evalue": "invalid syntax (3859868485.py, line 1)",
     "output_type": "error",
     "traceback": [
      "\u001b[1;36m  Cell \u001b[1;32mIn[11], line 1\u001b[1;36m\u001b[0m\n\u001b[1;33m    enter the number herer 22\u001b[0m\n\u001b[1;37m          ^\u001b[0m\n\u001b[1;31mSyntaxError\u001b[0m\u001b[1;31m:\u001b[0m invalid syntax\n"
     ]
    }
   ],
   "source": [
    "enter the number herer 22"
   ]
  },
  {
   "cell_type": "code",
   "execution_count": 12,
   "id": "48f6a6ab",
   "metadata": {},
   "outputs": [
    {
     "name": "stdout",
     "output_type": "stream",
     "text": [
      "what is your favourate color23\n"
     ]
    },
    {
     "data": {
      "text/plain": [
       "'23'"
      ]
     },
     "execution_count": 12,
     "metadata": {},
     "output_type": "execute_result"
    }
   ],
   "source": [
    "input ('what is your favourate color')"
   ]
  },
  {
   "cell_type": "code",
   "execution_count": 13,
   "id": "f86eff83",
   "metadata": {},
   "outputs": [
    {
     "name": "stdout",
     "output_type": "stream",
     "text": [
      "enter your favourate number23\n"
     ]
    }
   ],
   "source": [
    "result =int(input('enter your favourate number'))\n"
   ]
  },
  {
   "cell_type": "code",
   "execution_count": 14,
   "id": "cb11d16f",
   "metadata": {},
   "outputs": [
    {
     "data": {
      "text/plain": [
       "23"
      ]
     },
     "execution_count": 14,
     "metadata": {},
     "output_type": "execute_result"
    }
   ],
   "source": [
    "result"
   ]
  },
  {
   "cell_type": "code",
   "execution_count": 15,
   "id": "5dcf6c05",
   "metadata": {},
   "outputs": [
    {
     "data": {
      "text/plain": [
       "int"
      ]
     },
     "execution_count": 15,
     "metadata": {},
     "output_type": "execute_result"
    }
   ],
   "source": [
    "type(result)"
   ]
  },
  {
   "cell_type": "code",
   "execution_count": 16,
   "id": "661c9aab",
   "metadata": {},
   "outputs": [
    {
     "name": "stdout",
     "output_type": "stream",
     "text": [
      "enter the first number23\n",
      "enter the second number24\n",
      "47.0\n"
     ]
    }
   ],
   "source": [
    "number=float(input('enter the first number'))\n",
    "number_two=float (input('enter the second number'))\n",
    "result=number+number_two\n",
    "print(result)"
   ]
  },
  {
   "cell_type": "code",
   "execution_count": null,
   "id": "888b6bfe",
   "metadata": {},
   "outputs": [],
   "source": [
    "#libaries"
   ]
  },
  {
   "cell_type": "code",
   "execution_count": 18,
   "id": "57032727",
   "metadata": {},
   "outputs": [],
   "source": [
    "from random import shuffle\n",
    "mylist=[1,2,3,4,5,6,7,8]\n",
    "shuffle (mylist)\n",
    "rd1=mylist"
   ]
  },
  {
   "cell_type": "code",
   "execution_count": 19,
   "id": "3d28d736",
   "metadata": {},
   "outputs": [
    {
     "data": {
      "text/plain": [
       "[8, 6, 2, 5, 7, 4, 1, 3]"
      ]
     },
     "execution_count": 19,
     "metadata": {},
     "output_type": "execute_result"
    }
   ],
   "source": [
    "rd1"
   ]
  },
  {
   "cell_type": "code",
   "execution_count": 20,
   "id": "4afd5a65",
   "metadata": {},
   "outputs": [
    {
     "data": {
      "text/plain": [
       "7"
      ]
     },
     "execution_count": 20,
     "metadata": {},
     "output_type": "execute_result"
    }
   ],
   "source": [
    "from random import randint\n",
    "randint(0,10)"
   ]
  },
  {
   "cell_type": "code",
   "execution_count": 21,
   "id": "7a64e513",
   "metadata": {},
   "outputs": [
    {
     "data": {
      "text/plain": [
       "1"
      ]
     },
     "execution_count": 21,
     "metadata": {},
     "output_type": "execute_result"
    }
   ],
   "source": [
    "randint(0,100)"
   ]
  },
  {
   "cell_type": "code",
   "execution_count": 22,
   "id": "8aceb8ad",
   "metadata": {},
   "outputs": [],
   "source": [
    "my_num =randint(0,100)"
   ]
  },
  {
   "cell_type": "code",
   "execution_count": 23,
   "id": "d4b6a679",
   "metadata": {},
   "outputs": [
    {
     "data": {
      "text/plain": [
       "52"
      ]
     },
     "execution_count": 23,
     "metadata": {},
     "output_type": "execute_result"
    }
   ],
   "source": [
    "my_num"
   ]
  },
  {
   "cell_type": "code",
   "execution_count": 24,
   "id": "253df908",
   "metadata": {},
   "outputs": [],
   "source": [
    "#practice"
   ]
  },
  {
   "cell_type": "code",
   "execution_count": 29,
   "id": "1f28eed0",
   "metadata": {},
   "outputs": [
    {
     "name": "stdout",
     "output_type": "stream",
     "text": [
      "enter your date of birth30\n",
      "enter your month of birth11\n",
      "enter your year of birth2003\n",
      "30\n",
      "11\n",
      "2003\n"
     ]
    }
   ],
   "source": [
    "number_1=int(input(\"enter your date of birth\"))\n",
    "number_2=int(input(\"enter your month of birth\"))\n",
    "number_3=int(input(\"enter your year of birth\"))\n",
    "result=number_1\n",
    "print(result)\n",
    "result_2=number_2\n",
    "print(result_2)\n",
    "result_3=number_3\n",
    "print(result_3)"
   ]
  },
  {
   "cell_type": "code",
   "execution_count": null,
   "id": "decab56c",
   "metadata": {},
   "outputs": [],
   "source": []
  }
 ],
 "metadata": {
  "kernelspec": {
   "display_name": "Python 3 (ipykernel)",
   "language": "python",
   "name": "python3"
  },
  "language_info": {
   "codemirror_mode": {
    "name": "ipython",
    "version": 3
   },
   "file_extension": ".py",
   "mimetype": "text/x-python",
   "name": "python",
   "nbconvert_exporter": "python",
   "pygments_lexer": "ipython3",
   "version": "3.10.9"
  }
 },
 "nbformat": 4,
 "nbformat_minor": 5
}
