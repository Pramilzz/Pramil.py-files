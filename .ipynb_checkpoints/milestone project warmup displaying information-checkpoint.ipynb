{
 "cells": [
  {
   "cell_type": "code",
   "execution_count": 2,
   "id": "8795299a",
   "metadata": {},
   "outputs": [
    {
     "name": "stdout",
     "output_type": "stream",
     "text": [
      "[1, 2, 3, 4, 5]\n"
     ]
    }
   ],
   "source": [
    "print([1,2,3,4,5])"
   ]
  },
  {
   "cell_type": "code",
   "execution_count": 3,
   "id": "aa04096a",
   "metadata": {},
   "outputs": [],
   "source": [
    "def display(row1,row2,row3):\n",
    "    print(row1)\n",
    "    print(row2)\n",
    "    print(row3)"
   ]
  },
  {
   "cell_type": "code",
   "execution_count": 11,
   "id": "2e854127",
   "metadata": {},
   "outputs": [],
   "source": [
    "example_row=[1,2,3]"
   ]
  },
  {
   "cell_type": "code",
   "execution_count": 12,
   "id": "096ed7c9",
   "metadata": {},
   "outputs": [
    {
     "name": "stdout",
     "output_type": "stream",
     "text": [
      "[1, 2, 3]\n",
      "[1, 2, 3]\n",
      "[1, 2, 3]\n"
     ]
    }
   ],
   "source": [
    "display(example_row,example_row,example_row)"
   ]
  },
  {
   "cell_type": "code",
   "execution_count": 13,
   "id": "ea971920",
   "metadata": {},
   "outputs": [],
   "source": [
    "def displayy(row1,row2,row3):\n",
    "    print(row1)\n",
    "    print(row2)\n",
    "    print(row3)"
   ]
  },
  {
   "cell_type": "code",
   "execution_count": 15,
   "id": "49324309",
   "metadata": {},
   "outputs": [],
   "source": [
    "row1=['','','']\n",
    "row2=['','','']\n",
    "row3=['','','']"
   ]
  },
  {
   "cell_type": "code",
   "execution_count": 16,
   "id": "71a8ed5a",
   "metadata": {},
   "outputs": [
    {
     "data": {
      "text/plain": [
       "['', '', '']"
      ]
     },
     "metadata": {},
     "output_type": "display_data"
    },
    {
     "data": {
      "text/plain": [
       "['', '', '']"
      ]
     },
     "metadata": {},
     "output_type": "display_data"
    },
    {
     "data": {
      "text/plain": [
       "['', '', '']"
      ]
     },
     "metadata": {},
     "output_type": "display_data"
    }
   ],
   "source": [
    "display(row1,row2,row3)"
   ]
  },
  {
   "cell_type": "code",
   "execution_count": 17,
   "id": "58cfd036",
   "metadata": {},
   "outputs": [],
   "source": [
    "row2[1]='x'"
   ]
  },
  {
   "cell_type": "code",
   "execution_count": 18,
   "id": "55ceb47a",
   "metadata": {},
   "outputs": [
    {
     "data": {
      "text/plain": [
       "['', '', '']"
      ]
     },
     "metadata": {},
     "output_type": "display_data"
    },
    {
     "data": {
      "text/plain": [
       "['', 'x', '']"
      ]
     },
     "metadata": {},
     "output_type": "display_data"
    },
    {
     "data": {
      "text/plain": [
       "['', '', '']"
      ]
     },
     "metadata": {},
     "output_type": "display_data"
    }
   ],
   "source": [
    "display(row1,row2,row3)"
   ]
  },
  {
   "cell_type": "code",
   "execution_count": 22,
   "id": "b6e68224",
   "metadata": {},
   "outputs": [
    {
     "name": "stdout",
     "output_type": "stream",
     "text": [
      "please enter a value4\n"
     ]
    },
    {
     "data": {
      "text/plain": [
       "'4'"
      ]
     },
     "execution_count": 22,
     "metadata": {},
     "output_type": "execute_result"
    }
   ],
   "source": [
    "input('please enter a value')"
   ]
  },
  {
   "cell_type": "code",
   "execution_count": 23,
   "id": "0fc58984",
   "metadata": {},
   "outputs": [
    {
     "name": "stdout",
     "output_type": "stream",
     "text": [
      "plese enter a value5\n"
     ]
    }
   ],
   "source": [
    "result=input('plese enter a value')"
   ]
  },
  {
   "cell_type": "code",
   "execution_count": 24,
   "id": "b93d1122",
   "metadata": {},
   "outputs": [
    {
     "data": {
      "text/plain": [
       "'5'"
      ]
     },
     "execution_count": 24,
     "metadata": {},
     "output_type": "execute_result"
    }
   ],
   "source": [
    "result"
   ]
  },
  {
   "cell_type": "code",
   "execution_count": 25,
   "id": "1fb75493",
   "metadata": {},
   "outputs": [
    {
     "data": {
      "text/plain": [
       "str"
      ]
     },
     "execution_count": 25,
     "metadata": {},
     "output_type": "execute_result"
    }
   ],
   "source": [
    "type(result)"
   ]
  },
  {
   "cell_type": "code",
   "execution_count": 26,
   "id": "866d3b3e",
   "metadata": {},
   "outputs": [],
   "source": [
    "result_int=int(result)"
   ]
  },
  {
   "cell_type": "code",
   "execution_count": 27,
   "id": "92f7977f",
   "metadata": {},
   "outputs": [
    {
     "data": {
      "text/plain": [
       "5"
      ]
     },
     "execution_count": 27,
     "metadata": {},
     "output_type": "execute_result"
    }
   ],
   "source": [
    "result_int"
   ]
  },
  {
   "cell_type": "code",
   "execution_count": 28,
   "id": "e7f37288",
   "metadata": {},
   "outputs": [
    {
     "data": {
      "text/plain": [
       "int"
      ]
     },
     "execution_count": 28,
     "metadata": {},
     "output_type": "execute_result"
    }
   ],
   "source": [
    "type(result_int)"
   ]
  },
  {
   "cell_type": "code",
   "execution_count": 30,
   "id": "5a3cb370",
   "metadata": {},
   "outputs": [
    {
     "data": {
      "text/plain": [
       "float"
      ]
     },
     "execution_count": 30,
     "metadata": {},
     "output_type": "execute_result"
    }
   ],
   "source": [
    "type(2.13)"
   ]
  },
  {
   "cell_type": "code",
   "execution_count": 41,
   "id": "7174a721",
   "metadata": {},
   "outputs": [
    {
     "name": "stdout",
     "output_type": "stream",
     "text": [
      "choose an index position2\n"
     ]
    }
   ],
   "source": [
    "position_index=int(input('choose an index position'))"
   ]
  },
  {
   "cell_type": "code",
   "execution_count": 42,
   "id": "7589096b",
   "metadata": {},
   "outputs": [
    {
     "data": {
      "text/plain": [
       "['', '', '']"
      ]
     },
     "execution_count": 42,
     "metadata": {},
     "output_type": "execute_result"
    }
   ],
   "source": [
    "row1"
   ]
  },
  {
   "cell_type": "code",
   "execution_count": 43,
   "id": "e46be6b2",
   "metadata": {},
   "outputs": [
    {
     "data": {
      "text/plain": [
       "int"
      ]
     },
     "execution_count": 43,
     "metadata": {},
     "output_type": "execute_result"
    }
   ],
   "source": [
    "type(position_index)"
   ]
  },
  {
   "cell_type": "code",
   "execution_count": 44,
   "id": "ff7847be",
   "metadata": {},
   "outputs": [
    {
     "data": {
      "text/plain": [
       "''"
      ]
     },
     "execution_count": 44,
     "metadata": {},
     "output_type": "execute_result"
    }
   ],
   "source": [
    "row2[position_index]"
   ]
  },
  {
   "cell_type": "code",
   "execution_count": 45,
   "id": "dca3eede",
   "metadata": {},
   "outputs": [
    {
     "name": "stdout",
     "output_type": "stream",
     "text": [
      "enter a number5\n"
     ]
    }
   ],
   "source": [
    "result=input('enter a number')"
   ]
  },
  {
   "cell_type": "code",
   "execution_count": 46,
   "id": "09633b36",
   "metadata": {},
   "outputs": [
    {
     "data": {
      "text/plain": [
       "4"
      ]
     },
     "execution_count": 46,
     "metadata": {},
     "output_type": "execute_result"
    }
   ],
   "source": [
    "2+2"
   ]
  },
  {
   "cell_type": "code",
   "execution_count": 48,
   "id": "1aa09e95",
   "metadata": {},
   "outputs": [],
   "source": [
    "def user_choice():\n",
    "    choice=input('enter a number 0-10:')\n",
    "    return int (choice)"
   ]
  },
  {
   "cell_type": "code",
   "execution_count": 49,
   "id": "f6d43b74",
   "metadata": {},
   "outputs": [
    {
     "name": "stdout",
     "output_type": "stream",
     "text": [
      "enter a number 0-10:5\n"
     ]
    },
    {
     "data": {
      "text/plain": [
       "5"
      ]
     },
     "execution_count": 49,
     "metadata": {},
     "output_type": "execute_result"
    }
   ],
   "source": [
    "user_choice()"
   ]
  },
  {
   "cell_type": "code",
   "execution_count": 50,
   "id": "a7a4a58c",
   "metadata": {},
   "outputs": [],
   "source": [
    "some_value='100'"
   ]
  },
  {
   "cell_type": "code",
   "execution_count": 51,
   "id": "a33068db",
   "metadata": {},
   "outputs": [
    {
     "data": {
      "text/plain": [
       "True"
      ]
     },
     "execution_count": 51,
     "metadata": {},
     "output_type": "execute_result"
    }
   ],
   "source": [
    "some_value.isdigit()"
   ]
  },
  {
   "cell_type": "code",
   "execution_count": 52,
   "id": "ee7fe8f4",
   "metadata": {},
   "outputs": [
    {
     "data": {
      "text/plain": [
       "str"
      ]
     },
     "execution_count": 52,
     "metadata": {},
     "output_type": "execute_result"
    }
   ],
   "source": [
    "type(some_value)"
   ]
  },
  {
   "cell_type": "code",
   "execution_count": 60,
   "id": "95520ec2",
   "metadata": {},
   "outputs": [
    {
     "data": {
      "text/plain": [
       "100"
      ]
     },
     "execution_count": 60,
     "metadata": {},
     "output_type": "execute_result"
    }
   ],
   "source": [
    "int(some_value)"
   ]
  },
  {
   "cell_type": "code",
   "execution_count": 61,
   "id": "68c019d8",
   "metadata": {},
   "outputs": [],
   "source": [
    "def user_choice():\n",
    "    choice='wrong'\n",
    "    while choice.isdigit()==False:\n",
    "        choice=input('please enter a number')\n",
    "    return int(choice)"
   ]
  },
  {
   "cell_type": "code",
   "execution_count": 62,
   "id": "fd1c48b2",
   "metadata": {},
   "outputs": [
    {
     "name": "stdout",
     "output_type": "stream",
     "text": [
      "please enter a numbertwo\n",
      "please enter a numberten\n",
      "please enter a numbernine\n",
      "please enter a number10\n"
     ]
    },
    {
     "data": {
      "text/plain": [
       "10"
      ]
     },
     "execution_count": 62,
     "metadata": {},
     "output_type": "execute_result"
    }
   ],
   "source": [
    "user_choice()"
   ]
  },
  {
   "cell_type": "code",
   "execution_count": 1,
   "id": "6dd50087",
   "metadata": {},
   "outputs": [],
   "source": [
    "def user_choice():\n",
    "    choice='wrong'\n",
    "    while choice.isdigit()==False:\n",
    "        choice=input('please enter a number 0-10:')\n",
    "        if choice.isdigit()==False:\n",
    "            print('sorry that is not a digit')\n",
    "        return int (choice)\n",
    "        "
   ]
  },
  {
   "cell_type": "code",
   "execution_count": 2,
   "id": "80763737",
   "metadata": {},
   "outputs": [
    {
     "name": "stdout",
     "output_type": "stream",
     "text": [
      "please enter a number 0-10:100\n"
     ]
    },
    {
     "data": {
      "text/plain": [
       "100"
      ]
     },
     "execution_count": 2,
     "metadata": {},
     "output_type": "execute_result"
    }
   ],
   "source": [
    "user_choice()"
   ]
  },
  {
   "cell_type": "code",
   "execution_count": 1,
   "id": "c57dd57a",
   "metadata": {},
   "outputs": [],
   "source": [
    "result='wrong value'"
   ]
  },
  {
   "cell_type": "code",
   "execution_count": 2,
   "id": "93a096dc",
   "metadata": {},
   "outputs": [],
   "source": [
    "acceptable_values=[0,1,2]"
   ]
  },
  {
   "cell_type": "code",
   "execution_count": 3,
   "id": "22e2ceb2",
   "metadata": {},
   "outputs": [
    {
     "data": {
      "text/plain": [
       "False"
      ]
     },
     "execution_count": 3,
     "metadata": {},
     "output_type": "execute_result"
    }
   ],
   "source": [
    "result in acceptable_values"
   ]
  },
  {
   "cell_type": "code",
   "execution_count": 6,
   "id": "c68542af",
   "metadata": {},
   "outputs": [
    {
     "data": {
      "text/plain": [
       "True"
      ]
     },
     "execution_count": 6,
     "metadata": {},
     "output_type": "execute_result"
    }
   ],
   "source": [
    "result not in acceptable_values"
   ]
  },
  {
   "cell_type": "code",
   "execution_count": 4,
   "id": "b5558af8",
   "metadata": {},
   "outputs": [],
   "source": [
    "def user_choice():\n",
    "    #variables\n",
    "    #initial\n",
    "    choice='wrong'\n",
    "    acceptable_range=range(0,10)\n",
    "    within_range=False\n",
    "    #two condition to check\n",
    "    #digit or within range==False\n",
    "    while choice.isdigit()== False or within_range == False:\n",
    "        choice=input('please enter a number 0-10:')\n",
    "        #digit check\n",
    "        if choice.isdigit() == False:\n",
    "            print('sorry that is not a digit')\n",
    "            #range check\n",
    "        if choice.isdigit()==True:\n",
    "            if int (choice) in acceptable_range:\n",
    "                    within_range=True\n",
    "            else:\n",
    "                print('sorry you are out of acceptable range 0-10')\n",
    "                within_range=False\n",
    "    return int (choice)"
   ]
  },
  {
   "cell_type": "code",
   "execution_count": 5,
   "id": "608aa598",
   "metadata": {},
   "outputs": [
    {
     "name": "stdout",
     "output_type": "stream",
     "text": [
      "please enter a number 0-10:11\n",
      "sorry you are out of acceptable range 0-10\n",
      "please enter a number 0-10:two\n",
      "sorry that is not a digit\n",
      "please enter a number 0-10:three\n",
      "sorry that is not a digit\n",
      "please enter a number 0-10:12\n",
      "sorry you are out of acceptable range 0-10\n",
      "please enter a number 0-10:65\n",
      "sorry you are out of acceptable range 0-10\n",
      "please enter a number 0-10:3\n"
     ]
    },
    {
     "data": {
      "text/plain": [
       "3"
      ]
     },
     "execution_count": 5,
     "metadata": {},
     "output_type": "execute_result"
    }
   ],
   "source": [
    "user_choice()"
   ]
  },
  {
   "cell_type": "code",
   "execution_count": 6,
   "id": "0f4dcc8d",
   "metadata": {},
   "outputs": [],
   "source": [
    "game_list=[0,1,2]\n",
    "def display_game(game_list):\n",
    "    print('here is the current list')\n",
    "    print(game_list)"
   ]
  },
  {
   "cell_type": "code",
   "execution_count": 7,
   "id": "b80fa736",
   "metadata": {},
   "outputs": [
    {
     "name": "stdout",
     "output_type": "stream",
     "text": [
      "here is the current list\n",
      "[0, 1, 2]\n"
     ]
    }
   ],
   "source": [
    "display_game(game_list)"
   ]
  },
  {
   "cell_type": "code",
   "execution_count": 18,
   "id": "d1ac4ff8",
   "metadata": {},
   "outputs": [],
   "source": [
    "def position_choice() :\n",
    "    choice = 'wrong'\n",
    "    while choice not in ['0','1','2']:\n",
    "        choice = input('pick a number 0,1,2: ')\n",
    "        if choice not in ['0','1','2']:\n",
    "            print('sorry invalid choice')\n",
    "    return int(choice)"
   ]
  },
  {
   "cell_type": "code",
   "execution_count": 19,
   "id": "12893cd8",
   "metadata": {},
   "outputs": [
    {
     "name": "stdout",
     "output_type": "stream",
     "text": [
      "pick a number 0,1,2: 10\n",
      "sorry invalid choice\n",
      "pick a number 0,1,2: two\n",
      "sorry invalid choice\n",
      "pick a number 0,1,2: 2\n"
     ]
    },
    {
     "data": {
      "text/plain": [
       "2"
      ]
     },
     "execution_count": 19,
     "metadata": {},
     "output_type": "execute_result"
    }
   ],
   "source": [
    "position_choice()"
   ]
  },
  {
   "cell_type": "code",
   "execution_count": 22,
   "id": "de49cdb1",
   "metadata": {},
   "outputs": [],
   "source": [
    "def replacement_choice(game_list,position):\n",
    "    user_replacement = input('enter a string to place at position')\n",
    "    game_list[position] = user_replacement\n",
    "    return game-list"
   ]
  },
  {
   "cell_type": "code",
   "execution_count": 28,
   "id": "72b52b35",
   "metadata": {},
   "outputs": [
    {
     "name": "stdout",
     "output_type": "stream",
     "text": [
      "enter a string to place at positionnew\n"
     ]
    },
    {
     "ename": "NameError",
     "evalue": "name 'game' is not defined",
     "output_type": "error",
     "traceback": [
      "\u001b[1;31m---------------------------------------------------------------------------\u001b[0m",
      "\u001b[1;31mNameError\u001b[0m                                 Traceback (most recent call last)",
      "Cell \u001b[1;32mIn[28], line 1\u001b[0m\n\u001b[1;32m----> 1\u001b[0m \u001b[43mreplacement_choice\u001b[49m\u001b[43m(\u001b[49m\u001b[43mgame_list\u001b[49m\u001b[43m,\u001b[49m\u001b[38;5;241;43m1\u001b[39;49m\u001b[43m)\u001b[49m\n",
      "Cell \u001b[1;32mIn[22], line 4\u001b[0m, in \u001b[0;36mreplacement_choice\u001b[1;34m(game_list, position)\u001b[0m\n\u001b[0;32m      2\u001b[0m user_replacement \u001b[38;5;241m=\u001b[39m \u001b[38;5;28minput\u001b[39m(\u001b[38;5;124m'\u001b[39m\u001b[38;5;124menter a string to place at position\u001b[39m\u001b[38;5;124m'\u001b[39m)\n\u001b[0;32m      3\u001b[0m game_list[position] \u001b[38;5;241m=\u001b[39m user_replacement\n\u001b[1;32m----> 4\u001b[0m \u001b[38;5;28;01mreturn\u001b[39;00m \u001b[43mgame\u001b[49m\u001b[38;5;241m-\u001b[39m\u001b[38;5;28mlist\u001b[39m\n",
      "\u001b[1;31mNameError\u001b[0m: name 'game' is not defined"
     ]
    }
   ],
   "source": [
    "replacement_choice(game_list,1)"
   ]
  },
  {
   "cell_type": "code",
   "execution_count": null,
   "id": "8b951b21",
   "metadata": {},
   "outputs": [],
   "source": []
  },
  {
   "cell_type": "code",
   "execution_count": null,
   "id": "98867bd1",
   "metadata": {},
   "outputs": [],
   "source": []
  }
 ],
 "metadata": {
  "kernelspec": {
   "display_name": "Python 3 (ipykernel)",
   "language": "python",
   "name": "python3"
  },
  "language_info": {
   "codemirror_mode": {
    "name": "ipython",
    "version": 3
   },
   "file_extension": ".py",
   "mimetype": "text/x-python",
   "name": "python",
   "nbconvert_exporter": "python",
   "pygments_lexer": "ipython3",
   "version": "3.10.9"
  }
 },
 "nbformat": 4,
 "nbformat_minor": 5
}
