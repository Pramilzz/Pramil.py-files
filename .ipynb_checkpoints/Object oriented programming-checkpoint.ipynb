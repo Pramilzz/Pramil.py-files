{
 "cells": [
  {
   "cell_type": "code",
   "execution_count": 23,
   "id": "19d8ee0a",
   "metadata": {},
   "outputs": [],
   "source": [
    "mylist=[1,2,3]"
   ]
  },
  {
   "cell_type": "code",
   "execution_count": 24,
   "id": "cfb00db2",
   "metadata": {},
   "outputs": [
    {
     "data": {
      "text/plain": [
       "[1, 2, 3]"
      ]
     },
     "execution_count": 24,
     "metadata": {},
     "output_type": "execute_result"
    }
   ],
   "source": [
    "mylist"
   ]
  },
  {
   "cell_type": "code",
   "execution_count": 25,
   "id": "500e4bad",
   "metadata": {},
   "outputs": [],
   "source": [
    "mylist = [1,2,3,4,4,5,5]"
   ]
  },
  {
   "cell_type": "code",
   "execution_count": 26,
   "id": "b805b716",
   "metadata": {},
   "outputs": [],
   "source": [
    "myset = set()"
   ]
  },
  {
   "cell_type": "code",
   "execution_count": 27,
   "id": "fa2f9de3",
   "metadata": {},
   "outputs": [
    {
     "ename": "SyntaxError",
     "evalue": "invalid syntax (1540679646.py, line 1)",
     "output_type": "error",
     "traceback": [
      "\u001b[1;36m  Cell \u001b[1;32mIn[27], line 1\u001b[1;36m\u001b[0m\n\u001b[1;33m    myset.\u001b[0m\n\u001b[1;37m          ^\u001b[0m\n\u001b[1;31mSyntaxError\u001b[0m\u001b[1;31m:\u001b[0m invalid syntax\n"
     ]
    }
   ],
   "source": [
    "myset."
   ]
  },
  {
   "cell_type": "code",
   "execution_count": 28,
   "id": "818f1b71",
   "metadata": {},
   "outputs": [],
   "source": [
    "class Sample():\n",
    "    pass"
   ]
  },
  {
   "cell_type": "code",
   "execution_count": 29,
   "id": "2855857c",
   "metadata": {},
   "outputs": [],
   "source": [
    "my_sample = Sample()"
   ]
  },
  {
   "cell_type": "code",
   "execution_count": 30,
   "id": "58507560",
   "metadata": {},
   "outputs": [
    {
     "data": {
      "text/plain": [
       "__main__.Sample"
      ]
     },
     "execution_count": 30,
     "metadata": {},
     "output_type": "execute_result"
    }
   ],
   "source": [
    "type(my_sample)"
   ]
  },
  {
   "cell_type": "code",
   "execution_count": 31,
   "id": "86c6e51c",
   "metadata": {},
   "outputs": [],
   "source": [
    "class Dog():\n",
    "    def __init__(self,breed):\n",
    "        self.breed = breed\n",
    "        "
   ]
  },
  {
   "cell_type": "code",
   "execution_count": 32,
   "id": "2c2f8833",
   "metadata": {},
   "outputs": [],
   "source": [
    "my_dog = Dog ('Lab')"
   ]
  },
  {
   "cell_type": "code",
   "execution_count": 33,
   "id": "15a623df",
   "metadata": {},
   "outputs": [
    {
     "data": {
      "text/plain": [
       "__main__.Dog"
      ]
     },
     "execution_count": 33,
     "metadata": {},
     "output_type": "execute_result"
    }
   ],
   "source": [
    "type(my_dog)"
   ]
  },
  {
   "cell_type": "code",
   "execution_count": 34,
   "id": "47ffc26a",
   "metadata": {},
   "outputs": [
    {
     "data": {
      "text/plain": [
       "'Lab'"
      ]
     },
     "execution_count": 34,
     "metadata": {},
     "output_type": "execute_result"
    }
   ],
   "source": [
    "my_dog.breed#click tab"
   ]
  },
  {
   "cell_type": "code",
   "execution_count": 35,
   "id": "45cc2ff2",
   "metadata": {},
   "outputs": [],
   "source": [
    "class Dog():\n",
    "    #Attributed\n",
    "    #we take in the arguemnt\n",
    "    #assign it to self .attribute\n",
    "    def __init__(self,mybreed):\n",
    "        self.breed = mybreed\n",
    "        "
   ]
  },
  {
   "cell_type": "code",
   "execution_count": 36,
   "id": "4af5041b",
   "metadata": {},
   "outputs": [],
   "source": [
    "my_dog = Dog('Anish')"
   ]
  },
  {
   "cell_type": "code",
   "execution_count": 37,
   "id": "550b5ada",
   "metadata": {},
   "outputs": [
    {
     "data": {
      "text/plain": [
       "'Anish'"
      ]
     },
     "execution_count": 37,
     "metadata": {},
     "output_type": "execute_result"
    }
   ],
   "source": [
    "my_dog.breed"
   ]
  },
  {
   "cell_type": "code",
   "execution_count": 38,
   "id": "8ac72c0e",
   "metadata": {},
   "outputs": [],
   "source": [
    "class Dog():\n",
    "    #Attributed\n",
    "    #we take in the arguemnt\n",
    "    #assign it to self .attribute\n",
    "    def __init__(self,mybreed):\n",
    "        self.my_attribute = mybreed\n",
    "        "
   ]
  },
  {
   "cell_type": "code",
   "execution_count": 39,
   "id": "518c28c4",
   "metadata": {},
   "outputs": [],
   "source": [
    "my_dog = Dog('Lab')"
   ]
  },
  {
   "cell_type": "code",
   "execution_count": 40,
   "id": "c82a96ba",
   "metadata": {},
   "outputs": [
    {
     "data": {
      "text/plain": [
       "'Lab'"
      ]
     },
     "execution_count": 40,
     "metadata": {},
     "output_type": "execute_result"
    }
   ],
   "source": [
    "my_dog.my_attribute"
   ]
  },
  {
   "cell_type": "code",
   "execution_count": 41,
   "id": "8efb3435",
   "metadata": {},
   "outputs": [],
   "source": [
    "class Dog():\n",
    "    def __init__(self,breed,name,spots):\n",
    "        self.breed = breed\n",
    "        self.name = name\n",
    "        #expecting a boolen\n",
    "        self.spots = spots"
   ]
  },
  {
   "cell_type": "code",
   "execution_count": 42,
   "id": "a7ac1edf",
   "metadata": {},
   "outputs": [],
   "source": [
    "my_dog = Dog(breed= 'Anish',name = 'gurung',spots = False)\n"
   ]
  },
  {
   "cell_type": "code",
   "execution_count": 43,
   "id": "a55fe283",
   "metadata": {},
   "outputs": [
    {
     "data": {
      "text/plain": [
       "__main__.Dog"
      ]
     },
     "execution_count": 43,
     "metadata": {},
     "output_type": "execute_result"
    }
   ],
   "source": [
    "type(my_dog)"
   ]
  },
  {
   "cell_type": "code",
   "execution_count": 44,
   "id": "7b61ac2f",
   "metadata": {},
   "outputs": [
    {
     "data": {
      "text/plain": [
       "'Anish'"
      ]
     },
     "execution_count": 44,
     "metadata": {},
     "output_type": "execute_result"
    }
   ],
   "source": [
    "my_dog.breed"
   ]
  },
  {
   "cell_type": "code",
   "execution_count": 45,
   "id": "1b6be422",
   "metadata": {},
   "outputs": [
    {
     "data": {
      "text/plain": [
       "'gurung'"
      ]
     },
     "execution_count": 45,
     "metadata": {},
     "output_type": "execute_result"
    }
   ],
   "source": [
    "my_dog.name"
   ]
  },
  {
   "cell_type": "code",
   "execution_count": 46,
   "id": "727292bf",
   "metadata": {},
   "outputs": [
    {
     "data": {
      "text/plain": [
       "'gurung'"
      ]
     },
     "execution_count": 46,
     "metadata": {},
     "output_type": "execute_result"
    }
   ],
   "source": [
    "my_dog.name"
   ]
  },
  {
   "cell_type": "code",
   "execution_count": 50,
   "id": "50249a13",
   "metadata": {},
   "outputs": [
    {
     "data": {
      "text/plain": [
       "False"
      ]
     },
     "execution_count": 50,
     "metadata": {},
     "output_type": "execute_result"
    }
   ],
   "source": [
    "my_dog.spots"
   ]
  },
  {
   "cell_type": "code",
   "execution_count": 52,
   "id": "973cdab7",
   "metadata": {},
   "outputs": [],
   "source": [
    "my_dog = Dog(breed= 'Anish', name = 'gurung',spots = 'NO SPOTS')"
   ]
  },
  {
   "cell_type": "code",
   "execution_count": 53,
   "id": "918fc5a1",
   "metadata": {},
   "outputs": [
    {
     "data": {
      "text/plain": [
       "'NO SPOTS'"
      ]
     },
     "execution_count": 53,
     "metadata": {},
     "output_type": "execute_result"
    }
   ],
   "source": [
    "my_dog.spots"
   ]
  },
  {
   "cell_type": "code",
   "execution_count": 56,
   "id": "1f6795e0",
   "metadata": {},
   "outputs": [],
   "source": [
    " class Dog():\n",
    "        #class abject attributes\n",
    "        #same for any instance of a class\n",
    "        species = 'mammal'\n",
    "        def __init__(self,breed,name,spots):\n",
    "            #Attributes\n",
    "            #we take in the argument\n",
    "            #assign it to the self.attribute_name\n",
    "            self.breed = breed\n",
    "            self.name = name\n",
    "            #expecting bollens true/false\n",
    "            self.spots = spots\n",
    "            "
   ]
  },
  {
   "cell_type": "code",
   "execution_count": 57,
   "id": "622f9374",
   "metadata": {},
   "outputs": [],
   "source": [
    "my_dog = Dog(breed = 'Lab',name = 'Sam',spots = False)"
   ]
  },
  {
   "cell_type": "code",
   "execution_count": 58,
   "id": "5f65684b",
   "metadata": {},
   "outputs": [
    {
     "data": {
      "text/plain": [
       "__main__.Dog"
      ]
     },
     "execution_count": 58,
     "metadata": {},
     "output_type": "execute_result"
    }
   ],
   "source": [
    " type(my_dog)"
   ]
  },
  {
   "cell_type": "code",
   "execution_count": 59,
   "id": "2332a072",
   "metadata": {},
   "outputs": [
    {
     "data": {
      "text/plain": [
       "'Lab'"
      ]
     },
     "execution_count": 59,
     "metadata": {},
     "output_type": "execute_result"
    }
   ],
   "source": [
    "my_dog.breed"
   ]
  },
  {
   "cell_type": "code",
   "execution_count": 60,
   "id": "f3c4c8f0",
   "metadata": {},
   "outputs": [
    {
     "data": {
      "text/plain": [
       "'Sam'"
      ]
     },
     "execution_count": 60,
     "metadata": {},
     "output_type": "execute_result"
    }
   ],
   "source": [
    "my_dog.name"
   ]
  },
  {
   "cell_type": "code",
   "execution_count": 61,
   "id": "db63dbf2",
   "metadata": {},
   "outputs": [
    {
     "data": {
      "text/plain": [
       "'mammal'"
      ]
     },
     "execution_count": 61,
     "metadata": {},
     "output_type": "execute_result"
    }
   ],
   "source": [
    "my_dog.species"
   ]
  },
  {
   "cell_type": "code",
   "execution_count": 62,
   "id": "0c788477",
   "metadata": {},
   "outputs": [
    {
     "data": {
      "text/plain": [
       "False"
      ]
     },
     "execution_count": 62,
     "metadata": {},
     "output_type": "execute_result"
    }
   ],
   "source": [
    "my_dog.spots"
   ]
  },
  {
   "cell_type": "code",
   "execution_count": 63,
   "id": "748734bc",
   "metadata": {},
   "outputs": [],
   "source": [
    " class Dog():\n",
    "        #class abject attributes\n",
    "        #same for any instance of a class\n",
    "        species = 'mammal'\n",
    "        def __init__(self,breed,name,spots):\n",
    "            #Attributes\n",
    "            #we take in the argument\n",
    "            #assign it to the self.attribute_name\n",
    "            self.breed = breed\n",
    "            self.name = name\n",
    "            #expecting bollens true/false\n",
    "            \n",
    "            "
   ]
  },
  {
   "cell_type": "code",
   "execution_count": null,
   "id": "85109669",
   "metadata": {},
   "outputs": [],
   "source": []
  }
 ],
 "metadata": {
  "kernelspec": {
   "display_name": "Python 3 (ipykernel)",
   "language": "python",
   "name": "python3"
  },
  "language_info": {
   "codemirror_mode": {
    "name": "ipython",
    "version": 3
   },
   "file_extension": ".py",
   "mimetype": "text/x-python",
   "name": "python",
   "nbconvert_exporter": "python",
   "pygments_lexer": "ipython3",
   "version": "3.10.9"
  }
 },
 "nbformat": 4,
 "nbformat_minor": 5
}
