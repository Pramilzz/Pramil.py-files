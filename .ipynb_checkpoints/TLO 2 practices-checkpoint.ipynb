{
 "cells": [
  {
   "cell_type": "code",
   "execution_count": 1,
   "id": "d96699f0",
   "metadata": {},
   "outputs": [],
   "source": [
    "# tlo 2"
   ]
  },
  {
   "cell_type": "code",
   "execution_count": null,
   "id": "493cf431",
   "metadata": {},
   "outputs": [],
   "source": [
    "#1.Create variables of different data types (integer, float, string, and boolean) and perform various arithmetic operations on them."
   ]
  },
  {
   "cell_type": "code",
   "execution_count": 3,
   "id": "09e49a68",
   "metadata": {},
   "outputs": [
    {
     "name": "stdout",
     "output_type": "stream",
     "text": [
      "30 35.0 2.857142857142857\n"
     ]
    }
   ],
   "source": [
    "a = 10\n",
    "b = 3.5\n",
    "c = \"20\"\n",
    "result1 = a + int(c)\n",
    "result2 = a * b\n",
    "result3 = a / b\n",
    "print(result1, result2, result3)"
   ]
  },
  {
   "cell_type": "code",
   "execution_count": null,
   "id": "e9753176",
   "metadata": {},
   "outputs": [],
   "source": [
    "#2.Given a string s = &quot;Programming is fun!&quot;, extract the word &quot;is&quot; using slicing."
   ]
  },
  {
   "cell_type": "code",
   "execution_count": 6,
   "id": "99a35ac8",
   "metadata": {},
   "outputs": [
    {
     "name": "stdout",
     "output_type": "stream",
     "text": [
      "is\n"
     ]
    }
   ],
   "source": [
    "s = \"quot;Programming is fun quot\"\n",
    "extracted_word = s[17:19]\n",
    "print(extracted_word)"
   ]
  },
  {
   "cell_type": "code",
   "execution_count": null,
   "id": "7c9705e5",
   "metadata": {},
   "outputs": [],
   "source": [
    "#3.Calculate the area of a rectangle with length l and width w using the multiplication operator."
   ]
  },
  {
   "cell_type": "code",
   "execution_count": 7,
   "id": "d6cb3ef9",
   "metadata": {},
   "outputs": [],
   "source": [
    "l = 10\n",
    "w = 5\n",
    "area = l * w"
   ]
  },
  {
   "cell_type": "code",
   "execution_count": 8,
   "id": "0059a829",
   "metadata": {},
   "outputs": [
    {
     "name": "stdout",
     "output_type": "stream",
     "text": [
      "50\n"
     ]
    }
   ],
   "source": [
    "print(area)"
   ]
  },
  {
   "cell_type": "code",
   "execution_count": null,
   "id": "54a6a4d5",
   "metadata": {},
   "outputs": [],
   "source": [
    "#4.Given two numbers x and y, calculate their sum, difference, product, and quotient using arithmetic operators."
   ]
  },
  {
   "cell_type": "code",
   "execution_count": 15,
   "id": "56e963c5",
   "metadata": {},
   "outputs": [
    {
     "name": "stdout",
     "output_type": "stream",
     "text": [
      "15\n",
      "-5\n",
      "50\n",
      "0.5\n"
     ]
    }
   ],
   "source": [
    "\n",
    "x = 5\n",
    "y = 10\n",
    "sum_result = x + y\n",
    "diff_result = x - y\n",
    "prod_result = x * y\n",
    "quot_result = x / y\n",
    "print(sum_result)\n",
    "print(diff_result)\n",
    "print(prod_result)\n",
    "print(quot_result)"
   ]
  },
  {
   "cell_type": "code",
   "execution_count": 16,
   "id": "04fa5e18",
   "metadata": {},
   "outputs": [],
   "source": [
    "#6.Determine the remainder of the division of two numbers a and b using the modulo operator."
   ]
  },
  {
   "cell_type": "code",
   "execution_count": 27,
   "id": "14c2a9d7",
   "metadata": {},
   "outputs": [
    {
     "name": "stdout",
     "output_type": "stream",
     "text": [
      "the remainder of the division in: 2\n"
     ]
    }
   ],
   "source": [
    "a = 79\n",
    "b = 7\n",
    "remainder = a % b\n",
    "print(\"the remainder of the division in:\",remainder)"
   ]
  },
  {
   "cell_type": "code",
   "execution_count": 33,
   "id": "986d5a1b",
   "metadata": {},
   "outputs": [
    {
     "name": "stdout",
     "output_type": "stream",
     "text": [
      "Enter the first number3\n",
      "Enter the second number4\n",
      "7.0\n",
      "-1.0\n",
      "12.0\n",
      "0.75\n"
     ]
    }
   ],
   "source": [
    "x = float(input('Enter the first number'))\n",
    "y = float(input('Enter the second number'))\n",
    "\n",
    "sum_result = x + y\n",
    "diff_result = x - y\n",
    "prod_result = x * y\n",
    "quot_result = x / y\n",
    "\n",
    "print(sum_result)\n",
    "print(diff_result)\n",
    "print(prod_result)\n",
    "print(quot_result)"
   ]
  },
  {
   "cell_type": "code",
   "execution_count": 37,
   "id": "6fbaa721",
   "metadata": {},
   "outputs": [
    {
     "name": "stdout",
     "output_type": "stream",
     "text": [
      "Enter the length of the rectangle4\n",
      "Enter the width of the rectangle8\n",
      "The area of the rectangle is: 32.0\n"
     ]
    }
   ],
   "source": [
    "#8.\n",
    "l = float(input('Enter the length of the rectangle'))\n",
    "w = float(input('Enter the width of the rectangle'))\n",
    "area = l * w\n",
    "print(\"The area of the rectangle is:\", area)"
   ]
  },
  {
   "cell_type": "code",
   "execution_count": null,
   "id": "2a913c7b",
   "metadata": {},
   "outputs": [],
   "source": []
  }
 ],
 "metadata": {
  "kernelspec": {
   "display_name": "Python 3 (ipykernel)",
   "language": "python",
   "name": "python3"
  },
  "language_info": {
   "codemirror_mode": {
    "name": "ipython",
    "version": 3
   },
   "file_extension": ".py",
   "mimetype": "text/x-python",
   "name": "python",
   "nbconvert_exporter": "python",
   "pygments_lexer": "ipython3",
   "version": "3.10.9"
  }
 },
 "nbformat": 4,
 "nbformat_minor": 5
}
