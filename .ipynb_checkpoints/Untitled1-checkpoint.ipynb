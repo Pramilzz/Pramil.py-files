{
 "cells": [
  {
   "cell_type": "code",
   "execution_count": 23,
   "id": "bdab38f1",
   "metadata": {},
   "outputs": [
    {
     "name": "stdout",
     "output_type": "stream",
     "text": [
      "30.5\n",
      "205.0\n",
      "0.4878048780487805\n"
     ]
    }
   ],
   "source": [
    "a=10\n",
    "b=20.5\n",
    "c='20'\n",
    "print(a+b)\n",
    "print(a*b)\n",
    "print(a/b)"
   ]
  },
  {
   "cell_type": "code",
   "execution_count": 4,
   "id": "3ede2497",
   "metadata": {},
   "outputs": [],
   "source": [
    "#2 \"programming is fun\" extract the word\"is\" using slicing."
   ]
  },
  {
   "cell_type": "code",
   "execution_count": 19,
   "id": "bde07b96",
   "metadata": {},
   "outputs": [],
   "source": [
    "s='Programming is fun'"
   ]
  },
  {
   "cell_type": "code",
   "execution_count": 20,
   "id": "58f8e834",
   "metadata": {},
   "outputs": [
    {
     "data": {
      "text/plain": [
       "'is'"
      ]
     },
     "execution_count": 20,
     "metadata": {},
     "output_type": "execute_result"
    }
   ],
   "source": [
    "s[12:14]"
   ]
  },
  {
   "cell_type": "code",
   "execution_count": 13,
   "id": "2a1098d7",
   "metadata": {},
   "outputs": [],
   "source": [
    "#3.calculate the area of a rectangle with length l and width w using the multiplication operators."
   ]
  },
  {
   "cell_type": "code",
   "execution_count": 27,
   "id": "719aaaa4",
   "metadata": {},
   "outputs": [
    {
     "name": "stdout",
     "output_type": "stream",
     "text": [
      "enter the length12\n",
      "enter the width12\n",
      "the area of a rectangle is, area\n"
     ]
    }
   ],
   "source": [
    "length= float(input('enter the length'))\n",
    "width= float(input('enter the width'))\n",
    "area=length*width\n",
    "print('the area of a rectangle is, area')"
   ]
  },
  {
   "cell_type": "code",
   "execution_count": null,
   "id": "4c7e6653",
   "metadata": {},
   "outputs": [],
   "source": [
    "# 4.calculate two number x and y, calculate the sum.\n"
   ]
  },
  {
   "cell_type": "code",
   "execution_count": 18,
   "id": "f62e6c92",
   "metadata": {},
   "outputs": [
    {
     "name": "stdout",
     "output_type": "stream",
     "text": [
      "70\n"
     ]
    }
   ],
   "source": [
    "x=20\n",
    "y=50\n",
    "print(x+y)"
   ]
  },
  {
   "cell_type": "code",
   "execution_count": null,
   "id": "d712e370",
   "metadata": {},
   "outputs": [],
   "source": [
    "#5. determine the remainder of the division of two numbers a and b using the module operator."
   ]
  },
  {
   "cell_type": "code",
   "execution_count": 31,
   "id": "137ca091",
   "metadata": {},
   "outputs": [
    {
     "name": "stdout",
     "output_type": "stream",
     "text": [
      "enter the first number32\n",
      "enter the second number7\n",
      "the remainder is 4.0\n"
     ]
    }
   ],
   "source": [
    "x= float(input('enter the first number'))\n",
    "y= float(input('enter the second number'))\n",
    "rem=(x%y)\n",
    "print('the remainder is', rem)"
   ]
  },
  {
   "cell_type": "code",
   "execution_count": 24,
   "id": "631f8e8b",
   "metadata": {},
   "outputs": [],
   "source": [
    "#6. take two numbers as input from the users and perform addition, substraction, multiplecation, and division operands."
   ]
  },
  {
   "cell_type": "code",
   "execution_count": 25,
   "id": "74769304",
   "metadata": {},
   "outputs": [
    {
     "name": "stdout",
     "output_type": "stream",
     "text": [
      "90\n",
      "10\n",
      "2000\n",
      "10\n"
     ]
    }
   ],
   "source": [
    "a=50\n",
    "b=40\n",
    "print(a+b)\n",
    "print(a-b)\n",
    "print(a*b)\n",
    "print(a%b)"
   ]
  },
  {
   "cell_type": "code",
   "execution_count": 32,
   "id": "0f01cabe",
   "metadata": {},
   "outputs": [],
   "source": [
    "s='python'\n"
   ]
  },
  {
   "cell_type": "code",
   "execution_count": 34,
   "id": "27343903",
   "metadata": {},
   "outputs": [
    {
     "data": {
      "text/plain": [
       "'cpython'"
      ]
     },
     "execution_count": 34,
     "metadata": {},
     "output_type": "execute_result"
    }
   ],
   "source": [
    "'c'+'python'"
   ]
  },
  {
   "cell_type": "code",
   "execution_count": 40,
   "id": "8174782a",
   "metadata": {},
   "outputs": [
    {
     "data": {
      "text/plain": [
       "'hellow i am apython programmer'"
      ]
     },
     "execution_count": 40,
     "metadata": {},
     "output_type": "execute_result"
    }
   ],
   "source": [
    "s1=\"hellow\"\n",
    "s2=\"iam a\"\n",
    "s3=\"python programmer\"\n",
    "\"hellow\"+\" i am a\"+\"python programmer\""
   ]
  },
  {
   "cell_type": "code",
   "execution_count": 41,
   "id": "5bfc1d05",
   "metadata": {},
   "outputs": [],
   "source": [
    "x='the quick brown fox'"
   ]
  },
  {
   "cell_type": "code",
   "execution_count": 42,
   "id": "50024154",
   "metadata": {},
   "outputs": [
    {
     "data": {
      "text/plain": [
       "'THE QUICK BROWN FOX'"
      ]
     },
     "execution_count": 42,
     "metadata": {},
     "output_type": "execute_result"
    }
   ],
   "source": [
    "x.upper()"
   ]
  },
  {
   "cell_type": "code",
   "execution_count": 53,
   "id": "b054ca1f",
   "metadata": {},
   "outputs": [
    {
     "name": "stdout",
     "output_type": "stream",
     "text": [
      " my name is john and age is 25 years old\n"
     ]
    }
   ],
   "source": [
    "name=\"john\"\n",
    "age=\"25\"\n",
    "print(f' my name is {name} and age is { age} years old')"
   ]
  },
  {
   "cell_type": "code",
   "execution_count": 50,
   "id": "e47d20c8",
   "metadata": {},
   "outputs": [],
   "source": [
    "s= \"i love python programming\""
   ]
  },
  {
   "cell_type": "code",
   "execution_count": 52,
   "id": "256d0021",
   "metadata": {},
   "outputs": [
    {
     "data": {
      "text/plain": [
       "'programming'"
      ]
     },
     "execution_count": 52,
     "metadata": {},
     "output_type": "execute_result"
    }
   ],
   "source": [
    "s[14:]"
   ]
  },
  {
   "cell_type": "code",
   "execution_count": 54,
   "id": "46b35453",
   "metadata": {},
   "outputs": [
    {
     "ename": "ValueError",
     "evalue": "Unknown format code 'd' for object of type 'float'",
     "output_type": "error",
     "traceback": [
      "\u001b[1;31m---------------------------------------------------------------------------\u001b[0m",
      "\u001b[1;31mValueError\u001b[0m                                Traceback (most recent call last)",
      "Cell \u001b[1;32mIn[54], line 2\u001b[0m\n\u001b[0;32m      1\u001b[0m pi\u001b[38;5;241m=\u001b[39m\u001b[38;5;124m'\u001b[39m\u001b[38;5;124m3.1415926535\u001b[39m\u001b[38;5;124m'\u001b[39m \n\u001b[1;32m----> 2\u001b[0m \u001b[38;5;28mprint\u001b[39m(\u001b[38;5;124;43m\"\u001b[39;49m\u001b[38;5;132;43;01m{:4d}\u001b[39;49;00m\u001b[38;5;124;43m\"\u001b[39;49m\u001b[38;5;241;43m.\u001b[39;49m\u001b[43m \u001b[49m\u001b[38;5;28;43mformat\u001b[39;49m\u001b[43m(\u001b[49m\u001b[38;5;241;43m3.1415926535\u001b[39;49m\u001b[43m)\u001b[49m)\n",
      "\u001b[1;31mValueError\u001b[0m: Unknown format code 'd' for object of type 'float'"
     ]
    }
   ],
   "source": [
    "pi='3.1415926535' \n",
    "print(f{3.1415926535:4d}\")\n"
   ]
  },
  {
   "cell_type": "code",
   "execution_count": null,
   "id": "823cb5d6",
   "metadata": {},
   "outputs": [],
   "source": []
  }
 ],
 "metadata": {
  "kernelspec": {
   "display_name": "Python 3 (ipykernel)",
   "language": "python",
   "name": "python3"
  },
  "language_info": {
   "codemirror_mode": {
    "name": "ipython",
    "version": 3
   },
   "file_extension": ".py",
   "mimetype": "text/x-python",
   "name": "python",
   "nbconvert_exporter": "python",
   "pygments_lexer": "ipython3",
   "version": "3.10.9"
  }
 },
 "nbformat": 4,
 "nbformat_minor": 5
}
