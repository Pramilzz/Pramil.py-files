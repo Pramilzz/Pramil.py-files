{
 "cells": [
  {
   "cell_type": "code",
   "execution_count": 1,
   "id": "70211967",
   "metadata": {},
   "outputs": [],
   "source": [
    "#TLO4\n"
   ]
  },
  {
   "cell_type": "code",
   "execution_count": 7,
   "id": "7151c893",
   "metadata": {},
   "outputs": [
    {
     "name": "stdout",
     "output_type": "stream",
     "text": [
      "hellow! this is the firsts line\n",
      "this is the second line \n",
      "this is the third line\n",
      "\n"
     ]
    }
   ],
   "source": [
    "with open(\"myfile.txt\",\"r\") as file:\n",
    "    content = file.read()\n",
    "print(content)"
   ]
  },
  {
   "cell_type": "code",
   "execution_count": 8,
   "id": "37066f06",
   "metadata": {},
   "outputs": [
    {
     "name": "stdout",
     "output_type": "stream",
     "text": [
      "hellow! this is the firsts line\n",
      "\n"
     ]
    }
   ],
   "source": [
    "#2\n",
    "with open(\"myfile.txt\", \"r\") as file:\n",
    "    first_line = file.readline()\n",
    "print(first_line)"
   ]
  },
  {
   "cell_type": "code",
   "execution_count": 13,
   "id": "389e2b00",
   "metadata": {},
   "outputs": [],
   "source": [
    "#3\n",
    "with open(\"empty.txt\", \"w\") as file:\n",
    "    file.write(\"This is an empty file.\")"
   ]
  },
  {
   "cell_type": "code",
   "execution_count": null,
   "id": "9666567c",
   "metadata": {},
   "outputs": [],
   "source": []
  },
  {
   "cell_type": "code",
   "execution_count": 16,
   "id": "131df950",
   "metadata": {},
   "outputs": [],
   "source": [
    "#4\n",
    "with open(\"append_myfile.txt\", \"a\") as file:\n",
    "    file.write(\"\\nAppended line.\")"
   ]
  },
  {
   "cell_type": "code",
   "execution_count": 18,
   "id": "f41119e4",
   "metadata": {},
   "outputs": [
    {
     "ename": "TypeError",
     "evalue": "TextIOWrapper.write() takes exactly one argument (0 given)",
     "output_type": "error",
     "traceback": [
      "\u001b[1;31m---------------------------------------------------------------------------\u001b[0m",
      "\u001b[1;31mTypeError\u001b[0m                                 Traceback (most recent call last)",
      "Cell \u001b[1;32mIn[18], line 1\u001b[0m\n\u001b[1;32m----> 1\u001b[0m \u001b[43mfile\u001b[49m\u001b[38;5;241;43m.\u001b[39;49m\u001b[43mwrite\u001b[49m\u001b[43m(\u001b[49m\u001b[43m)\u001b[49m\n",
      "\u001b[1;31mTypeError\u001b[0m: TextIOWrapper.write() takes exactly one argument (0 given)"
     ]
    }
   ],
   "source": [
    "file.write()"
   ]
  },
  {
   "cell_type": "code",
   "execution_count": 1,
   "id": "8ce2210c",
   "metadata": {},
   "outputs": [
    {
     "name": "stdout",
     "output_type": "stream",
     "text": [
      "80\n"
     ]
    }
   ],
   "source": [
    "#5.\n",
    "with open(\"myfile.txt\", \"r\") as file:\n",
    "    content = file.read()\n",
    "    print(len(content))"
   ]
  },
  {
   "cell_type": "code",
   "execution_count": 3,
   "id": "e9bdafaa",
   "metadata": {},
   "outputs": [
    {
     "name": "stdout",
     "output_type": "stream",
     "text": [
      "16\n"
     ]
    }
   ],
   "source": [
    "#6.\n",
    "with open(\"myfile.txt\", \"r\") as file:\n",
    "    content = file.read()\n",
    "    words = content.split()\n",
    "    print(len(words))"
   ]
  },
  {
   "cell_type": "code",
   "execution_count": 5,
   "id": "e17fcb87",
   "metadata": {},
   "outputs": [
    {
     "name": "stdout",
     "output_type": "stream",
     "text": [
      "True\n"
     ]
    }
   ],
   "source": [
    "#7.\n",
    "num = 14\n",
    "result = 10<= num <= 20 and num % 2 == 0\n",
    "print(result)"
   ]
  },
  {
   "cell_type": "code",
   "execution_count": 6,
   "id": "5e1601c4",
   "metadata": {},
   "outputs": [
    {
     "name": "stdout",
     "output_type": "stream",
     "text": [
      "True\n"
     ]
    }
   ],
   "source": [
    "#8.\n",
    "text = \"banana\"\n",
    "\n",
    "result = 5 <= len(text) <= 10 and 'a' in text\n",
    "print(result)"
   ]
  },
  {
   "cell_type": "code",
   "execution_count": 8,
   "id": "0d8d6222",
   "metadata": {},
   "outputs": [
    {
     "name": "stdout",
     "output_type": "stream",
     "text": [
      "True\n"
     ]
    }
   ],
   "source": [
    "#9.\n",
    "temperature = 20\n",
    "humidity = 40\n",
    "result = 15 <= temperature <= 25 or humidity < 30\n",
    "print(result)"
   ]
  },
  {
   "cell_type": "code",
   "execution_count": 9,
   "id": "3e4a7c75",
   "metadata": {},
   "outputs": [],
   "source": [
    "#10.\n",
    "x = 5\n",
    "y = 7\n",
    "z = 10\n",
    "result = x != y and z > x and z> y"
   ]
  },
  {
   "cell_type": "code",
   "execution_count": 10,
   "id": "a570d4a5",
   "metadata": {},
   "outputs": [
    {
     "data": {
      "text/plain": [
       "True"
      ]
     },
     "execution_count": 10,
     "metadata": {},
     "output_type": "execute_result"
    }
   ],
   "source": [
    "result"
   ]
  },
  {
   "cell_type": "code",
   "execution_count": 11,
   "id": "6a4a255e",
   "metadata": {},
   "outputs": [
    {
     "name": "stdout",
     "output_type": "stream",
     "text": [
      "True\n"
     ]
    }
   ],
   "source": [
    "#11.\n",
    "a=3\n",
    "b = 3\n",
    "c = 6\n",
    "d = 7\n",
    "result = a == b or c == d\n",
    "print(result)"
   ]
  },
  {
   "cell_type": "code",
   "execution_count": 12,
   "id": "1d7222da",
   "metadata": {},
   "outputs": [
    {
     "name": "stdout",
     "output_type": "stream",
     "text": [
      "True\n"
     ]
    }
   ],
   "source": [
    "#12.\n",
    "num1 = 9\n",
    "num2 = 8\n",
    "result = num1 % 2 != 0 and num2 % 2 == 0\n",
    "\n",
    "print(result)"
   ]
  },
  {
   "cell_type": "code",
   "execution_count": 13,
   "id": "dcd33dc4",
   "metadata": {},
   "outputs": [
    {
     "name": "stdout",
     "output_type": "stream",
     "text": [
      "True\n"
     ]
    }
   ],
   "source": [
    "#13.\n",
    "age = 15\n",
    "grade = 8\n",
    "result = 13 <= age <= 19 or 7 <= grade <= 12\n",
    "print(result)"
   ]
  },
  {
   "cell_type": "code",
   "execution_count": 14,
   "id": "a6356157",
   "metadata": {},
   "outputs": [],
   "source": [
    "#TLO5"
   ]
  },
  {
   "cell_type": "code",
   "execution_count": 23,
   "id": "57f161f4",
   "metadata": {},
   "outputs": [
    {
     "name": "stdout",
     "output_type": "stream",
     "text": [
      "Enter the temperature:35\n",
      "It's hot outside!\n"
     ]
    }
   ],
   "source": [
    "#1.Basic if statement with input\n",
    "temperature = int(input(\"Enter the temperature:\"))\n",
    "if temperature> 30:\n",
    "    print(\"It's hot outside!\")"
   ]
  },
  {
   "cell_type": "code",
   "execution_count": 28,
   "id": "bfd867cf",
   "metadata": {},
   "outputs": [
    {
     "name": "stdout",
     "output_type": "stream",
     "text": [
      "Enter the temperature:20\n",
      "It's not hot outside!\n"
     ]
    }
   ],
   "source": [
    "#2: if-else statement with input\n",
    "temperature = int(input(\"Enter the temperature:\"))\n",
    "if temperature> 30:\n",
    "    print(\"It's hot outside!\")\n",
    "else:\n",
    "    print(\"It's not hot outside!\")"
   ]
  },
  {
   "cell_type": "code",
   "execution_count": 3,
   "id": "58536fab",
   "metadata": {},
   "outputs": [
    {
     "name": "stdout",
     "output_type": "stream",
     "text": [
      "Enter an animal type: Dog\n",
      "Woof!\n"
     ]
    }
   ],
   "source": [
    "#3.animal = input(\"Enter an animal type:\")\n",
    "\n",
    "\n",
    "animal = input(\"Enter an animal type: \")\n",
    "\n",
    "if animal == \"Dog\":\n",
    "    print(\"Woof!\")\n",
    "elif animal == \"Cat\":\n",
    "    print(\"Meow!\")\n",
    "elif animal == \"Bird\":\n",
    "    print(\"Chirp!\")\n",
    "else:\n",
    "    print(\"I don't know this animal.\")"
   ]
  },
  {
   "cell_type": "code",
   "execution_count": 4,
   "id": "bec74062",
   "metadata": {},
   "outputs": [
    {
     "name": "stdout",
     "output_type": "stream",
     "text": [
      "Enter the number of elements in the list: 4\n",
      "Enter element 1: 6\n",
      "Enter element 2: 3\n",
      "Enter element 3: 2\n",
      "Enter element 4: 3\n",
      "6\n",
      "3\n",
      "2\n",
      "3\n"
     ]
    }
   ],
   "source": [
    "#4.for loop\n",
    "num_elements = int(input(\"Enter the number of elements in the list: \"))\n",
    "elements = []\n",
    "for i in range(num_elements):\n",
    "    element = int(input(f\"Enter element {i + 1}: \"))\n",
    "    elements.append(element)\n",
    "for num in elements:\n",
    "    print(num)"
   ]
  },
  {
   "cell_type": "code",
   "execution_count": 5,
   "id": "7377508b",
   "metadata": {},
   "outputs": [
    {
     "name": "stdout",
     "output_type": "stream",
     "text": [
      "Enter a string: pramil\n",
      "p\n",
      "r\n",
      "a\n",
      "m\n",
      "i\n",
      "l\n"
     ]
    }
   ],
   "source": [
    "#5.\n",
    "\n",
    "input_string = input(\"Enter a string: \")\n",
    "for char in input_string:\n",
    "    print(char)"
   ]
  },
  {
   "cell_type": "code",
   "execution_count": null,
   "id": "f6eac14b",
   "metadata": {},
   "outputs": [
    {
     "name": "stdout",
     "output_type": "stream",
     "text": [
      "Enter the number of pairs: 45\n",
      "Enter the first element of pair 1: 3\n",
      "Enter the second element of pair 1: 4\n",
      "Enter the first element of pair 2: 5\n",
      "Enter the second element of pair 2: 76\n",
      "Enter the first element of pair 3: 3\n",
      "Enter the second element of pair 3: 5\n",
      "Enter the first element of pair 4: 4\n",
      "Enter the second element of pair 4: 5\n"
     ]
    }
   ],
   "source": [
    "#6.\n",
    "num_pairs = int(input(\"Enter the number of pairs: \"))\n",
    "pairs = []\n",
    "for i in range(num_pairs):\n",
    "    first = int(input(f\"Enter the first element of pair {i + 1}: \"))\n",
    "    second = int(input(f\"Enter the second element of pair {i + 1}: \"))\n",
    "    pairs.append((first, second))\n",
    "for a, b in pairs:\n",
    "    print(f\"First element: {a}, Second element: {b}\")"
   ]
  },
  {
   "cell_type": "code",
   "execution_count": 1,
   "id": "cc29dfa7",
   "metadata": {},
   "outputs": [
    {
     "name": "stdout",
     "output_type": "stream",
     "text": [
      "Enter the number of entries in the dictionary: 2\n",
      "Enter the key for entry 1: k\n",
      "Enter the value for entry 1: 31\n",
      "Enter the key for entry 2: k\n",
      "Enter the value for entry 2: 12\n",
      "Key: k, Value: 12\n"
     ]
    }
   ],
   "source": [
    "#7\n",
    "num_entries = int(input(\"Enter the number of entries in the dictionary: \"))\n",
    "input_dict = {}\n",
    "for i in range(num_entries):\n",
    "    key = input(f\"Enter the key for entry {i + 1}: \")\n",
    "    value = input(f\"Enter the value for entry {i + 1}: \")\n",
    "    input_dict[key] = value\n",
    "for key, value in input_dict.items():\n",
    "    print(f\"Key: {key}, Value: {value}\")"
   ]
  },
  {
   "cell_type": "code",
   "execution_count": 2,
   "id": "08b36ea6",
   "metadata": {},
   "outputs": [
    {
     "name": "stdout",
     "output_type": "stream",
     "text": [
      "Enter the number of entries in the dictionary: 3\n",
      "Enter the key for entry 1: k\n",
      "Enter the value for entry 1: 3\n",
      "Enter the key for entry 2: k\n",
      "Enter the value for entry 2: 3\n",
      "Enter the key for entry 3: k\n",
      "Enter the value for entry 3: 4\n",
      "Key: k, Value: 4\n"
     ]
    }
   ],
   "source": [
    "#8.\n",
    "num_entries = int(input(\"Enter the number of entries in the dictionary: \"))\n",
    "input_dict = {}\n",
    "for i in range(num_entries):\n",
    "    key = input(f\"Enter the key for entry {i + 1}: \")\n",
    "    value = input(f\"Enter the value for entry {i + 1}: \")\n",
    "    input_dict[key] = value\n",
    "\n",
    "for key, value in input_dict.items():\n",
    "    print(f\"Key: {key}, Value: {value}\")"
   ]
  },
  {
   "cell_type": "code",
   "execution_count": 3,
   "id": "abd85870",
   "metadata": {},
   "outputs": [
    {
     "name": "stdout",
     "output_type": "stream",
     "text": [
      "1 2 3 \n",
      "4 5 6 \n",
      "7 8 9 \n"
     ]
    }
   ],
   "source": [
    "#9.\n",
    "nested_list = [\n",
    "    [1, 2, 3],\n",
    "    [4, 5, 6],\n",
    "    [7, 8, 9]\n",
    "]\n",
    "for i in range(len(nested_list)):\n",
    "    for j in range(len(nested_list[i])):\n",
    "        print(nested_list[i][j], end=' ')\n",
    "    print()"
   ]
  },
  {
   "cell_type": "code",
   "execution_count": 4,
   "id": "46456a73",
   "metadata": {},
   "outputs": [
    {
     "name": "stdout",
     "output_type": "stream",
     "text": [
      "2\n",
      "4\n",
      "6\n",
      "8\n",
      "10\n",
      "12\n",
      "14\n"
     ]
    }
   ],
   "source": [
    "#while loop\n",
    "counter = 3\n",
    "number = 1\n",
    "while counter < 10:\n",
    "    if number % 2 == 0:\n",
    "        print(number)\n",
    "        counter += 1\n",
    "    number += 1"
   ]
  },
  {
   "cell_type": "code",
   "execution_count": 5,
   "id": "c7fa22cb",
   "metadata": {},
   "outputs": [
    {
     "name": "stdout",
     "output_type": "stream",
     "text": [
      "0\n",
      "1\n",
      "1\n",
      "2\n",
      "3\n",
      "5\n",
      "8\n",
      "13\n",
      "21\n",
      "34\n"
     ]
    }
   ],
   "source": [
    "#11.\n",
    "a, b = 0, 1\n",
    "counter = 0\n",
    "\n",
    "while counter < 10:\n",
    "    print(a)\n",
    "    a, b = b, a + b\n",
    "    counter +=1 \n",
    "    "
   ]
  },
  {
   "cell_type": "code",
   "execution_count": 6,
   "id": "53668672",
   "metadata": {},
   "outputs": [
    {
     "name": "stdout",
     "output_type": "stream",
     "text": [
      "The factorial of 5 is 120.\n"
     ]
    }
   ],
   "source": [
    "#12.\n",
    "n =5\n",
    "factorial =1\n",
    "i = 1\n",
    "while i <= n:\n",
    "    factorial *= i\n",
    "    i += 1\n",
    "print(f\"The factorial of {n} is {factorial}.\")\n"
   ]
  },
  {
   "cell_type": "code",
   "execution_count": 7,
   "id": "65d01eb7",
   "metadata": {},
   "outputs": [
    {
     "name": "stdout",
     "output_type": "stream",
     "text": [
      "apple\n",
      "banana\n",
      "cherry\n"
     ]
    }
   ],
   "source": [
    "#13\n",
    "#pass\n",
    "fruits = ['apple', 'banana', 'cherry']\n",
    "for fruit in fruits:\n",
    "    if fruit == 'banana':\n",
    "        pass\n",
    "    print(fruit)"
   ]
  },
  {
   "cell_type": "code",
   "execution_count": 8,
   "id": "940e23fc",
   "metadata": {},
   "outputs": [
    {
     "name": "stdout",
     "output_type": "stream",
     "text": [
      "apple\n",
      "cherry\n"
     ]
    }
   ],
   "source": [
    "#14\n",
    "#continue\n",
    "fruits = ['apple', 'banana', 'cherry']\n",
    "for fruit in fruits:\n",
    "    if fruit == 'banana':\n",
    "        continue\n",
    "    print(fruit)"
   ]
  },
  {
   "cell_type": "code",
   "execution_count": 9,
   "id": "34f89051",
   "metadata": {},
   "outputs": [
    {
     "name": "stdout",
     "output_type": "stream",
     "text": [
      "apple\n"
     ]
    }
   ],
   "source": [
    "#15\n",
    "#Break\n",
    "fruits = ['apple', 'banana', 'cherry']\n",
    "for fruit in fruits:\n",
    "    if fruit == 'banana':\n",
    "        break\n",
    "    print(fruit)"
   ]
  },
  {
   "cell_type": "code",
   "execution_count": 10,
   "id": "7986b474",
   "metadata": {},
   "outputs": [
    {
     "name": "stdout",
     "output_type": "stream",
     "text": [
      "[5, 10, 15, 20, 25, 30, 35, 40, 45, 50]\n"
     ]
    }
   ],
   "source": [
    "# useful operator in python\n",
    "\n",
    "\n",
    "numbers = list(range(5, 51, 5))\n",
    "print(numbers)\n"
   ]
  },
  {
   "cell_type": "code",
   "execution_count": 11,
   "id": "14cb2c67",
   "metadata": {},
   "outputs": [
    {
     "name": "stdout",
     "output_type": "stream",
     "text": [
      "Index 0, squared value: 1\n",
      "Index 1, squared value: 4\n",
      "Index 2, squared value: 9\n",
      "Index 3, squared value: 16\n",
      "Index 4, squared value: 25\n"
     ]
    }
   ],
   "source": [
    "#17\n",
    "numbers = [1, 2, 3, 4, 5]\n",
    "for index, number in enumerate(numbers):\n",
    "    print(f\"Index {index}, squared value: {number ** 2}\")\n"
   ]
  },
  {
   "cell_type": "code",
   "execution_count": 12,
   "id": "da474cab",
   "metadata": {},
   "outputs": [
    {
     "name": "stdout",
     "output_type": "stream",
     "text": [
      "Sum of 1 and 6: 7\n",
      "Sum of 2 and 7: 9\n",
      "Sum of 3 and 8: 11\n",
      "Sum of 4 and 9: 13\n",
      "Sum of 5 and 10: 15\n"
     ]
    }
   ],
   "source": [
    "#18\n",
    "list1 = [1, 2, 3, 4, 5]\n",
    "list2 = [6, 7, 8, 9, 10]\n",
    "for num1, num2 in zip(list1, list2):\n",
    "    print(f\"Sum of {num1} and {num2}: {num1 + num2}\")\n"
   ]
  },
  {
   "cell_type": "code",
   "execution_count": 14,
   "id": "d04f33f2",
   "metadata": {},
   "outputs": [
    {
     "name": "stdout",
     "output_type": "stream",
     "text": [
      "4 is not in the list\n"
     ]
    }
   ],
   "source": [
    "#19\n",
    "numbers = [1, 3, 5, 7, 9]\n",
    "given_number = 4\n",
    "if given_number in numbers:\n",
    "    print(f\"{given_number} is in the list\")\n",
    "else:\n",
    "    print(f\"{given_number} is not in the list\")"
   ]
  },
  {
   "cell_type": "code",
   "execution_count": 15,
   "id": "3ecb1292",
   "metadata": {},
   "outputs": [
    {
     "name": "stdout",
     "output_type": "stream",
     "text": [
      "Shuffled list: [2, 6, 4, 8, 10, 7, 5, 9, 1, 3]\n",
      "Random integer between 1 and 100: 89\n"
     ]
    }
   ],
   "source": [
    "#20\n",
    "from random import shuffle, randint\n",
    "numbers = [1, 2, 3, 4, 5, 6, 7, 8, 9, 10]\n",
    "shuffle(numbers)\n",
    "print(\"Shuffled list:\", numbers)\n",
    "random_number = randint(1, 100)\n",
    "print(\"Random integer between 1 and 100:\", random_number)\n",
    "\n"
   ]
  },
  {
   "cell_type": "code",
   "execution_count": 16,
   "id": "1ccde083",
   "metadata": {},
   "outputs": [
    {
     "name": "stdout",
     "output_type": "stream",
     "text": [
      "Enter your name: pramil\n",
      "Enter your age: 19\n",
      "Your name is pramil and your age is 19.\n"
     ]
    }
   ],
   "source": [
    "#21\n",
    "name = input(\"Enter your name: \")\n",
    "age = int(input(\"Enter your age: \"))\n",
    "print(f\"Your name is {name} and your age is {age}.\")"
   ]
  },
  {
   "cell_type": "code",
   "execution_count": 19,
   "id": "adf8fdad",
   "metadata": {},
   "outputs": [
    {
     "name": "stdout",
     "output_type": "stream",
     "text": [
      "['P', 'r', 'a', 'm', 'i', 'l']\n"
     ]
    }
   ],
   "source": [
    "#21\n",
    "input_string = \"Pramil\"\n",
    "output_list = [char for char in input_string]\n",
    "print(output_list)"
   ]
  },
  {
   "cell_type": "code",
   "execution_count": 20,
   "id": "75ec1fac",
   "metadata": {},
   "outputs": [
    {
     "name": "stdout",
     "output_type": "stream",
     "text": [
      "[1, 4, 9, 16, 25, 36, 49, 64, 81, 100, 121, 144, 169, 196, 225, 256, 289, 324, 361, 400, 441, 484, 529, 576, 625, 676, 729, 784, 841, 900, 961, 1024, 1089, 1156, 1225, 1296, 1369, 1444, 1521, 1600, 1681, 1764, 1849, 1936, 2025, 2116, 2209, 2304, 2401, 2500, 2601, 2704, 2809, 2916, 3025, 3136, 3249, 3364, 3481, 3600, 3721, 3844, 3969, 4096, 4225, 4356, 4489, 4624, 4761, 4900, 5041, 5184, 5329, 5476, 5625, 5776, 5929, 6084, 6241, 6400, 6561, 6724, 6889, 7056, 7225, 7396, 7569, 7744, 7921, 8100, 8281, 8464, 8649, 8836, 9025, 9216, 9409, 9604, 9801, 10000]\n"
     ]
    }
   ],
   "source": [
    "#22\n",
    "squares = [num**2 for num in range(1, 101)]\n",
    "print(squares)\n"
   ]
  },
  {
   "cell_type": "code",
   "execution_count": 21,
   "id": "cd8195df",
   "metadata": {},
   "outputs": [
    {
     "name": "stdout",
     "output_type": "stream",
     "text": [
      "[2, 4, 6, 8, 10]\n"
     ]
    }
   ],
   "source": [
    "#23\n",
    "input_list = [1, 2, 3, 4, 5, 6, 7, 8, 9, 10]\n",
    "even_numbers = [num for num in input_list if num % 2 == 0]\n",
    "print(even_numbers)\n"
   ]
  },
  {
   "cell_type": "code",
   "execution_count": 23,
   "id": "905d2109",
   "metadata": {},
   "outputs": [
    {
     "name": "stdout",
     "output_type": "stream",
     "text": [
      "[32.0, 50.0, 68.0, 86.0, 122.0, 94.1]\n"
     ]
    }
   ],
   "source": [
    "#24\n",
    "celsius = [0, 10, 20, 30, 50, 34.5]\n",
    "fahrenheit = [(9/5 * temp + 32) for temp in celsius]\n",
    "print(fahrenheit)"
   ]
  },
  {
   "cell_type": "code",
   "execution_count": 25,
   "id": "5c9b43d5",
   "metadata": {},
   "outputs": [
    {
     "name": "stdout",
     "output_type": "stream",
     "text": [
      "[2, 20, 200, 4, 40, 400, 6, 60, 600]\n"
     ]
    }
   ],
   "source": [
    "#25\n",
    "list1 = [2, 4, 6]\n",
    "list2 = [1, 10, 100]\n",
    "product_list = [x * y for x in list1 for y in list2]\n",
    "print(product_list)"
   ]
  },
  {
   "cell_type": "code",
   "execution_count": null,
   "id": "8f606b96",
   "metadata": {},
   "outputs": [],
   "source": []
  }
 ],
 "metadata": {
  "kernelspec": {
   "display_name": "Python 3 (ipykernel)",
   "language": "python",
   "name": "python3"
  },
  "language_info": {
   "codemirror_mode": {
    "name": "ipython",
    "version": 3
   },
   "file_extension": ".py",
   "mimetype": "text/x-python",
   "name": "python",
   "nbconvert_exporter": "python",
   "pygments_lexer": "ipython3",
   "version": "3.10.9"
  }
 },
 "nbformat": 4,
 "nbformat_minor": 5
}
