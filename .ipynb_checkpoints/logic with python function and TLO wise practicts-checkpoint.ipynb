{
 "cells": [
  {
   "cell_type": "code",
   "execution_count": 1,
   "id": "83c0f24f",
   "metadata": {},
   "outputs": [],
   "source": [
    "#logic with python function"
   ]
  },
  {
   "cell_type": "code",
   "execution_count": 2,
   "id": "0c64452f",
   "metadata": {},
   "outputs": [
    {
     "data": {
      "text/plain": [
       "1"
      ]
     },
     "execution_count": 2,
     "metadata": {},
     "output_type": "execute_result"
    }
   ],
   "source": [
    "3%2"
   ]
  },
  {
   "cell_type": "code",
   "execution_count": 3,
   "id": "1d300546",
   "metadata": {},
   "outputs": [
    {
     "data": {
      "text/plain": [
       "20"
      ]
     },
     "execution_count": 3,
     "metadata": {},
     "output_type": "execute_result"
    }
   ],
   "source": [
    "20%21"
   ]
  },
  {
   "cell_type": "code",
   "execution_count": 4,
   "id": "8710cfd6",
   "metadata": {},
   "outputs": [
    {
     "data": {
      "text/plain": [
       "0"
      ]
     },
     "execution_count": 4,
     "metadata": {},
     "output_type": "execute_result"
    }
   ],
   "source": [
    "4%2"
   ]
  },
  {
   "cell_type": "code",
   "execution_count": 5,
   "id": "ad01b897",
   "metadata": {},
   "outputs": [
    {
     "data": {
      "text/plain": [
       "True"
      ]
     },
     "execution_count": 5,
     "metadata": {},
     "output_type": "execute_result"
    }
   ],
   "source": [
    "4%2==0"
   ]
  },
  {
   "cell_type": "code",
   "execution_count": 6,
   "id": "3292a352",
   "metadata": {},
   "outputs": [
    {
     "data": {
      "text/plain": [
       "False"
      ]
     },
     "execution_count": 6,
     "metadata": {},
     "output_type": "execute_result"
    }
   ],
   "source": [
    "5%2==0"
   ]
  },
  {
   "cell_type": "code",
   "execution_count": 12,
   "id": "1ff7c296",
   "metadata": {},
   "outputs": [
    {
     "data": {
      "text/plain": [
       "False"
      ]
     },
     "execution_count": 12,
     "metadata": {},
     "output_type": "execute_result"
    }
   ],
   "source": [
    "def even_check(num):\n",
    "    return num%2==0\n",
    "even_check(5)"
   ]
  },
  {
   "cell_type": "code",
   "execution_count": 28,
   "id": "de213aff",
   "metadata": {},
   "outputs": [
    {
     "data": {
      "text/plain": [
       "True"
      ]
     },
     "execution_count": 28,
     "metadata": {},
     "output_type": "execute_result"
    }
   ],
   "source": [
    "def check_even(num_list):\n",
    "    for number in num_list:\n",
    "        if number%2==0:\n",
    "            return True\n",
    "    else:\n",
    "        pass\n",
    "    return False\n",
    "check_even([1,2,4])"
   ]
  },
  {
   "cell_type": "code",
   "execution_count": 31,
   "id": "be8dd96c",
   "metadata": {},
   "outputs": [],
   "source": [
    "def check_even_list(num_list):\n",
    "    even_numbers = []#placeholder\n",
    "    for number in num_list:\n",
    "        if number%2==0:\n",
    "            even_numbers.append(number)\n",
    "        else:\n",
    "            pass \n",
    "        return even_numbers\n",
    "    check_even_list([1,4,5,6,9,7,12,13,14])"
   ]
  },
  {
   "cell_type": "code",
   "execution_count": 32,
   "id": "772ea758",
   "metadata": {},
   "outputs": [],
   "source": [
    "#function and tuple unpacking in python"
   ]
  },
  {
   "cell_type": "code",
   "execution_count": 36,
   "id": "2a56949b",
   "metadata": {},
   "outputs": [
    {
     "name": "stdout",
     "output_type": "stream",
     "text": [
      "('APPLE', 100)\n",
      "('GOOGLE', 400)\n",
      "('MICROSOFT', 800)\n"
     ]
    }
   ],
   "source": [
    "stock_prices=[('APPLE',100),('GOOGLE',400),('MICROSOFT',800)]\n",
    "for item in stock_prices:\n",
    "    print(item)"
   ]
  },
  {
   "cell_type": "code",
   "execution_count": 37,
   "id": "02f65f2b",
   "metadata": {},
   "outputs": [
    {
     "name": "stdout",
     "output_type": "stream",
     "text": [
      "110.0\n",
      "440.0\n",
      "880.0\n"
     ]
    }
   ],
   "source": [
    "for ticker,price in stock_prices:\n",
    "    print(price+(0.1*price))"
   ]
  },
  {
   "cell_type": "code",
   "execution_count": 46,
   "id": "6f248d38",
   "metadata": {},
   "outputs": [],
   "source": [
    "work_hours=[('Abby',400),('Sammy',800),('Andy',1200)]\n",
    "def employee_check(work_hours):\n",
    "    current_max=0\n",
    "    employee_of_month=''\n",
    "    for employee,hours in work_hours:\n",
    "        if hours>current_max:\n",
    "            current_max=hours\n",
    "            employee_of_month=employee\n",
    "        else:\n",
    "            pass\n",
    "        return(employee_of_month,current_max)\n",
    "    employee_check(work_hours)"
   ]
  },
  {
   "cell_type": "code",
   "execution_count": 47,
   "id": "b3e3df45",
   "metadata": {},
   "outputs": [],
   "source": [
    "result = employee_check(work_hours)"
   ]
  },
  {
   "cell_type": "code",
   "execution_count": 48,
   "id": "e5f63bea",
   "metadata": {},
   "outputs": [
    {
     "data": {
      "text/plain": [
       "('Abby', 400)"
      ]
     },
     "execution_count": 48,
     "metadata": {},
     "output_type": "execute_result"
    }
   ],
   "source": [
    "result"
   ]
  },
  {
   "cell_type": "code",
   "execution_count": 49,
   "id": "88c2c689",
   "metadata": {},
   "outputs": [],
   "source": [
    "#TLO 3 wise practice"
   ]
  },
  {
   "cell_type": "code",
   "execution_count": 50,
   "id": "3456cc12",
   "metadata": {},
   "outputs": [
    {
     "name": "stdout",
     "output_type": "stream",
     "text": [
      "pythonprogramming\n"
     ]
    }
   ],
   "source": [
    "#1. concatenate the two string and find the lingth of the concatenate string\n",
    "# Defining strings\n",
    "var1 = \"python\"\n",
    "var2 = \"programming\"\n",
    " \n",
    "# + Operator is used to combine strings\n",
    "var3 = var1 + var2\n",
    "print(var3)"
   ]
  },
  {
   "cell_type": "code",
   "execution_count": 52,
   "id": "1b2c179a",
   "metadata": {},
   "outputs": [
    {
     "data": {
      "text/plain": [
       "'pythonprogramming'"
      ]
     },
     "execution_count": 52,
     "metadata": {},
     "output_type": "execute_result"
    }
   ],
   "source": [
    "var3"
   ]
  },
  {
   "cell_type": "code",
   "execution_count": 54,
   "id": "00621ba7",
   "metadata": {},
   "outputs": [
    {
     "data": {
      "text/plain": [
       "17"
      ]
     },
     "execution_count": 54,
     "metadata": {},
     "output_type": "execute_result"
    }
   ],
   "source": [
    "len(var3)"
   ]
  },
  {
   "cell_type": "code",
   "execution_count": 56,
   "id": "856b96a4",
   "metadata": {},
   "outputs": [
    {
     "name": "stdout",
     "output_type": "stream",
     "text": [
      "value associated with key'B': 2\n"
     ]
    }
   ],
   "source": [
    "#2.use a dictionary to store the following key value pairs:{\"A\":1,\"B\":2,\"c\":3}\n",
    "my_dict={\"A\":1,\"B\":2,\"c\":3}\n",
    "value=my_dict.get(\"B\")\n",
    "print(\"value associated with key'B':\",value)"
   ]
  },
  {
   "cell_type": "code",
   "execution_count": 60,
   "id": "6c1ec461",
   "metadata": {},
   "outputs": [
    {
     "name": "stdout",
     "output_type": "stream",
     "text": [
      "length of the tuple: 5\n"
     ]
    }
   ],
   "source": [
    "#3.creat a tuple with the following elements:1,4,9,16,25.find the length of the tuple\n",
    "my_tuple=(1,4,9,16,25)\n",
    "length=len(my_tuple)\n",
    "print (\"length of the tuple:\",length)\n"
   ]
  },
  {
   "cell_type": "code",
   "execution_count": 62,
   "id": "84df4437",
   "metadata": {},
   "outputs": [
    {
     "name": "stdout",
     "output_type": "stream",
     "text": [
      "length of the set: 4\n"
     ]
    }
   ],
   "source": [
    "#4.creat a set with the some elements and find the length of the set\n",
    "my_set={1,2,3,4}\n",
    "length=len(my_set)\n",
    "print(\"length of the set:\",length)"
   ]
  },
  {
   "cell_type": "code",
   "execution_count": 64,
   "id": "f76a225c",
   "metadata": {},
   "outputs": [
    {
     "name": "stdout",
     "output_type": "stream",
     "text": [
      "maximum value: 9\n",
      "minimum value: 1\n"
     ]
    }
   ],
   "source": [
    "#5.find the maximum and minimun values in a list\n",
    "my_list=[4,6,2,9,1,3]\n",
    "max_value=max(my_list)\n",
    "min_value=min(my_list)\n",
    "print(\"maximum value:\",max_value)\n",
    "print(\"minimum value:\",min_value)"
   ]
  },
  {
   "cell_type": "code",
   "execution_count": 66,
   "id": "56583536",
   "metadata": {},
   "outputs": [
    {
     "name": "stdout",
     "output_type": "stream",
     "text": [
      "merged dictionary: {'A': 1, 'B': 2, 'C': 3, 'D': 4, 'E': 5, 'F': 6}\n"
     ]
    }
   ],
   "source": [
    "#6. merge two dictionaries\n",
    "dict1={\"A\":1,\"B\":2,\"C\":3}\n",
    "dict2={\"D\":4,\"E\":5,\"F\":6}\n",
    "merged_dict={**dict1,**dict2}\n",
    "print(\"merged dictionary:\",merged_dict)"
   ]
  },
  {
   "cell_type": "code",
   "execution_count": 67,
   "id": "1e3ef8ca",
   "metadata": {},
   "outputs": [
    {
     "name": "stdout",
     "output_type": "stream",
     "text": [
      "set without duplicates: {1, 2, 3, 4, 5}\n"
     ]
    }
   ],
   "source": [
    "#7.Remove duplicates from a list and creat a new set\n",
    "my_list=[1,2,3,4,5,2,3,4]\n",
    "unique_set=set(my_list)\n",
    "print(\"set without duplicates:\",unique_set)"
   ]
  },
  {
   "cell_type": "code",
   "execution_count": 68,
   "id": "4d68e53d",
   "metadata": {},
   "outputs": [],
   "source": [
    "#TLO 2 wise practice"
   ]
  },
  {
   "cell_type": "code",
   "execution_count": null,
   "id": "ed472d8b",
   "metadata": {},
   "outputs": [],
   "source": []
  }
 ],
 "metadata": {
  "kernelspec": {
   "display_name": "Python 3 (ipykernel)",
   "language": "python",
   "name": "python3"
  },
  "language_info": {
   "codemirror_mode": {
    "name": "ipython",
    "version": 3
   },
   "file_extension": ".py",
   "mimetype": "text/x-python",
   "name": "python",
   "nbconvert_exporter": "python",
   "pygments_lexer": "ipython3",
   "version": "3.10.9"
  }
 },
 "nbformat": 4,
 "nbformat_minor": 5
}
