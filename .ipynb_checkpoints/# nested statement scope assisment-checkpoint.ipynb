{
 "cells": [
  {
   "cell_type": "code",
   "execution_count": 1,
   "id": "3a525c63",
   "metadata": {},
   "outputs": [],
   "source": [
    "# nested statement scope assisment"
   ]
  },
  {
   "cell_type": "code",
   "execution_count": 5,
   "id": "8d881626",
   "metadata": {},
   "outputs": [],
   "source": [
    "#1.\n",
    "x = 45\n",
    "def printer():\n",
    "    x = 90\n",
    "    return x\n",
    "# print(x)\n",
    "# print(printer())\n"
   ]
  },
  {
   "cell_type": "code",
   "execution_count": 6,
   "id": "e07a0057",
   "metadata": {},
   "outputs": [
    {
     "name": "stdout",
     "output_type": "stream",
     "text": [
      "45\n"
     ]
    }
   ],
   "source": [
    "print(x)"
   ]
  },
  {
   "cell_type": "code",
   "execution_count": 7,
   "id": "b4c7d90f",
   "metadata": {},
   "outputs": [
    {
     "name": "stdout",
     "output_type": "stream",
     "text": [
      "90\n"
     ]
    }
   ],
   "source": [
    "print(printer())"
   ]
  },
  {
   "cell_type": "code",
   "execution_count": 8,
   "id": "18692345",
   "metadata": {},
   "outputs": [],
   "source": [
    "#L- LOCAL \n",
    "#E-ENCLOSING FUNCTION LOGICAL\n",
    "#G- GLOBAL\n",
    "#B-BUILD-IN"
   ]
  },
  {
   "cell_type": "code",
   "execution_count": 9,
   "id": "27c17dc9",
   "metadata": {},
   "outputs": [],
   "source": [
    "#LIMBDA NUM:NUM**2"
   ]
  },
  {
   "cell_type": "code",
   "execution_count": 14,
   "id": "33029f01",
   "metadata": {},
   "outputs": [],
   "source": [
    "name='ina a global'\n",
    "def greet():\n",
    "    name='Pramil'\n",
    "    def hello():\n",
    "        print('Hello '+name)\n",
    "    hello()"
   ]
  },
  {
   "cell_type": "code",
   "execution_count": 15,
   "id": "60b44da1",
   "metadata": {},
   "outputs": [
    {
     "name": "stdout",
     "output_type": "stream",
     "text": [
      "Hello Pramil\n"
     ]
    }
   ],
   "source": [
    "greet()"
   ]
  },
  {
   "cell_type": "code",
   "execution_count": 16,
   "id": "c2750868",
   "metadata": {},
   "outputs": [],
   "source": [
    "x=500\n",
    "def printer():\n",
    "    x=100\n",
    "    return x"
   ]
  },
  {
   "cell_type": "code",
   "execution_count": 17,
   "id": "5c6e9e83",
   "metadata": {},
   "outputs": [
    {
     "name": "stdout",
     "output_type": "stream",
     "text": [
      "500\n"
     ]
    }
   ],
   "source": [
    "print(x)"
   ]
  },
  {
   "cell_type": "code",
   "execution_count": 18,
   "id": "a50c72d1",
   "metadata": {},
   "outputs": [
    {
     "name": "stdout",
     "output_type": "stream",
     "text": [
      "100\n"
     ]
    }
   ],
   "source": [
    "print(printer())"
   ]
  },
  {
   "cell_type": "code",
   "execution_count": 21,
   "id": "477ef842",
   "metadata": {},
   "outputs": [],
   "source": [
    "#GLOBAL REASSIGNMENT\n",
    "X= 50\n",
    "def func(x):\n",
    "    print(F'x is {x}')\n",
    "    x = 'new value'\n",
    "    print(f'we just changed global x to {x}')\n",
    "    return x\n"
   ]
  },
  {
   "cell_type": "code",
   "execution_count": 22,
   "id": "aba1cfa3",
   "metadata": {},
   "outputs": [
    {
     "name": "stdout",
     "output_type": "stream",
     "text": [
      "500\n"
     ]
    }
   ],
   "source": [
    "print(x)"
   ]
  },
  {
   "cell_type": "code",
   "execution_count": 23,
   "id": "4b600448",
   "metadata": {},
   "outputs": [
    {
     "name": "stdout",
     "output_type": "stream",
     "text": [
      "x is 500\n",
      "we just changed global x to new value\n"
     ]
    }
   ],
   "source": [
    "x=func(x)"
   ]
  },
  {
   "cell_type": "code",
   "execution_count": 24,
   "id": "a7704bfa",
   "metadata": {},
   "outputs": [
    {
     "name": "stdout",
     "output_type": "stream",
     "text": [
      "new value\n"
     ]
    }
   ],
   "source": [
    "print(x)"
   ]
  },
  {
   "cell_type": "code",
   "execution_count": 25,
   "id": "b5f2a8e5",
   "metadata": {},
   "outputs": [
    {
     "name": "stdout",
     "output_type": "stream",
     "text": [
      "Help on built-in function len in module builtins:\n",
      "\n",
      "len(obj, /)\n",
      "    Return the number of items in a container.\n",
      "\n"
     ]
    }
   ],
   "source": [
    "help(len)"
   ]
  },
  {
   "cell_type": "code",
   "execution_count": null,
   "id": "764ba43b",
   "metadata": {},
   "outputs": [],
   "source": []
  }
 ],
 "metadata": {
  "kernelspec": {
   "display_name": "Python 3 (ipykernel)",
   "language": "python",
   "name": "python3"
  },
  "language_info": {
   "codemirror_mode": {
    "name": "ipython",
    "version": 3
   },
   "file_extension": ".py",
   "mimetype": "text/x-python",
   "name": "python",
   "nbconvert_exporter": "python",
   "pygments_lexer": "ipython3",
   "version": "3.10.9"
  }
 },
 "nbformat": 4,
 "nbformat_minor": 5
}
